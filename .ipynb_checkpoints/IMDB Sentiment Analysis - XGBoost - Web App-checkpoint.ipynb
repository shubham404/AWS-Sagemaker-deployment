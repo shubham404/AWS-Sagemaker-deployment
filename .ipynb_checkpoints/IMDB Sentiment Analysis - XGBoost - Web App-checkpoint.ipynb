{
 "cells": [
  {
   "cell_type": "markdown",
   "metadata": {},
   "source": [
    "# Sentiment Analysis Web App\n",
    "\n",
    "_Deep Learning Nanodegree Program | Deployment_\n",
    "\n",
    "---\n",
    "\n",
    "In this notebook we will use Amazon's SageMaker service to construct a random tree model to predict the sentiment of a movie review. In addition, we will deploy this model to an endpoint and construct a very simple web app which will interact with our model's deployed endpoint.\n",
    "\n",
    "## General Outline\n",
    "\n",
    "Typically, when using a notebook instance with SageMaker, you will proceed through the following steps. Of course, not every step will need to be done with each project. Also, there is quite a lot of room for variation in many of the steps, as you will see throughout these lessons.\n",
    "\n",
    "1. Download or otherwise retrieve the data.\n",
    "2. Process / Prepare the data.\n",
    "3. Upload the processed data to S3.\n",
    "4. Train a chosen model.\n",
    "5. Test the trained model (typically using a batch transform job).\n",
    "6. Deploy the trained model.\n",
    "7. Use the deployed model.\n",
    "\n",
    "In this notebook we will progress through each of the steps above. We will also see that the final step, using the deployed model, can be quite challenging."
   ]
  },
  {
   "cell_type": "markdown",
   "metadata": {},
   "source": [
    "## Step 1: Downloading the data\n",
    "\n",
    "The dataset we are going to use is very popular among researchers in Natural Language Processing, usually referred to as the [IMDb dataset](http://ai.stanford.edu/~amaas/data/sentiment/). It consists of movie reviews from the website [imdb.com](http://www.imdb.com/), each labeled as either '**pos**itive', if the reviewer enjoyed the film, or '**neg**ative' otherwise.\n",
    "\n",
    "> Maas, Andrew L., et al. [Learning Word Vectors for Sentiment Analysis](http://ai.stanford.edu/~amaas/data/sentiment/). In _Proceedings of the 49th Annual Meeting of the Association for Computational Linguistics: Human Language Technologies_. Association for Computational Linguistics, 2011.\n",
    "\n",
    "We begin by using some Jupyter Notebook magic to download and extract the dataset."
   ]
  },
  {
   "cell_type": "code",
   "execution_count": 1,
   "metadata": {},
   "outputs": [
    {
     "name": "stdout",
     "output_type": "stream",
     "text": [
      "mkdir: cannot create directory ‘../data’: File exists\n",
      "--2020-07-25 20:45:09--  http://ai.stanford.edu/~amaas/data/sentiment/aclImdb_v1.tar.gz\n",
      "Resolving ai.stanford.edu (ai.stanford.edu)... 171.64.68.10\n",
      "Connecting to ai.stanford.edu (ai.stanford.edu)|171.64.68.10|:80... connected.\n",
      "HTTP request sent, awaiting response... 200 OK\n",
      "Length: 84125825 (80M) [application/x-gzip]\n",
      "Saving to: ‘../data/aclImdb_v1.tar.gz’\n",
      "\n",
      "../data/aclImdb_v1. 100%[===================>]  80.23M  12.2MB/s    in 12s     \n",
      "\n",
      "2020-07-25 20:45:22 (6.84 MB/s) - ‘../data/aclImdb_v1.tar.gz’ saved [84125825/84125825]\n",
      "\n"
     ]
    }
   ],
   "source": [
    "%mkdir ../data\n",
    "!wget -O ../data/aclImdb_v1.tar.gz http://ai.stanford.edu/~amaas/data/sentiment/aclImdb_v1.tar.gz\n",
    "!tar -zxf ../data/aclImdb_v1.tar.gz -C ../data"
   ]
  },
  {
   "cell_type": "markdown",
   "metadata": {},
   "source": [
    "## Step 2: Preparing and Processing the data\n",
    "\n",
    "The data we have downloaded is split into various files, each of which contains a single review. It will be much easier going forward if we combine these individual files into two large files, one for training and one for testing."
   ]
  },
  {
   "cell_type": "code",
   "execution_count": 2,
   "metadata": {},
   "outputs": [],
   "source": [
    "import os\n",
    "import glob\n",
    "\n",
    "def read_imdb_data(data_dir='../data/aclImdb'):\n",
    "    data = {}\n",
    "    labels = {}\n",
    "    \n",
    "    for data_type in ['train', 'test']:\n",
    "        data[data_type] = {}\n",
    "        labels[data_type] = {}\n",
    "        \n",
    "        for sentiment in ['pos', 'neg']:\n",
    "            data[data_type][sentiment] = []\n",
    "            labels[data_type][sentiment] = []\n",
    "            \n",
    "            path = os.path.join(data_dir, data_type, sentiment, '*.txt')\n",
    "            files = glob.glob(path)\n",
    "            \n",
    "            for f in files:\n",
    "                with open(f) as review:\n",
    "                    data[data_type][sentiment].append(review.read())\n",
    "                    # Here we represent a positive review by '1' and a negative review by '0'\n",
    "                    labels[data_type][sentiment].append(1 if sentiment == 'pos' else 0)\n",
    "                    \n",
    "            assert len(data[data_type][sentiment]) == len(labels[data_type][sentiment]), \\\n",
    "                    \"{}/{} data size does not match labels size\".format(data_type, sentiment)\n",
    "                \n",
    "    return data, labels"
   ]
  },
  {
   "cell_type": "code",
   "execution_count": 3,
   "metadata": {},
   "outputs": [
    {
     "name": "stdout",
     "output_type": "stream",
     "text": [
      "IMDB reviews: train = 12500 pos / 12500 neg, test = 12500 pos / 12500 neg\n"
     ]
    }
   ],
   "source": [
    "data, labels = read_imdb_data()\n",
    "print(\"IMDB reviews: train = {} pos / {} neg, test = {} pos / {} neg\".format(\n",
    "            len(data['train']['pos']), len(data['train']['neg']),\n",
    "            len(data['test']['pos']), len(data['test']['neg'])))"
   ]
  },
  {
   "cell_type": "code",
   "execution_count": 4,
   "metadata": {},
   "outputs": [],
   "source": [
    "from sklearn.utils import shuffle\n",
    "\n",
    "def prepare_imdb_data(data, labels):\n",
    "    \"\"\"Prepare training and test sets from IMDb movie reviews.\"\"\"\n",
    "    \n",
    "    #Combine positive and negative reviews and labels\n",
    "    data_train = data['train']['pos'] + data['train']['neg']\n",
    "    data_test = data['test']['pos'] + data['test']['neg']\n",
    "    labels_train = labels['train']['pos'] + labels['train']['neg']\n",
    "    labels_test = labels['test']['pos'] + labels['test']['neg']\n",
    "    \n",
    "    #Shuffle reviews and corresponding labels within training and test sets\n",
    "    data_train, labels_train = shuffle(data_train, labels_train)\n",
    "    data_test, labels_test = shuffle(data_test, labels_test)\n",
    "    \n",
    "    # Return a unified training data, test data, training labels, test labets\n",
    "    return data_train, data_test, labels_train, labels_test"
   ]
  },
  {
   "cell_type": "code",
   "execution_count": 5,
   "metadata": {},
   "outputs": [
    {
     "name": "stdout",
     "output_type": "stream",
     "text": [
      "IMDb reviews (combined): train = 25000, test = 25000\n"
     ]
    }
   ],
   "source": [
    "train_X, test_X, train_y, test_y = prepare_imdb_data(data, labels)\n",
    "print(\"IMDb reviews (combined): train = {}, test = {}\".format(len(train_X), len(test_X)))"
   ]
  },
  {
   "cell_type": "code",
   "execution_count": 6,
   "metadata": {},
   "outputs": [
    {
     "data": {
      "text/plain": [
       "\"The film starts with a manager (Nicholas Bell) giving welcome investors (Robert Carradine) to Primal Park . A secret project mutating a primal animal using fossilized DNA, like ¨Jurassik Park¨, and some scientists resurrect one of nature's most fearsome predators, the Sabretooth tiger or Smilodon . Scientific ambition turns deadly, however, and when the high voltage fence is opened the creature escape and begins savagely stalking its prey - the human visitors , tourists and scientific.Meanwhile some youngsters enter in the restricted area of the security center and are attacked by a pack of large pre-historical animals which are deadlier and bigger . In addition , a security agent (Stacy Haiduk) and her mate (Brian Wimmer) fight hardly against the carnivorous Smilodons. The Sabretooths, themselves , of course, are the real star stars and they are astounding terrifyingly though not convincing. The giant animals savagely are stalking its prey and the group run afoul and fight against one nature's most fearsome predators. Furthermore a third Sabretooth more dangerous and slow stalks its victims.<br /><br />The movie delivers the goods with lots of blood and gore as beheading, hair-raising chills,full of scares when the Sabretooths appear with mediocre special effects.The story provides exciting and stirring entertainment but it results to be quite boring .The giant animals are majority made by computer generator and seem totally lousy .Middling performances though the players reacting appropriately to becoming food.Actors give vigorously physical performances dodging the beasts ,running,bound and leaps or dangling over walls . And it packs a ridiculous final deadly scene. No for small kids by realistic,gory and violent attack scenes . Other films about Sabretooths or Smilodon are the following : ¨Sabretooth(2002)¨by James R Hickox with Vanessa Angel, David Keith and John Rhys Davies and the much better ¨10.000 BC(2006)¨ by Roland Emmerich with with Steven Strait, Cliff Curtis and Camilla Belle. This motion picture filled with bloody moments is badly directed by George Miller and with no originality because takes too many elements from previous films. Miller is an Australian director usually working for television (Tidal wave, Journey to the center of the earth, and many others) and occasionally for cinema ( The man from Snowy river, Zeus and Roxanne,Robinson Crusoe ). Rating : Below average, bottom of barrel.\""
      ]
     },
     "execution_count": 6,
     "metadata": {},
     "output_type": "execute_result"
    }
   ],
   "source": [
    "train_X[100]"
   ]
  },
  {
   "cell_type": "markdown",
   "metadata": {},
   "source": [
    "## Processing the data\n",
    "\n",
    "Now that we have our training and testing datasets merged and ready to use, we need to start processing the raw data into something that will be useable by our machine learning algorithm. To begin with, we remove any html formatting and any non-alpha numeric characters that may appear in the reviews. We will do this in a very simplistic way using Python's regular expression module. We will discuss the reason for this rather simplistic pre-processing later on."
   ]
  },
  {
   "cell_type": "code",
   "execution_count": 7,
   "metadata": {},
   "outputs": [],
   "source": [
    "import re\n",
    "\n",
    "REPLACE_NO_SPACE = re.compile(\"(\\.)|(\\;)|(\\:)|(\\!)|(\\')|(\\?)|(\\,)|(\\\")|(\\()|(\\))|(\\[)|(\\])\")\n",
    "REPLACE_WITH_SPACE = re.compile(\"(<br\\s*/><br\\s*/>)|(\\-)|(\\/)\")\n",
    "\n",
    "def review_to_words(review):\n",
    "    words = REPLACE_NO_SPACE.sub(\"\", review.lower())\n",
    "    words = REPLACE_WITH_SPACE.sub(\" \", words)\n",
    "    return words"
   ]
  },
  {
   "cell_type": "code",
   "execution_count": 8,
   "metadata": {},
   "outputs": [
    {
     "data": {
      "text/plain": [
       "'the film starts with a manager nicholas bell giving welcome investors robert carradine to primal park  a secret project mutating a primal animal using fossilized dna like ¨jurassik park¨ and some scientists resurrect one of natures most fearsome predators the sabretooth tiger or smilodon  scientific ambition turns deadly however and when the high voltage fence is opened the creature escape and begins savagely stalking its prey   the human visitors  tourists and scientificmeanwhile some youngsters enter in the restricted area of the security center and are attacked by a pack of large pre historical animals which are deadlier and bigger  in addition  a security agent stacy haiduk and her mate brian wimmer fight hardly against the carnivorous smilodons the sabretooths themselves  of course are the real star stars and they are astounding terrifyingly though not convincing the giant animals savagely are stalking its prey and the group run afoul and fight against one natures most fearsome predators furthermore a third sabretooth more dangerous and slow stalks its victims the movie delivers the goods with lots of blood and gore as beheading hair raising chillsfull of scares when the sabretooths appear with mediocre special effectsthe story provides exciting and stirring entertainment but it results to be quite boring the giant animals are majority made by computer generator and seem totally lousy middling performances though the players reacting appropriately to becoming foodactors give vigorously physical performances dodging the beasts runningbound and leaps or dangling over walls  and it packs a ridiculous final deadly scene no for small kids by realisticgory and violent attack scenes  other films about sabretooths or smilodon are the following  ¨sabretooth2002¨by james r hickox with vanessa angel david keith and john rhys davies and the much better ¨10000 bc2006¨ by roland emmerich with with steven strait cliff curtis and camilla belle this motion picture filled with bloody moments is badly directed by george miller and with no originality because takes too many elements from previous films miller is an australian director usually working for television tidal wave journey to the center of the earth and many others and occasionally for cinema  the man from snowy river zeus and roxannerobinson crusoe  rating  below average bottom of barrel'"
      ]
     },
     "execution_count": 8,
     "metadata": {},
     "output_type": "execute_result"
    }
   ],
   "source": [
    "review_to_words(train_X[100])"
   ]
  },
  {
   "cell_type": "code",
   "execution_count": 9,
   "metadata": {},
   "outputs": [],
   "source": [
    "import pickle\n",
    "\n",
    "cache_dir = os.path.join(\"../cache\", \"sentiment_web_app\")  # where to store cache files\n",
    "os.makedirs(cache_dir, exist_ok=True)  # ensure cache directory exists\n",
    "\n",
    "def preprocess_data(data_train, data_test, labels_train, labels_test,\n",
    "                    cache_dir=cache_dir, cache_file=\"preprocessed_data.pkl\"):\n",
    "    \"\"\"Convert each review to words; read from cache if available.\"\"\"\n",
    "\n",
    "    # If cache_file is not None, try to read from it first\n",
    "    cache_data = None\n",
    "    if cache_file is not None:\n",
    "        try:\n",
    "            with open(os.path.join(cache_dir, cache_file), \"rb\") as f:\n",
    "                cache_data = pickle.load(f)\n",
    "            print(\"Read preprocessed data from cache file:\", cache_file)\n",
    "        except:\n",
    "            pass  # unable to read from cache, but that's okay\n",
    "    \n",
    "    # If cache is missing, then do the heavy lifting\n",
    "    if cache_data is None:\n",
    "        # Preprocess training and test data to obtain words for each review\n",
    "        #words_train = list(map(review_to_words, data_train))\n",
    "        #words_test = list(map(review_to_words, data_test))\n",
    "        words_train = [review_to_words(review) for review in data_train]\n",
    "        words_test = [review_to_words(review) for review in data_test]\n",
    "        \n",
    "        # Write to cache file for future runs\n",
    "        if cache_file is not None:\n",
    "            cache_data = dict(words_train=words_train, words_test=words_test,\n",
    "                              labels_train=labels_train, labels_test=labels_test)\n",
    "            with open(os.path.join(cache_dir, cache_file), \"wb\") as f:\n",
    "                pickle.dump(cache_data, f)\n",
    "            print(\"Wrote preprocessed data to cache file:\", cache_file)\n",
    "    else:\n",
    "        # Unpack data loaded from cache file\n",
    "        words_train, words_test, labels_train, labels_test = (cache_data['words_train'],\n",
    "                cache_data['words_test'], cache_data['labels_train'], cache_data['labels_test'])\n",
    "    \n",
    "    return words_train, words_test, labels_train, labels_test"
   ]
  },
  {
   "cell_type": "code",
   "execution_count": 10,
   "metadata": {},
   "outputs": [
    {
     "name": "stdout",
     "output_type": "stream",
     "text": [
      "Wrote preprocessed data to cache file: preprocessed_data.pkl\n"
     ]
    }
   ],
   "source": [
    "# Preprocess data\n",
    "train_X, test_X, train_y, test_y = preprocess_data(train_X, test_X, train_y, test_y)"
   ]
  },
  {
   "cell_type": "markdown",
   "metadata": {},
   "source": [
    "### Extract Bag-of-Words features\n",
    "\n",
    "For the model we will be implementing, rather than using the reviews directly, we are going to transform each review into a Bag-of-Words feature representation. Keep in mind that 'in the wild' we will only have access to the training set so our transformer can only use the training set to construct a representation."
   ]
  },
  {
   "cell_type": "code",
   "execution_count": 11,
   "metadata": {},
   "outputs": [
    {
     "name": "stderr",
     "output_type": "stream",
     "text": [
      "/home/ec2-user/anaconda3/envs/python3/lib/python3.6/site-packages/sklearn/externals/joblib/__init__.py:15: FutureWarning: sklearn.externals.joblib is deprecated in 0.21 and will be removed in 0.23. Please import this functionality directly from joblib, which can be installed with: pip install joblib. If this warning is raised when loading pickled models, you may need to re-serialize those models with scikit-learn 0.21+.\n",
      "  warnings.warn(msg, category=FutureWarning)\n"
     ]
    }
   ],
   "source": [
    "import numpy as np\n",
    "from sklearn.feature_extraction.text import CountVectorizer\n",
    "from sklearn.externals import joblib\n",
    "# joblib is an enhanced version of pickle that is more efficient for storing NumPy arrays\n",
    "\n",
    "def extract_BoW_features(words_train, words_test, vocabulary_size=5000,\n",
    "                         cache_dir=cache_dir, cache_file=\"bow_features.pkl\"):\n",
    "    \"\"\"Extract Bag-of-Words for a given set of documents, already preprocessed into words.\"\"\"\n",
    "    \n",
    "    # If cache_file is not None, try to read from it first\n",
    "    cache_data = None\n",
    "    if cache_file is not None:\n",
    "        try:\n",
    "            with open(os.path.join(cache_dir, cache_file), \"rb\") as f:\n",
    "                cache_data = joblib.load(f)\n",
    "            print(\"Read features from cache file:\", cache_file)\n",
    "        except:\n",
    "            pass  # unable to read from cache, but that's okay\n",
    "    \n",
    "    # If cache is missing, then do the heavy lifting\n",
    "    if cache_data is None:\n",
    "        # Fit a vectorizer to training documents and use it to transform them\n",
    "        # NOTE: Training documents have already been preprocessed and tokenized into words;\n",
    "        #       pass in dummy functions to skip those steps, e.g. preprocessor=lambda x: x\n",
    "        vectorizer = CountVectorizer(max_features=vocabulary_size)\n",
    "        features_train = vectorizer.fit_transform(words_train).toarray()\n",
    "\n",
    "        # Apply the same vectorizer to transform the test documents (ignore unknown words)\n",
    "        features_test = vectorizer.transform(words_test).toarray()\n",
    "        \n",
    "        # NOTE: Remember to convert the features using .toarray() for a compact representation\n",
    "        \n",
    "        # Write to cache file for future runs (store vocabulary as well)\n",
    "        if cache_file is not None:\n",
    "            vocabulary = vectorizer.vocabulary_\n",
    "            cache_data = dict(features_train=features_train, features_test=features_test,\n",
    "                             vocabulary=vocabulary)\n",
    "            with open(os.path.join(cache_dir, cache_file), \"wb\") as f:\n",
    "                joblib.dump(cache_data, f)\n",
    "            print(\"Wrote features to cache file:\", cache_file)\n",
    "    else:\n",
    "        # Unpack data loaded from cache file\n",
    "        features_train, features_test, vocabulary = (cache_data['features_train'],\n",
    "                cache_data['features_test'], cache_data['vocabulary'])\n",
    "    \n",
    "    # Return both the extracted features as well as the vocabulary\n",
    "    return features_train, features_test, vocabulary"
   ]
  },
  {
   "cell_type": "code",
   "execution_count": 12,
   "metadata": {},
   "outputs": [
    {
     "name": "stdout",
     "output_type": "stream",
     "text": [
      "Wrote features to cache file: bow_features.pkl\n"
     ]
    }
   ],
   "source": [
    "# Extract Bag of Words features for both training and test datasets\n",
    "train_X, test_X, vocabulary = extract_BoW_features(train_X, test_X)"
   ]
  },
  {
   "cell_type": "code",
   "execution_count": 13,
   "metadata": {},
   "outputs": [
    {
     "data": {
      "text/plain": [
       "5000"
      ]
     },
     "execution_count": 13,
     "metadata": {},
     "output_type": "execute_result"
    }
   ],
   "source": [
    "len(train_X[100])"
   ]
  },
  {
   "cell_type": "markdown",
   "metadata": {},
   "source": [
    "## Step 3: Upload data to S3\n",
    "\n",
    "Now that we have created the feature representation of our training (and testing) data, it is time to start setting up and using the XGBoost classifier provided by SageMaker.\n",
    "\n",
    "### Writing the datasets\n",
    "\n",
    "The XGBoost classifier that we will be using requires the dataset to be written to a file and stored using Amazon S3. To do this, we will start by splitting the training dataset into two parts, the data we will train the model with and a validation set. Then, we will write those datasets to a file locally and then upload the files to S3. In addition, we will write the test set to a file and upload that file to S3. This is so that we can use SageMakers Batch Transform functionality to test our model once we've fit it."
   ]
  },
  {
   "cell_type": "code",
   "execution_count": 14,
   "metadata": {},
   "outputs": [],
   "source": [
    "import pandas as pd\n",
    "\n",
    "# Earlier we shuffled the training dataset so to make things simple we can just assign\n",
    "# the first 10 000 reviews to the validation set and use the remaining reviews for training.\n",
    "val_X = pd.DataFrame(train_X[:10000])\n",
    "train_X = pd.DataFrame(train_X[10000:])\n",
    "\n",
    "val_y = pd.DataFrame(train_y[:10000])\n",
    "train_y = pd.DataFrame(train_y[10000:])"
   ]
  },
  {
   "cell_type": "markdown",
   "metadata": {},
   "source": [
    "The documentation for the XGBoost algorithm in SageMaker requires that the training and validation datasets should contain no headers or index and that the label should occur first for each sample.\n",
    "\n",
    "For more information about this and other algorithms, the SageMaker developer documentation can be found on __[Amazon's website.](https://docs.aws.amazon.com/sagemaker/latest/dg/)__"
   ]
  },
  {
   "cell_type": "code",
   "execution_count": 15,
   "metadata": {},
   "outputs": [],
   "source": [
    "# First we make sure that the local directory in which we'd like to store the training and validation csv files exists.\n",
    "data_dir = '../data/sentiment_web_app'\n",
    "if not os.path.exists(data_dir):\n",
    "    os.makedirs(data_dir)"
   ]
  },
  {
   "cell_type": "code",
   "execution_count": 16,
   "metadata": {},
   "outputs": [],
   "source": [
    "pd.DataFrame(test_X).to_csv(os.path.join(data_dir, 'test.csv'), header=False, index=False)\n",
    "\n",
    "pd.concat([val_y, val_X], axis=1).to_csv(os.path.join(data_dir, 'validation.csv'), header=False, index=False)\n",
    "pd.concat([train_y, train_X], axis=1).to_csv(os.path.join(data_dir, 'train.csv'), header=False, index=False)"
   ]
  },
  {
   "cell_type": "code",
   "execution_count": 17,
   "metadata": {},
   "outputs": [],
   "source": [
    "# To save a bit of memory we can set text_X, train_X, val_X, train_y and val_y to None.\n",
    "\n",
    "test_X = train_X = val_X = train_y = val_y = None"
   ]
  },
  {
   "cell_type": "markdown",
   "metadata": {},
   "source": [
    "### Uploading Training / Validation files to S3\n",
    "\n",
    "Amazon's S3 service allows us to store files that can be accessed by both the built-in training models such as the XGBoost model we will be using as well as custom models such as the one we will see a little later.\n",
    "\n",
    "For this and most other tasks we will be doing using SageMaker, there are two methods we could use. The first is to use the low level functionality of SageMaker which requires knowing each of the objects involved in the SageMaker environment. The second is to use the high level functionality in which certain choices have been made on the user's behalf. The low level approach benefits from allowing the user a great deal of flexibility while the high level approach makes development much quicker. For our purposes we will opt to use the high level approach although using the low-level approach is certainly an option.\n",
    "\n",
    "Recall the method `upload_data()` which is a member of the object representing our current SageMaker session. What this method does is upload the data to the default bucket (which is created if it does not exist) into the path described by the key_prefix variable. To see this for yourself, once you have uploaded the data files, go to the S3 console and look to see where the files have been uploaded.\n",
    "\n",
    "For additional resources, see the __[SageMaker API documentation](http://sagemaker.readthedocs.io/en/latest/)__ and in addition the __[SageMaker Developer Guide.](https://docs.aws.amazon.com/sagemaker/latest/dg/)__"
   ]
  },
  {
   "cell_type": "code",
   "execution_count": 18,
   "metadata": {},
   "outputs": [],
   "source": [
    "import sagemaker\n",
    "\n",
    "session = sagemaker.Session() # Store the current SageMaker session\n",
    "\n",
    "# S3 prefix (which folder will we use)\n",
    "prefix = 'sentiment-web-app'\n",
    "\n",
    "test_location = session.upload_data(os.path.join(data_dir, 'test.csv'), key_prefix=prefix)\n",
    "val_location = session.upload_data(os.path.join(data_dir, 'validation.csv'), key_prefix=prefix)\n",
    "train_location = session.upload_data(os.path.join(data_dir, 'train.csv'), key_prefix=prefix)"
   ]
  },
  {
   "cell_type": "markdown",
   "metadata": {},
   "source": [
    "## Step 4: Creating the XGBoost model\n",
    "\n",
    "Now that the data has been uploaded it is time to create the XGBoost model. To begin with, we need to do some setup. At this point it is worth discussing what a model is in SageMaker. It is easiest to think of a model of comprising three different objects in the SageMaker ecosystem, which interact with one another.\n",
    "\n",
    "- Model Artifacts\n",
    "- Training Code (Container)\n",
    "- Inference Code (Container)\n",
    "\n",
    "The Model Artifacts are what you might think of as the actual model itself. For example, if you were building a neural network, the model artifacts would be the weights of the various layers. In our case, for an XGBoost model, the artifacts are the actual trees that are created during training.\n",
    "\n",
    "The other two objects, the training code and the inference code are then used to manipulate the training artifacts. More precisely, the training code uses the training data that is provided and creates the model artifacts, while the inference code uses the model artifacts to make predictions on new data.\n",
    "\n",
    "The way that SageMaker runs the training and inference code is by making use of Docker containers. For now, think of a container as being a way of packaging code up so that dependencies aren't an issue."
   ]
  },
  {
   "cell_type": "code",
   "execution_count": 19,
   "metadata": {},
   "outputs": [],
   "source": [
    "from sagemaker import get_execution_role\n",
    "\n",
    "# Our current execution role is required when creating the model as the training\n",
    "# and inference code will need to access the model artifacts.\n",
    "role = get_execution_role()"
   ]
  },
  {
   "cell_type": "code",
   "execution_count": 20,
   "metadata": {},
   "outputs": [
    {
     "name": "stderr",
     "output_type": "stream",
     "text": [
      "'get_image_uri' method will be deprecated in favor of 'ImageURIProvider' class in SageMaker Python SDK v2.\n",
      "WARNING:root:There is a more up to date SageMaker XGBoost image. To use the newer image, please set 'repo_version'='1.0-1'. For example:\n",
      "\tget_image_uri(region, 'xgboost', '1.0-1').\n"
     ]
    }
   ],
   "source": [
    "# We need to retrieve the location of the container which is provided by Amazon for using XGBoost.\n",
    "# As a matter of convenience, the training and inference code both use the same container.\n",
    "from sagemaker.amazon.amazon_estimator import get_image_uri\n",
    "\n",
    "container = get_image_uri(session.boto_region_name, 'xgboost')"
   ]
  },
  {
   "cell_type": "code",
   "execution_count": 21,
   "metadata": {},
   "outputs": [
    {
     "name": "stderr",
     "output_type": "stream",
     "text": [
      "WARNING:root:Parameter image_name will be renamed to image_uri in SageMaker Python SDK v2.\n"
     ]
    }
   ],
   "source": [
    "# First we create a SageMaker estimator object for our model.\n",
    "xgb = sagemaker.estimator.Estimator(container, # The location of the container we wish to use\n",
    "                                    role,                                    # What is our current IAM Role\n",
    "                                    train_instance_count=1,                  # How many compute instances\n",
    "                                    train_instance_type='ml.m4.xlarge',      # What kind of compute instances\n",
    "                                    output_path='s3://{}/{}/output'.format(session.default_bucket(), prefix),\n",
    "                                    sagemaker_session=session)\n",
    "\n",
    "# And then set the algorithm specific parameters.\n",
    "xgb.set_hyperparameters(max_depth=5,\n",
    "                        eta=0.2,\n",
    "                        gamma=4,\n",
    "                        min_child_weight=6,\n",
    "                        subsample=0.8,\n",
    "                        silent=0,\n",
    "                        objective='binary:logistic',\n",
    "                        early_stopping_rounds=10,\n",
    "                        num_round=500)"
   ]
  },
  {
   "cell_type": "markdown",
   "metadata": {},
   "source": [
    "### Fit the XGBoost model\n",
    "\n",
    "Now that our model has been set up we simply need to attach the training and validation datasets and then ask SageMaker to set up the computation."
   ]
  },
  {
   "cell_type": "code",
   "execution_count": 22,
   "metadata": {},
   "outputs": [
    {
     "name": "stderr",
     "output_type": "stream",
     "text": [
      "WARNING:sagemaker:'s3_input' class will be renamed to 'TrainingInput' in SageMaker Python SDK v2.\n",
      "WARNING:sagemaker:'s3_input' class will be renamed to 'TrainingInput' in SageMaker Python SDK v2.\n"
     ]
    }
   ],
   "source": [
    "s3_input_train = sagemaker.s3_input(s3_data=train_location, content_type='csv')\n",
    "s3_input_validation = sagemaker.s3_input(s3_data=val_location, content_type='csv')"
   ]
  },
  {
   "cell_type": "code",
   "execution_count": 23,
   "metadata": {},
   "outputs": [
    {
     "name": "stdout",
     "output_type": "stream",
     "text": [
      "2020-07-25 20:47:08 Starting - Starting the training job...\n",
      "2020-07-25 20:47:10 Starting - Launching requested ML instances......\n",
      "2020-07-25 20:48:11 Starting - Preparing the instances for training......\n",
      "2020-07-25 20:49:38 Downloading - Downloading input data\n",
      "2020-07-25 20:49:38 Training - Downloading the training image...\n",
      "2020-07-25 20:49:58 Training - Training image download completed. Training in progress.\u001b[34mArguments: train\u001b[0m\n",
      "\u001b[34m[2020-07-25:20:49:59:INFO] Running standalone xgboost training.\u001b[0m\n",
      "\u001b[34m[2020-07-25:20:49:59:INFO] File size need to be processed in the node: 238.5mb. Available memory size in the node: 8479.72mb\u001b[0m\n",
      "\u001b[34m[2020-07-25:20:49:59:INFO] Determined delimiter of CSV input is ','\u001b[0m\n",
      "\u001b[34m[20:49:59] S3DistributionType set as FullyReplicated\u001b[0m\n",
      "\u001b[34m[20:50:01] 15000x5000 matrix with 75000000 entries loaded from /opt/ml/input/data/train?format=csv&label_column=0&delimiter=,\u001b[0m\n",
      "\u001b[34m[2020-07-25:20:50:01:INFO] Determined delimiter of CSV input is ','\u001b[0m\n",
      "\u001b[34m[20:50:01] S3DistributionType set as FullyReplicated\u001b[0m\n",
      "\u001b[34m[20:50:02] 10000x5000 matrix with 50000000 entries loaded from /opt/ml/input/data/validation?format=csv&label_column=0&delimiter=,\u001b[0m\n",
      "\u001b[34m[20:50:05] src/tree/updater_prune.cc:74: tree pruning end, 1 roots, 40 extra nodes, 8 pruned nodes, max_depth=5\u001b[0m\n",
      "\u001b[34m[0]#011train-error:0.306333#011validation-error:0.3039\u001b[0m\n",
      "\u001b[34mMultiple eval metrics have been passed: 'validation-error' will be used for early stopping.\n",
      "\u001b[0m\n",
      "\u001b[34mWill train until validation-error hasn't improved in 10 rounds.\u001b[0m\n",
      "\u001b[34m[20:50:06] src/tree/updater_prune.cc:74: tree pruning end, 1 roots, 40 extra nodes, 6 pruned nodes, max_depth=5\u001b[0m\n",
      "\u001b[34m[1]#011train-error:0.285933#011validation-error:0.2836\u001b[0m\n",
      "\u001b[34m[20:50:08] src/tree/updater_prune.cc:74: tree pruning end, 1 roots, 46 extra nodes, 0 pruned nodes, max_depth=5\u001b[0m\n",
      "\u001b[34m[2]#011train-error:0.280067#011validation-error:0.2783\u001b[0m\n",
      "\u001b[34m[20:50:10] src/tree/updater_prune.cc:74: tree pruning end, 1 roots, 26 extra nodes, 8 pruned nodes, max_depth=5\u001b[0m\n",
      "\u001b[34m[3]#011train-error:0.276267#011validation-error:0.2743\u001b[0m\n",
      "\u001b[34m[20:50:11] src/tree/updater_prune.cc:74: tree pruning end, 1 roots, 44 extra nodes, 4 pruned nodes, max_depth=5\u001b[0m\n",
      "\u001b[34m[4]#011train-error:0.26#011validation-error:0.266\u001b[0m\n",
      "\u001b[34m[20:50:12] src/tree/updater_prune.cc:74: tree pruning end, 1 roots, 32 extra nodes, 2 pruned nodes, max_depth=5\u001b[0m\n",
      "\u001b[34m[5]#011train-error:0.253733#011validation-error:0.2592\u001b[0m\n",
      "\u001b[34m[20:50:13] src/tree/updater_prune.cc:74: tree pruning end, 1 roots, 42 extra nodes, 6 pruned nodes, max_depth=5\u001b[0m\n",
      "\u001b[34m[6]#011train-error:0.2442#011validation-error:0.2504\u001b[0m\n",
      "\u001b[34m[20:50:15] src/tree/updater_prune.cc:74: tree pruning end, 1 roots, 28 extra nodes, 6 pruned nodes, max_depth=5\u001b[0m\n",
      "\u001b[34m[7]#011train-error:0.240933#011validation-error:0.2482\u001b[0m\n",
      "\u001b[34m[20:50:16] src/tree/updater_prune.cc:74: tree pruning end, 1 roots, 26 extra nodes, 4 pruned nodes, max_depth=5\u001b[0m\n",
      "\u001b[34m[8]#011train-error:0.2334#011validation-error:0.242\u001b[0m\n",
      "\u001b[34m[20:50:17] src/tree/updater_prune.cc:74: tree pruning end, 1 roots, 34 extra nodes, 6 pruned nodes, max_depth=5\u001b[0m\n",
      "\u001b[34m[9]#011train-error:0.2314#011validation-error:0.2401\u001b[0m\n",
      "\u001b[34m[20:50:18] src/tree/updater_prune.cc:74: tree pruning end, 1 roots, 34 extra nodes, 12 pruned nodes, max_depth=5\u001b[0m\n",
      "\u001b[34m[10]#011train-error:0.225133#011validation-error:0.2366\u001b[0m\n",
      "\u001b[34m[20:50:20] src/tree/updater_prune.cc:74: tree pruning end, 1 roots, 40 extra nodes, 6 pruned nodes, max_depth=5\u001b[0m\n",
      "\u001b[34m[11]#011train-error:0.222067#011validation-error:0.2328\u001b[0m\n",
      "\u001b[34m[20:50:21] src/tree/updater_prune.cc:74: tree pruning end, 1 roots, 28 extra nodes, 8 pruned nodes, max_depth=5\u001b[0m\n",
      "\u001b[34m[12]#011train-error:0.219667#011validation-error:0.231\u001b[0m\n",
      "\u001b[34m[20:50:22] src/tree/updater_prune.cc:74: tree pruning end, 1 roots, 34 extra nodes, 4 pruned nodes, max_depth=5\u001b[0m\n",
      "\u001b[34m[13]#011train-error:0.213933#011validation-error:0.2251\u001b[0m\n",
      "\u001b[34m[20:50:23] src/tree/updater_prune.cc:74: tree pruning end, 1 roots, 26 extra nodes, 8 pruned nodes, max_depth=5\u001b[0m\n",
      "\u001b[34m[14]#011train-error:0.208667#011validation-error:0.2219\u001b[0m\n",
      "\u001b[34m[20:50:25] src/tree/updater_prune.cc:74: tree pruning end, 1 roots, 34 extra nodes, 6 pruned nodes, max_depth=5\u001b[0m\n",
      "\u001b[34m[15]#011train-error:0.204867#011validation-error:0.2167\u001b[0m\n",
      "\u001b[34m[20:50:26] src/tree/updater_prune.cc:74: tree pruning end, 1 roots, 34 extra nodes, 8 pruned nodes, max_depth=5\u001b[0m\n",
      "\u001b[34m[16]#011train-error:0.199467#011validation-error:0.2119\u001b[0m\n",
      "\u001b[34m[20:50:27] src/tree/updater_prune.cc:74: tree pruning end, 1 roots, 24 extra nodes, 6 pruned nodes, max_depth=5\u001b[0m\n",
      "\u001b[34m[17]#011train-error:0.196933#011validation-error:0.2095\u001b[0m\n",
      "\u001b[34m[20:50:29] src/tree/updater_prune.cc:74: tree pruning end, 1 roots, 24 extra nodes, 10 pruned nodes, max_depth=5\u001b[0m\n",
      "\u001b[34m[18]#011train-error:0.1914#011validation-error:0.2075\u001b[0m\n",
      "\u001b[34m[20:50:30] src/tree/updater_prune.cc:74: tree pruning end, 1 roots, 32 extra nodes, 10 pruned nodes, max_depth=5\u001b[0m\n",
      "\u001b[34m[19]#011train-error:0.190333#011validation-error:0.2067\u001b[0m\n",
      "\u001b[34m[20:50:31] src/tree/updater_prune.cc:74: tree pruning end, 1 roots, 38 extra nodes, 12 pruned nodes, max_depth=5\u001b[0m\n",
      "\u001b[34m[20]#011train-error:0.187867#011validation-error:0.206\u001b[0m\n",
      "\u001b[34m[20:50:32] src/tree/updater_prune.cc:74: tree pruning end, 1 roots, 20 extra nodes, 8 pruned nodes, max_depth=5\u001b[0m\n",
      "\u001b[34m[21]#011train-error:0.185867#011validation-error:0.2038\u001b[0m\n",
      "\u001b[34m[20:50:34] src/tree/updater_prune.cc:74: tree pruning end, 1 roots, 28 extra nodes, 12 pruned nodes, max_depth=5\u001b[0m\n",
      "\u001b[34m[22]#011train-error:0.185067#011validation-error:0.2012\u001b[0m\n",
      "\u001b[34m[20:50:35] src/tree/updater_prune.cc:74: tree pruning end, 1 roots, 32 extra nodes, 8 pruned nodes, max_depth=5\u001b[0m\n",
      "\u001b[34m[23]#011train-error:0.1816#011validation-error:0.199\u001b[0m\n",
      "\u001b[34m[20:50:36] src/tree/updater_prune.cc:74: tree pruning end, 1 roots, 34 extra nodes, 8 pruned nodes, max_depth=5\u001b[0m\n",
      "\u001b[34m[24]#011train-error:0.177733#011validation-error:0.1971\u001b[0m\n",
      "\u001b[34m[20:50:38] src/tree/updater_prune.cc:74: tree pruning end, 1 roots, 16 extra nodes, 12 pruned nodes, max_depth=5\u001b[0m\n",
      "\u001b[34m[25]#011train-error:0.175133#011validation-error:0.1955\u001b[0m\n",
      "\u001b[34m[20:50:39] src/tree/updater_prune.cc:74: tree pruning end, 1 roots, 40 extra nodes, 6 pruned nodes, max_depth=5\u001b[0m\n",
      "\u001b[34m[26]#011train-error:0.175067#011validation-error:0.1939\u001b[0m\n",
      "\u001b[34m[20:50:40] src/tree/updater_prune.cc:74: tree pruning end, 1 roots, 36 extra nodes, 8 pruned nodes, max_depth=5\u001b[0m\n",
      "\u001b[34m[27]#011train-error:0.173267#011validation-error:0.1948\u001b[0m\n",
      "\u001b[34m[20:50:41] src/tree/updater_prune.cc:74: tree pruning end, 1 roots, 24 extra nodes, 2 pruned nodes, max_depth=5\u001b[0m\n",
      "\u001b[34m[28]#011train-error:0.1706#011validation-error:0.1926\u001b[0m\n",
      "\u001b[34m[20:50:43] src/tree/updater_prune.cc:74: tree pruning end, 1 roots, 22 extra nodes, 8 pruned nodes, max_depth=5\u001b[0m\n",
      "\u001b[34m[29]#011train-error:0.169467#011validation-error:0.1896\u001b[0m\n",
      "\u001b[34m[20:50:44] src/tree/updater_prune.cc:74: tree pruning end, 1 roots, 28 extra nodes, 8 pruned nodes, max_depth=5\u001b[0m\n",
      "\u001b[34m[30]#011train-error:0.166267#011validation-error:0.1881\u001b[0m\n",
      "\u001b[34m[20:50:45] src/tree/updater_prune.cc:74: tree pruning end, 1 roots, 24 extra nodes, 8 pruned nodes, max_depth=5\u001b[0m\n",
      "\u001b[34m[31]#011train-error:0.164467#011validation-error:0.1876\u001b[0m\n",
      "\u001b[34m[20:50:46] src/tree/updater_prune.cc:74: tree pruning end, 1 roots, 20 extra nodes, 10 pruned nodes, max_depth=5\u001b[0m\n",
      "\u001b[34m[32]#011train-error:0.1632#011validation-error:0.1875\u001b[0m\n",
      "\u001b[34m[20:50:48] src/tree/updater_prune.cc:74: tree pruning end, 1 roots, 22 extra nodes, 4 pruned nodes, max_depth=5\u001b[0m\n",
      "\u001b[34m[33]#011train-error:0.160067#011validation-error:0.1872\u001b[0m\n",
      "\u001b[34m[20:50:49] src/tree/updater_prune.cc:74: tree pruning end, 1 roots, 18 extra nodes, 6 pruned nodes, max_depth=5\u001b[0m\n",
      "\u001b[34m[34]#011train-error:0.1592#011validation-error:0.1864\u001b[0m\n",
      "\u001b[34m[20:50:50] src/tree/updater_prune.cc:74: tree pruning end, 1 roots, 16 extra nodes, 14 pruned nodes, max_depth=5\u001b[0m\n",
      "\u001b[34m[35]#011train-error:0.158733#011validation-error:0.187\u001b[0m\n",
      "\u001b[34m[20:50:51] src/tree/updater_prune.cc:74: tree pruning end, 1 roots, 26 extra nodes, 14 pruned nodes, max_depth=5\u001b[0m\n",
      "\u001b[34m[36]#011train-error:0.156933#011validation-error:0.1859\u001b[0m\n",
      "\u001b[34m[20:50:53] src/tree/updater_prune.cc:74: tree pruning end, 1 roots, 30 extra nodes, 10 pruned nodes, max_depth=5\u001b[0m\n",
      "\u001b[34m[37]#011train-error:0.155467#011validation-error:0.1852\u001b[0m\n",
      "\u001b[34m[20:50:54] src/tree/updater_prune.cc:74: tree pruning end, 1 roots, 18 extra nodes, 18 pruned nodes, max_depth=5\u001b[0m\n",
      "\u001b[34m[38]#011train-error:0.154533#011validation-error:0.1847\u001b[0m\n",
      "\u001b[34m[20:50:55] src/tree/updater_prune.cc:74: tree pruning end, 1 roots, 18 extra nodes, 12 pruned nodes, max_depth=5\u001b[0m\n",
      "\u001b[34m[39]#011train-error:0.153467#011validation-error:0.1828\u001b[0m\n",
      "\u001b[34m[20:50:56] src/tree/updater_prune.cc:74: tree pruning end, 1 roots, 18 extra nodes, 6 pruned nodes, max_depth=5\u001b[0m\n",
      "\u001b[34m[40]#011train-error:0.152#011validation-error:0.1833\u001b[0m\n",
      "\u001b[34m[20:50:58] src/tree/updater_prune.cc:74: tree pruning end, 1 roots, 22 extra nodes, 2 pruned nodes, max_depth=5\u001b[0m\n",
      "\u001b[34m[41]#011train-error:0.150467#011validation-error:0.1802\u001b[0m\n",
      "\u001b[34m[20:50:59] src/tree/updater_prune.cc:74: tree pruning end, 1 roots, 30 extra nodes, 6 pruned nodes, max_depth=5\u001b[0m\n",
      "\u001b[34m[42]#011train-error:0.1498#011validation-error:0.1791\u001b[0m\n",
      "\u001b[34m[20:51:00] src/tree/updater_prune.cc:74: tree pruning end, 1 roots, 28 extra nodes, 8 pruned nodes, max_depth=5\u001b[0m\n",
      "\u001b[34m[43]#011train-error:0.149267#011validation-error:0.1784\u001b[0m\n",
      "\u001b[34m[20:51:02] src/tree/updater_prune.cc:74: tree pruning end, 1 roots, 20 extra nodes, 8 pruned nodes, max_depth=5\u001b[0m\n",
      "\u001b[34m[44]#011train-error:0.1486#011validation-error:0.1775\u001b[0m\n",
      "\u001b[34m[20:51:03] src/tree/updater_prune.cc:74: tree pruning end, 1 roots, 14 extra nodes, 12 pruned nodes, max_depth=5\u001b[0m\n",
      "\u001b[34m[45]#011train-error:0.148267#011validation-error:0.1764\u001b[0m\n",
      "\u001b[34m[20:51:04] src/tree/updater_prune.cc:74: tree pruning end, 1 roots, 24 extra nodes, 6 pruned nodes, max_depth=5\u001b[0m\n",
      "\u001b[34m[46]#011train-error:0.146933#011validation-error:0.1764\u001b[0m\n",
      "\u001b[34m[20:51:05] src/tree/updater_prune.cc:74: tree pruning end, 1 roots, 28 extra nodes, 10 pruned nodes, max_depth=5\u001b[0m\n",
      "\u001b[34m[47]#011train-error:0.146133#011validation-error:0.1755\u001b[0m\n",
      "\u001b[34m[20:51:07] src/tree/updater_prune.cc:74: tree pruning end, 1 roots, 30 extra nodes, 2 pruned nodes, max_depth=5\u001b[0m\n",
      "\u001b[34m[48]#011train-error:0.1442#011validation-error:0.1739\u001b[0m\n",
      "\u001b[34m[20:51:08] src/tree/updater_prune.cc:74: tree pruning end, 1 roots, 32 extra nodes, 4 pruned nodes, max_depth=5\u001b[0m\n",
      "\u001b[34m[49]#011train-error:0.143267#011validation-error:0.1744\u001b[0m\n",
      "\u001b[34m[20:51:09] src/tree/updater_prune.cc:74: tree pruning end, 1 roots, 28 extra nodes, 6 pruned nodes, max_depth=5\u001b[0m\n",
      "\u001b[34m[50]#011train-error:0.142133#011validation-error:0.1728\u001b[0m\n",
      "\u001b[34m[20:51:10] src/tree/updater_prune.cc:74: tree pruning end, 1 roots, 28 extra nodes, 4 pruned nodes, max_depth=5\u001b[0m\n",
      "\u001b[34m[51]#011train-error:0.141#011validation-error:0.1716\u001b[0m\n",
      "\u001b[34m[20:51:12] src/tree/updater_prune.cc:74: tree pruning end, 1 roots, 24 extra nodes, 12 pruned nodes, max_depth=5\u001b[0m\n",
      "\u001b[34m[52]#011train-error:0.139#011validation-error:0.1715\u001b[0m\n",
      "\u001b[34m[20:51:13] src/tree/updater_prune.cc:74: tree pruning end, 1 roots, 26 extra nodes, 4 pruned nodes, max_depth=5\u001b[0m\n",
      "\u001b[34m[53]#011train-error:0.136667#011validation-error:0.1692\u001b[0m\n",
      "\u001b[34m[20:51:14] src/tree/updater_prune.cc:74: tree pruning end, 1 roots, 24 extra nodes, 14 pruned nodes, max_depth=5\u001b[0m\n",
      "\u001b[34m[54]#011train-error:0.1366#011validation-error:0.1694\u001b[0m\n",
      "\u001b[34m[20:51:15] src/tree/updater_prune.cc:74: tree pruning end, 1 roots, 26 extra nodes, 6 pruned nodes, max_depth=5\u001b[0m\n",
      "\u001b[34m[55]#011train-error:0.135533#011validation-error:0.1697\u001b[0m\n",
      "\u001b[34m[20:51:17] src/tree/updater_prune.cc:74: tree pruning end, 1 roots, 14 extra nodes, 14 pruned nodes, max_depth=5\u001b[0m\n",
      "\u001b[34m[56]#011train-error:0.134667#011validation-error:0.169\u001b[0m\n",
      "\u001b[34m[20:51:18] src/tree/updater_prune.cc:74: tree pruning end, 1 roots, 26 extra nodes, 6 pruned nodes, max_depth=5\u001b[0m\n",
      "\u001b[34m[57]#011train-error:0.134933#011validation-error:0.1672\u001b[0m\n",
      "\u001b[34m[20:51:19] src/tree/updater_prune.cc:74: tree pruning end, 1 roots, 22 extra nodes, 6 pruned nodes, max_depth=5\u001b[0m\n",
      "\u001b[34m[58]#011train-error:0.133733#011validation-error:0.1671\u001b[0m\n",
      "\u001b[34m[20:51:20] src/tree/updater_prune.cc:74: tree pruning end, 1 roots, 18 extra nodes, 14 pruned nodes, max_depth=5\u001b[0m\n",
      "\u001b[34m[59]#011train-error:0.133067#011validation-error:0.1667\u001b[0m\n",
      "\u001b[34m[20:51:22] src/tree/updater_prune.cc:74: tree pruning end, 1 roots, 14 extra nodes, 10 pruned nodes, max_depth=5\u001b[0m\n",
      "\u001b[34m[60]#011train-error:0.1318#011validation-error:0.1666\u001b[0m\n",
      "\u001b[34m[20:51:23] src/tree/updater_prune.cc:74: tree pruning end, 1 roots, 10 extra nodes, 4 pruned nodes, max_depth=5\u001b[0m\n",
      "\u001b[34m[61]#011train-error:0.1314#011validation-error:0.1663\u001b[0m\n",
      "\u001b[34m[20:51:24] src/tree/updater_prune.cc:74: tree pruning end, 1 roots, 16 extra nodes, 12 pruned nodes, max_depth=5\u001b[0m\n",
      "\u001b[34m[62]#011train-error:0.1302#011validation-error:0.164\u001b[0m\n",
      "\u001b[34m[20:51:25] src/tree/updater_prune.cc:74: tree pruning end, 1 roots, 18 extra nodes, 6 pruned nodes, max_depth=5\u001b[0m\n",
      "\u001b[34m[63]#011train-error:0.129333#011validation-error:0.1638\u001b[0m\n",
      "\u001b[34m[20:51:27] src/tree/updater_prune.cc:74: tree pruning end, 1 roots, 18 extra nodes, 12 pruned nodes, max_depth=5\u001b[0m\n",
      "\u001b[34m[64]#011train-error:0.1278#011validation-error:0.1626\u001b[0m\n",
      "\u001b[34m[20:51:28] src/tree/updater_prune.cc:74: tree pruning end, 1 roots, 22 extra nodes, 6 pruned nodes, max_depth=5\u001b[0m\n",
      "\u001b[34m[65]#011train-error:0.127067#011validation-error:0.1618\u001b[0m\n",
      "\u001b[34m[20:51:29] src/tree/updater_prune.cc:74: tree pruning end, 1 roots, 12 extra nodes, 10 pruned nodes, max_depth=5\u001b[0m\n",
      "\u001b[34m[66]#011train-error:0.125667#011validation-error:0.1612\u001b[0m\n",
      "\u001b[34m[20:51:30] src/tree/updater_prune.cc:74: tree pruning end, 1 roots, 26 extra nodes, 4 pruned nodes, max_depth=5\u001b[0m\n",
      "\u001b[34m[67]#011train-error:0.125067#011validation-error:0.1599\u001b[0m\n",
      "\u001b[34m[20:51:32] src/tree/updater_prune.cc:74: tree pruning end, 1 roots, 12 extra nodes, 14 pruned nodes, max_depth=5\u001b[0m\n",
      "\u001b[34m[68]#011train-error:0.1252#011validation-error:0.1605\u001b[0m\n",
      "\u001b[34m[20:51:33] src/tree/updater_prune.cc:74: tree pruning end, 1 roots, 22 extra nodes, 6 pruned nodes, max_depth=5\u001b[0m\n",
      "\u001b[34m[69]#011train-error:0.123533#011validation-error:0.1595\u001b[0m\n",
      "\u001b[34m[20:51:34] src/tree/updater_prune.cc:74: tree pruning end, 1 roots, 40 extra nodes, 6 pruned nodes, max_depth=5\u001b[0m\n",
      "\u001b[34m[70]#011train-error:0.122733#011validation-error:0.16\u001b[0m\n",
      "\u001b[34m[20:51:36] src/tree/updater_prune.cc:74: tree pruning end, 1 roots, 18 extra nodes, 10 pruned nodes, max_depth=5\u001b[0m\n",
      "\u001b[34m[71]#011train-error:0.122067#011validation-error:0.1594\u001b[0m\n",
      "\u001b[34m[20:51:37] src/tree/updater_prune.cc:74: tree pruning end, 1 roots, 32 extra nodes, 4 pruned nodes, max_depth=5\u001b[0m\n",
      "\u001b[34m[72]#011train-error:0.121067#011validation-error:0.159\u001b[0m\n",
      "\u001b[34m[20:51:38] src/tree/updater_prune.cc:74: tree pruning end, 1 roots, 18 extra nodes, 8 pruned nodes, max_depth=5\u001b[0m\n",
      "\u001b[34m[73]#011train-error:0.1202#011validation-error:0.1587\u001b[0m\n",
      "\u001b[34m[20:51:39] src/tree/updater_prune.cc:74: tree pruning end, 1 roots, 28 extra nodes, 2 pruned nodes, max_depth=5\u001b[0m\n",
      "\u001b[34m[74]#011train-error:0.118867#011validation-error:0.1587\u001b[0m\n",
      "\u001b[34m[20:51:41] src/tree/updater_prune.cc:74: tree pruning end, 1 roots, 14 extra nodes, 8 pruned nodes, max_depth=5\u001b[0m\n",
      "\u001b[34m[75]#011train-error:0.118867#011validation-error:0.1585\u001b[0m\n",
      "\u001b[34m[20:51:42] src/tree/updater_prune.cc:74: tree pruning end, 1 roots, 24 extra nodes, 12 pruned nodes, max_depth=5\u001b[0m\n",
      "\u001b[34m[76]#011train-error:0.1182#011validation-error:0.1577\u001b[0m\n",
      "\u001b[34m[20:51:43] src/tree/updater_prune.cc:74: tree pruning end, 1 roots, 26 extra nodes, 8 pruned nodes, max_depth=5\u001b[0m\n",
      "\u001b[34m[77]#011train-error:0.118067#011validation-error:0.1578\u001b[0m\n",
      "\u001b[34m[20:51:44] src/tree/updater_prune.cc:74: tree pruning end, 1 roots, 12 extra nodes, 10 pruned nodes, max_depth=5\u001b[0m\n",
      "\u001b[34m[78]#011train-error:0.116667#011validation-error:0.1577\u001b[0m\n",
      "\u001b[34m[20:51:46] src/tree/updater_prune.cc:74: tree pruning end, 1 roots, 28 extra nodes, 4 pruned nodes, max_depth=5\u001b[0m\n",
      "\u001b[34m[79]#011train-error:0.115267#011validation-error:0.1581\u001b[0m\n",
      "\u001b[34m[20:51:47] src/tree/updater_prune.cc:74: tree pruning end, 1 roots, 20 extra nodes, 8 pruned nodes, max_depth=5\u001b[0m\n",
      "\u001b[34m[80]#011train-error:0.115133#011validation-error:0.1585\u001b[0m\n",
      "\u001b[34m[20:51:48] src/tree/updater_prune.cc:74: tree pruning end, 1 roots, 16 extra nodes, 6 pruned nodes, max_depth=5\u001b[0m\n",
      "\u001b[34m[81]#011train-error:0.1144#011validation-error:0.1588\u001b[0m\n",
      "\u001b[34m[20:51:49] src/tree/updater_prune.cc:74: tree pruning end, 1 roots, 20 extra nodes, 20 pruned nodes, max_depth=5\u001b[0m\n",
      "\u001b[34m[82]#011train-error:0.1134#011validation-error:0.1579\u001b[0m\n",
      "\u001b[34m[20:51:51] src/tree/updater_prune.cc:74: tree pruning end, 1 roots, 10 extra nodes, 4 pruned nodes, max_depth=5\u001b[0m\n",
      "\u001b[34m[83]#011train-error:0.1126#011validation-error:0.157\u001b[0m\n",
      "\u001b[34m[20:51:52] src/tree/updater_prune.cc:74: tree pruning end, 1 roots, 22 extra nodes, 10 pruned nodes, max_depth=5\u001b[0m\n",
      "\u001b[34m[84]#011train-error:0.111133#011validation-error:0.1562\u001b[0m\n",
      "\u001b[34m[20:51:53] src/tree/updater_prune.cc:74: tree pruning end, 1 roots, 28 extra nodes, 8 pruned nodes, max_depth=5\u001b[0m\n",
      "\u001b[34m[85]#011train-error:0.1112#011validation-error:0.1553\u001b[0m\n",
      "\u001b[34m[20:51:54] src/tree/updater_prune.cc:74: tree pruning end, 1 roots, 18 extra nodes, 8 pruned nodes, max_depth=5\u001b[0m\n",
      "\u001b[34m[86]#011train-error:0.110467#011validation-error:0.1551\u001b[0m\n",
      "\u001b[34m[20:51:56] src/tree/updater_prune.cc:74: tree pruning end, 1 roots, 14 extra nodes, 8 pruned nodes, max_depth=5\u001b[0m\n",
      "\u001b[34m[87]#011train-error:0.109733#011validation-error:0.1542\u001b[0m\n",
      "\u001b[34m[20:51:57] src/tree/updater_prune.cc:74: tree pruning end, 1 roots, 10 extra nodes, 6 pruned nodes, max_depth=5\u001b[0m\n",
      "\u001b[34m[88]#011train-error:0.109333#011validation-error:0.1537\u001b[0m\n",
      "\u001b[34m[20:51:58] src/tree/updater_prune.cc:74: tree pruning end, 1 roots, 16 extra nodes, 12 pruned nodes, max_depth=5\u001b[0m\n",
      "\u001b[34m[89]#011train-error:0.108867#011validation-error:0.1521\u001b[0m\n",
      "\u001b[34m[20:51:59] src/tree/updater_prune.cc:74: tree pruning end, 1 roots, 28 extra nodes, 12 pruned nodes, max_depth=5\u001b[0m\n",
      "\u001b[34m[90]#011train-error:0.107867#011validation-error:0.1518\u001b[0m\n",
      "\u001b[34m[20:52:01] src/tree/updater_prune.cc:74: tree pruning end, 1 roots, 26 extra nodes, 6 pruned nodes, max_depth=5\u001b[0m\n",
      "\u001b[34m[91]#011train-error:0.107533#011validation-error:0.1517\u001b[0m\n",
      "\u001b[34m[20:52:02] src/tree/updater_prune.cc:74: tree pruning end, 1 roots, 12 extra nodes, 8 pruned nodes, max_depth=5\u001b[0m\n",
      "\u001b[34m[92]#011train-error:0.1074#011validation-error:0.1515\u001b[0m\n",
      "\u001b[34m[20:52:03] src/tree/updater_prune.cc:74: tree pruning end, 1 roots, 12 extra nodes, 2 pruned nodes, max_depth=5\u001b[0m\n",
      "\u001b[34m[93]#011train-error:0.106267#011validation-error:0.1508\u001b[0m\n",
      "\u001b[34m[20:52:04] src/tree/updater_prune.cc:74: tree pruning end, 1 roots, 16 extra nodes, 4 pruned nodes, max_depth=5\u001b[0m\n",
      "\u001b[34m[94]#011train-error:0.106933#011validation-error:0.1514\u001b[0m\n",
      "\u001b[34m[20:52:06] src/tree/updater_prune.cc:74: tree pruning end, 1 roots, 14 extra nodes, 6 pruned nodes, max_depth=5\u001b[0m\n",
      "\u001b[34m[95]#011train-error:0.1064#011validation-error:0.1505\u001b[0m\n",
      "\u001b[34m[20:52:07] src/tree/updater_prune.cc:74: tree pruning end, 1 roots, 12 extra nodes, 4 pruned nodes, max_depth=5\u001b[0m\n",
      "\u001b[34m[96]#011train-error:0.1058#011validation-error:0.1499\u001b[0m\n",
      "\u001b[34m[20:52:08] src/tree/updater_prune.cc:74: tree pruning end, 1 roots, 18 extra nodes, 0 pruned nodes, max_depth=5\u001b[0m\n",
      "\u001b[34m[97]#011train-error:0.105#011validation-error:0.1491\u001b[0m\n",
      "\u001b[34m[20:52:10] src/tree/updater_prune.cc:74: tree pruning end, 1 roots, 22 extra nodes, 6 pruned nodes, max_depth=5\u001b[0m\n",
      "\u001b[34m[98]#011train-error:0.104533#011validation-error:0.1484\u001b[0m\n",
      "\u001b[34m[20:52:11] src/tree/updater_prune.cc:74: tree pruning end, 1 roots, 14 extra nodes, 6 pruned nodes, max_depth=5\u001b[0m\n",
      "\u001b[34m[99]#011train-error:0.1046#011validation-error:0.1482\u001b[0m\n",
      "\u001b[34m[20:52:12] src/tree/updater_prune.cc:74: tree pruning end, 1 roots, 12 extra nodes, 8 pruned nodes, max_depth=5\u001b[0m\n",
      "\u001b[34m[100]#011train-error:0.104133#011validation-error:0.1488\u001b[0m\n",
      "\u001b[34m[20:52:13] src/tree/updater_prune.cc:74: tree pruning end, 1 roots, 18 extra nodes, 12 pruned nodes, max_depth=5\u001b[0m\n",
      "\u001b[34m[101]#011train-error:0.103867#011validation-error:0.1485\u001b[0m\n",
      "\u001b[34m[20:52:15] src/tree/updater_prune.cc:74: tree pruning end, 1 roots, 22 extra nodes, 10 pruned nodes, max_depth=5\u001b[0m\n",
      "\u001b[34m[102]#011train-error:0.102733#011validation-error:0.1484\u001b[0m\n",
      "\u001b[34m[20:52:16] src/tree/updater_prune.cc:74: tree pruning end, 1 roots, 20 extra nodes, 4 pruned nodes, max_depth=5\u001b[0m\n",
      "\u001b[34m[103]#011train-error:0.101733#011validation-error:0.1488\u001b[0m\n",
      "\u001b[34m[20:52:17] src/tree/updater_prune.cc:74: tree pruning end, 1 roots, 10 extra nodes, 8 pruned nodes, max_depth=5\u001b[0m\n",
      "\u001b[34m[104]#011train-error:0.102067#011validation-error:0.1481\u001b[0m\n",
      "\u001b[34m[20:52:18] src/tree/updater_prune.cc:74: tree pruning end, 1 roots, 28 extra nodes, 12 pruned nodes, max_depth=5\u001b[0m\n",
      "\u001b[34m[105]#011train-error:0.100667#011validation-error:0.1482\u001b[0m\n",
      "\u001b[34m[20:52:20] src/tree/updater_prune.cc:74: tree pruning end, 1 roots, 32 extra nodes, 14 pruned nodes, max_depth=5\u001b[0m\n",
      "\u001b[34m[106]#011train-error:0.0994#011validation-error:0.1484\u001b[0m\n",
      "\u001b[34m[20:52:21] src/tree/updater_prune.cc:74: tree pruning end, 1 roots, 14 extra nodes, 8 pruned nodes, max_depth=5\u001b[0m\n",
      "\u001b[34m[107]#011train-error:0.098733#011validation-error:0.1476\u001b[0m\n",
      "\u001b[34m[20:52:22] src/tree/updater_prune.cc:74: tree pruning end, 1 roots, 14 extra nodes, 8 pruned nodes, max_depth=5\u001b[0m\n",
      "\u001b[34m[108]#011train-error:0.0982#011validation-error:0.1476\u001b[0m\n",
      "\u001b[34m[20:52:23] src/tree/updater_prune.cc:74: tree pruning end, 1 roots, 14 extra nodes, 2 pruned nodes, max_depth=5\u001b[0m\n",
      "\u001b[34m[109]#011train-error:0.098067#011validation-error:0.1464\u001b[0m\n",
      "\u001b[34m[20:52:25] src/tree/updater_prune.cc:74: tree pruning end, 1 roots, 12 extra nodes, 6 pruned nodes, max_depth=5\u001b[0m\n",
      "\u001b[34m[110]#011train-error:0.097867#011validation-error:0.1468\u001b[0m\n",
      "\n",
      "2020-07-25 20:52:41 Uploading - Uploading generated training model\u001b[34m[20:52:26] src/tree/updater_prune.cc:74: tree pruning end, 1 roots, 12 extra nodes, 4 pruned nodes, max_depth=5\u001b[0m\n",
      "\u001b[34m[111]#011train-error:0.0978#011validation-error:0.1461\u001b[0m\n",
      "\u001b[34m[20:52:27] src/tree/updater_prune.cc:74: tree pruning end, 1 roots, 10 extra nodes, 6 pruned nodes, max_depth=5\u001b[0m\n",
      "\u001b[34m[112]#011train-error:0.097267#011validation-error:0.1459\u001b[0m\n",
      "\u001b[34m[20:52:29] src/tree/updater_prune.cc:74: tree pruning end, 1 roots, 12 extra nodes, 6 pruned nodes, max_depth=5\u001b[0m\n",
      "\u001b[34m[113]#011train-error:0.097#011validation-error:0.1461\u001b[0m\n",
      "\u001b[34m[20:52:30] src/tree/updater_prune.cc:74: tree pruning end, 1 roots, 22 extra nodes, 12 pruned nodes, max_depth=5\u001b[0m\n",
      "\u001b[34m[114]#011train-error:0.097133#011validation-error:0.1464\u001b[0m\n",
      "\u001b[34m[20:52:31] src/tree/updater_prune.cc:74: tree pruning end, 1 roots, 28 extra nodes, 8 pruned nodes, max_depth=5\u001b[0m\n",
      "\u001b[34m[115]#011train-error:0.095667#011validation-error:0.1468\u001b[0m\n",
      "\u001b[34m[20:52:32] src/tree/updater_prune.cc:74: tree pruning end, 1 roots, 16 extra nodes, 10 pruned nodes, max_depth=5\u001b[0m\n",
      "\u001b[34m[116]#011train-error:0.095133#011validation-error:0.1471\u001b[0m\n",
      "\u001b[34m[20:52:34] src/tree/updater_prune.cc:74: tree pruning end, 1 roots, 28 extra nodes, 10 pruned nodes, max_depth=5\u001b[0m\n",
      "\u001b[34m[117]#011train-error:0.093733#011validation-error:0.1464\u001b[0m\n",
      "\u001b[34m[20:52:35] src/tree/updater_prune.cc:74: tree pruning end, 1 roots, 22 extra nodes, 6 pruned nodes, max_depth=5\u001b[0m\n",
      "\u001b[34m[118]#011train-error:0.0934#011validation-error:0.146\u001b[0m\n",
      "\u001b[34m[20:52:36] src/tree/updater_prune.cc:74: tree pruning end, 1 roots, 12 extra nodes, 8 pruned nodes, max_depth=5\u001b[0m\n",
      "\u001b[34m[119]#011train-error:0.093533#011validation-error:0.1467\u001b[0m\n",
      "\u001b[34m[20:52:37] src/tree/updater_prune.cc:74: tree pruning end, 1 roots, 28 extra nodes, 10 pruned nodes, max_depth=5\u001b[0m\n",
      "\u001b[34m[120]#011train-error:0.0928#011validation-error:0.1472\u001b[0m\n",
      "\u001b[34m[20:52:39] src/tree/updater_prune.cc:74: tree pruning end, 1 roots, 12 extra nodes, 10 pruned nodes, max_depth=5\u001b[0m\n",
      "\u001b[34m[121]#011train-error:0.092133#011validation-error:0.1476\u001b[0m\n",
      "\u001b[34m[20:52:40] src/tree/updater_prune.cc:74: tree pruning end, 1 roots, 14 extra nodes, 8 pruned nodes, max_depth=5\u001b[0m\n",
      "\u001b[34m[122]#011train-error:0.091933#011validation-error:0.1479\u001b[0m\n",
      "\u001b[34mStopping. Best iteration:\u001b[0m\n",
      "\u001b[34m[112]#011train-error:0.097267#011validation-error:0.1459\n",
      "\u001b[0m\n",
      "\n",
      "2020-07-25 20:52:48 Completed - Training job completed\n",
      "Training seconds: 219\n",
      "Billable seconds: 219\n"
     ]
    }
   ],
   "source": [
    "xgb.fit({'train': s3_input_train, 'validation': s3_input_validation})"
   ]
  },
  {
   "cell_type": "markdown",
   "metadata": {},
   "source": [
    "## Step 5: Testing the model\n",
    "\n",
    "Now that we've fit our XGBoost model, it's time to see how well it performs. To do this we will use SageMakers Batch Transform functionality. Batch Transform is a convenient way to perform inference on a large dataset in a way that is not realtime. That is, we don't necessarily need to use our model's results immediately and instead we can perform inference on a large number of samples. An example of this in industry might be performing an end of month report. This method of inference can also be useful to us as it means that we can perform inference on our entire test set. \n",
    "\n",
    "To perform a Batch Transformation we need to first create a transformer objects from our trained estimator object."
   ]
  },
  {
   "cell_type": "code",
   "execution_count": 24,
   "metadata": {},
   "outputs": [
    {
     "name": "stderr",
     "output_type": "stream",
     "text": [
      "WARNING:sagemaker:Parameter image will be renamed to image_uri in SageMaker Python SDK v2.\n"
     ]
    }
   ],
   "source": [
    "xgb_transformer = xgb.transformer(instance_count = 1, instance_type = 'ml.m4.xlarge')"
   ]
  },
  {
   "cell_type": "markdown",
   "metadata": {},
   "source": [
    "Next we actually perform the transform job. When doing so we need to make sure to specify the type of data we are sending so that it is serialized correctly in the background. In our case we are providing our model with csv data so we specify `text/csv`. Also, if the test data that we have provided is too large to process all at once then we need to specify how the data file should be split up. Since each line is a single entry in our data set we tell SageMaker that it can split the input on each line."
   ]
  },
  {
   "cell_type": "code",
   "execution_count": 25,
   "metadata": {},
   "outputs": [],
   "source": [
    "xgb_transformer.transform(test_location, content_type='text/csv', split_type='Line')"
   ]
  },
  {
   "cell_type": "markdown",
   "metadata": {},
   "source": [
    "Currently the transform job is running but it is doing so in the background. Since we wish to wait until the transform job is done and we would like a bit of feedback we can run the `wait()` method."
   ]
  },
  {
   "cell_type": "code",
   "execution_count": 26,
   "metadata": {},
   "outputs": [
    {
     "name": "stdout",
     "output_type": "stream",
     "text": [
      "........................\u001b[32m2020-07-25T20:57:10.082:[sagemaker logs]: MaxConcurrentTransforms=4, MaxPayloadInMB=6, BatchStrategy=MULTI_RECORD\u001b[0m\n",
      "\u001b[34mArguments: serve\u001b[0m\n",
      "\u001b[34m[2020-07-25 20:57:09 +0000] [1] [INFO] Starting gunicorn 19.7.1\u001b[0m\n",
      "\u001b[34m[2020-07-25 20:57:09 +0000] [1] [INFO] Listening at: http://0.0.0.0:8080 (1)\u001b[0m\n",
      "\u001b[34m[2020-07-25 20:57:09 +0000] [1] [INFO] Using worker: gevent\u001b[0m\n",
      "\u001b[34m[2020-07-25 20:57:09 +0000] [38] [INFO] Booting worker with pid: 38\u001b[0m\n",
      "\u001b[34m[2020-07-25 20:57:09 +0000] [39] [INFO] Booting worker with pid: 39\u001b[0m\n",
      "\u001b[34m[2020-07-25 20:57:09 +0000] [40] [INFO] Booting worker with pid: 40\u001b[0m\n",
      "\u001b[34m[2020-07-25:20:57:09:INFO] Model loaded successfully for worker : 38\u001b[0m\n",
      "\u001b[34m[2020-07-25:20:57:09:INFO] Model loaded successfully for worker : 39\u001b[0m\n",
      "\u001b[34m[2020-07-25 20:57:09 +0000] [41] [INFO] Booting worker with pid: 41\u001b[0m\n",
      "\u001b[34m[2020-07-25:20:57:10:INFO] Model loaded successfully for worker : 40\u001b[0m\n",
      "\u001b[34m[2020-07-25:20:57:10:INFO] Model loaded successfully for worker : 41\u001b[0m\n",
      "\u001b[35mArguments: serve\u001b[0m\n",
      "\u001b[35m[2020-07-25 20:57:09 +0000] [1] [INFO] Starting gunicorn 19.7.1\u001b[0m\n",
      "\u001b[35m[2020-07-25 20:57:09 +0000] [1] [INFO] Listening at: http://0.0.0.0:8080 (1)\u001b[0m\n",
      "\u001b[35m[2020-07-25 20:57:09 +0000] [1] [INFO] Using worker: gevent\u001b[0m\n",
      "\u001b[35m[2020-07-25 20:57:09 +0000] [38] [INFO] Booting worker with pid: 38\u001b[0m\n",
      "\u001b[35m[2020-07-25 20:57:09 +0000] [39] [INFO] Booting worker with pid: 39\u001b[0m\n",
      "\u001b[35m[2020-07-25 20:57:09 +0000] [40] [INFO] Booting worker with pid: 40\u001b[0m\n",
      "\u001b[35m[2020-07-25:20:57:09:INFO] Model loaded successfully for worker : 38\u001b[0m\n",
      "\u001b[35m[2020-07-25:20:57:09:INFO] Model loaded successfully for worker : 39\u001b[0m\n",
      "\u001b[35m[2020-07-25 20:57:09 +0000] [41] [INFO] Booting worker with pid: 41\u001b[0m\n",
      "\u001b[35m[2020-07-25:20:57:10:INFO] Model loaded successfully for worker : 40\u001b[0m\n",
      "\u001b[35m[2020-07-25:20:57:10:INFO] Model loaded successfully for worker : 41\u001b[0m\n",
      "\u001b[34m[2020-07-25:20:57:11:INFO] Sniff delimiter as ','\u001b[0m\n",
      "\u001b[34m[2020-07-25:20:57:11:INFO] Determined delimiter of CSV input is ','\u001b[0m\n",
      "\u001b[34m[2020-07-25:20:57:11:INFO] Sniff delimiter as ','\u001b[0m\n",
      "\u001b[34m[2020-07-25:20:57:11:INFO] Determined delimiter of CSV input is ','\u001b[0m\n",
      "\u001b[34m[2020-07-25:20:57:11:INFO] Sniff delimiter as ','\u001b[0m\n",
      "\u001b[34m[2020-07-25:20:57:11:INFO] Determined delimiter of CSV input is ','\u001b[0m\n",
      "\u001b[34m[2020-07-25:20:57:11:INFO] Sniff delimiter as ','\u001b[0m\n",
      "\u001b[34m[2020-07-25:20:57:11:INFO] Determined delimiter of CSV input is ','\u001b[0m\n",
      "\u001b[35m[2020-07-25:20:57:11:INFO] Sniff delimiter as ','\u001b[0m\n",
      "\u001b[35m[2020-07-25:20:57:11:INFO] Determined delimiter of CSV input is ','\u001b[0m\n",
      "\u001b[35m[2020-07-25:20:57:11:INFO] Sniff delimiter as ','\u001b[0m\n",
      "\u001b[35m[2020-07-25:20:57:11:INFO] Determined delimiter of CSV input is ','\u001b[0m\n",
      "\u001b[35m[2020-07-25:20:57:11:INFO] Sniff delimiter as ','\u001b[0m\n",
      "\u001b[35m[2020-07-25:20:57:11:INFO] Determined delimiter of CSV input is ','\u001b[0m\n",
      "\u001b[35m[2020-07-25:20:57:11:INFO] Sniff delimiter as ','\u001b[0m\n",
      "\u001b[35m[2020-07-25:20:57:11:INFO] Determined delimiter of CSV input is ','\u001b[0m\n",
      "\u001b[34m[2020-07-25:20:57:13:INFO] Sniff delimiter as ','\u001b[0m\n",
      "\u001b[34m[2020-07-25:20:57:13:INFO] Determined delimiter of CSV input is ','\u001b[0m\n",
      "\u001b[34m[2020-07-25:20:57:13:INFO] Sniff delimiter as ','\u001b[0m\n",
      "\u001b[34m[2020-07-25:20:57:13:INFO] Determined delimiter of CSV input is ','\u001b[0m\n",
      "\u001b[34m[2020-07-25:20:57:14:INFO] Sniff delimiter as ','\u001b[0m\n",
      "\u001b[34m[2020-07-25:20:57:14:INFO] Determined delimiter of CSV input is ','\u001b[0m\n",
      "\u001b[35m[2020-07-25:20:57:13:INFO] Sniff delimiter as ','\u001b[0m\n",
      "\u001b[35m[2020-07-25:20:57:13:INFO] Determined delimiter of CSV input is ','\u001b[0m\n",
      "\u001b[35m[2020-07-25:20:57:13:INFO] Sniff delimiter as ','\u001b[0m\n",
      "\u001b[35m[2020-07-25:20:57:13:INFO] Determined delimiter of CSV input is ','\u001b[0m\n",
      "\u001b[35m[2020-07-25:20:57:14:INFO] Sniff delimiter as ','\u001b[0m\n",
      "\u001b[35m[2020-07-25:20:57:14:INFO] Determined delimiter of CSV input is ','\u001b[0m\n",
      "\u001b[34m[2020-07-25:20:57:15:INFO] Sniff delimiter as ','\u001b[0m\n",
      "\u001b[34m[2020-07-25:20:57:15:INFO] Determined delimiter of CSV input is ','\u001b[0m\n",
      "\u001b[34m[2020-07-25:20:57:15:INFO] Sniff delimiter as ','\u001b[0m\n",
      "\u001b[34m[2020-07-25:20:57:15:INFO] Determined delimiter of CSV input is ','\u001b[0m\n",
      "\u001b[34m[2020-07-25:20:57:15:INFO] Sniff delimiter as ','\u001b[0m\n",
      "\u001b[34m[2020-07-25:20:57:15:INFO] Determined delimiter of CSV input is ','\u001b[0m\n",
      "\u001b[35m[2020-07-25:20:57:15:INFO] Sniff delimiter as ','\u001b[0m\n",
      "\u001b[35m[2020-07-25:20:57:15:INFO] Determined delimiter of CSV input is ','\u001b[0m\n",
      "\u001b[35m[2020-07-25:20:57:15:INFO] Sniff delimiter as ','\u001b[0m\n",
      "\u001b[35m[2020-07-25:20:57:15:INFO] Determined delimiter of CSV input is ','\u001b[0m\n",
      "\u001b[35m[2020-07-25:20:57:15:INFO] Sniff delimiter as ','\u001b[0m\n",
      "\u001b[35m[2020-07-25:20:57:15:INFO] Determined delimiter of CSV input is ','\u001b[0m\n",
      "\u001b[34m[2020-07-25:20:57:17:INFO] Sniff delimiter as ','\u001b[0m\n",
      "\u001b[34m[2020-07-25:20:57:17:INFO] Determined delimiter of CSV input is ','\u001b[0m\n",
      "\u001b[34m[2020-07-25:20:57:17:INFO] Sniff delimiter as ','\u001b[0m\n",
      "\u001b[34m[2020-07-25:20:57:17:INFO] Determined delimiter of CSV input is ','\u001b[0m\n",
      "\u001b[34m[2020-07-25:20:57:17:INFO] Sniff delimiter as ','\u001b[0m\n",
      "\u001b[34m[2020-07-25:20:57:17:INFO] Determined delimiter of CSV input is ','\u001b[0m\n",
      "\u001b[34m[2020-07-25:20:57:17:INFO] Sniff delimiter as ','\u001b[0m\n",
      "\u001b[34m[2020-07-25:20:57:17:INFO] Determined delimiter of CSV input is ','\u001b[0m\n",
      "\u001b[35m[2020-07-25:20:57:17:INFO] Sniff delimiter as ','\u001b[0m\n",
      "\u001b[35m[2020-07-25:20:57:17:INFO] Determined delimiter of CSV input is ','\u001b[0m\n",
      "\u001b[35m[2020-07-25:20:57:17:INFO] Sniff delimiter as ','\u001b[0m\n",
      "\u001b[35m[2020-07-25:20:57:17:INFO] Determined delimiter of CSV input is ','\u001b[0m\n",
      "\u001b[35m[2020-07-25:20:57:17:INFO] Sniff delimiter as ','\u001b[0m\n",
      "\u001b[35m[2020-07-25:20:57:17:INFO] Determined delimiter of CSV input is ','\u001b[0m\n",
      "\u001b[35m[2020-07-25:20:57:17:INFO] Sniff delimiter as ','\u001b[0m\n",
      "\u001b[35m[2020-07-25:20:57:17:INFO] Determined delimiter of CSV input is ','\u001b[0m\n",
      "\u001b[34m[2020-07-25:20:57:19:INFO] Sniff delimiter as ','\u001b[0m\n",
      "\u001b[34m[2020-07-25:20:57:19:INFO] Determined delimiter of CSV input is ','\u001b[0m\n",
      "\u001b[34m[2020-07-25:20:57:20:INFO] Sniff delimiter as ','\u001b[0m\n",
      "\u001b[34m[2020-07-25:20:57:20:INFO] Determined delimiter of CSV input is ','\u001b[0m\n",
      "\u001b[35m[2020-07-25:20:57:19:INFO] Sniff delimiter as ','\u001b[0m\n",
      "\u001b[35m[2020-07-25:20:57:19:INFO] Determined delimiter of CSV input is ','\u001b[0m\n",
      "\u001b[35m[2020-07-25:20:57:20:INFO] Sniff delimiter as ','\u001b[0m\n",
      "\u001b[35m[2020-07-25:20:57:20:INFO] Determined delimiter of CSV input is ','\u001b[0m\n",
      "\u001b[34m[2020-07-25:20:57:22:INFO] Sniff delimiter as ','\u001b[0m\n",
      "\u001b[34m[2020-07-25:20:57:22:INFO] Determined delimiter of CSV input is ','\u001b[0m\n",
      "\u001b[34m[2020-07-25:20:57:22:INFO] Sniff delimiter as ','\u001b[0m\n",
      "\u001b[34m[2020-07-25:20:57:22:INFO] Determined delimiter of CSV input is ','\u001b[0m\n",
      "\u001b[34m[2020-07-25:20:57:22:INFO] Sniff delimiter as ','\u001b[0m\n",
      "\u001b[34m[2020-07-25:20:57:22:INFO] Determined delimiter of CSV input is ','\u001b[0m\n",
      "\u001b[34m[2020-07-25:20:57:22:INFO] Sniff delimiter as ','\u001b[0m\n",
      "\u001b[34m[2020-07-25:20:57:22:INFO] Determined delimiter of CSV input is ','\u001b[0m\n",
      "\u001b[35m[2020-07-25:20:57:22:INFO] Sniff delimiter as ','\u001b[0m\n",
      "\u001b[35m[2020-07-25:20:57:22:INFO] Determined delimiter of CSV input is ','\u001b[0m\n",
      "\u001b[35m[2020-07-25:20:57:22:INFO] Sniff delimiter as ','\u001b[0m\n",
      "\u001b[35m[2020-07-25:20:57:22:INFO] Determined delimiter of CSV input is ','\u001b[0m\n",
      "\u001b[35m[2020-07-25:20:57:22:INFO] Sniff delimiter as ','\u001b[0m\n",
      "\u001b[35m[2020-07-25:20:57:22:INFO] Determined delimiter of CSV input is ','\u001b[0m\n",
      "\u001b[35m[2020-07-25:20:57:22:INFO] Sniff delimiter as ','\u001b[0m\n",
      "\u001b[35m[2020-07-25:20:57:22:INFO] Determined delimiter of CSV input is ','\u001b[0m\n",
      "\u001b[34m[2020-07-25:20:57:24:INFO] Sniff delimiter as ','\u001b[0m\n",
      "\u001b[34m[2020-07-25:20:57:24:INFO] Determined delimiter of CSV input is ','\u001b[0m\n",
      "\u001b[34m[2020-07-25:20:57:24:INFO] Sniff delimiter as ','\u001b[0m\n",
      "\u001b[34m[2020-07-25:20:57:24:INFO] Determined delimiter of CSV input is ','\u001b[0m\n",
      "\u001b[34m[2020-07-25:20:57:25:INFO] Sniff delimiter as ','\u001b[0m\n",
      "\u001b[34m[2020-07-25:20:57:25:INFO] Determined delimiter of CSV input is ','\u001b[0m\n",
      "\u001b[35m[2020-07-25:20:57:24:INFO] Sniff delimiter as ','\u001b[0m\n",
      "\u001b[35m[2020-07-25:20:57:24:INFO] Determined delimiter of CSV input is ','\u001b[0m\n",
      "\u001b[35m[2020-07-25:20:57:24:INFO] Sniff delimiter as ','\u001b[0m\n",
      "\u001b[35m[2020-07-25:20:57:24:INFO] Determined delimiter of CSV input is ','\u001b[0m\n",
      "\u001b[35m[2020-07-25:20:57:25:INFO] Sniff delimiter as ','\u001b[0m\n",
      "\u001b[35m[2020-07-25:20:57:25:INFO] Determined delimiter of CSV input is ','\u001b[0m\n",
      "\u001b[34m[2020-07-25:20:57:25:INFO] Sniff delimiter as ','\u001b[0m\n",
      "\u001b[34m[2020-07-25:20:57:25:INFO] Determined delimiter of CSV input is ','\u001b[0m\n",
      "\u001b[35m[2020-07-25:20:57:25:INFO] Sniff delimiter as ','\u001b[0m\n",
      "\u001b[35m[2020-07-25:20:57:25:INFO] Determined delimiter of CSV input is ','\u001b[0m\n",
      "\u001b[34m[2020-07-25:20:57:27:INFO] Sniff delimiter as ','\u001b[0m\n",
      "\u001b[34m[2020-07-25:20:57:27:INFO] Determined delimiter of CSV input is ','\u001b[0m\n",
      "\u001b[35m[2020-07-25:20:57:27:INFO] Sniff delimiter as ','\u001b[0m\n",
      "\u001b[35m[2020-07-25:20:57:27:INFO] Determined delimiter of CSV input is ','\u001b[0m\n",
      "\u001b[34m[2020-07-25:20:57:27:INFO] Sniff delimiter as ','\u001b[0m\n",
      "\u001b[34m[2020-07-25:20:57:27:INFO] Determined delimiter of CSV input is ','\u001b[0m\n",
      "\u001b[34m[2020-07-25:20:57:27:INFO] Sniff delimiter as ','\u001b[0m\n",
      "\u001b[35m[2020-07-25:20:57:27:INFO] Sniff delimiter as ','\u001b[0m\n",
      "\u001b[35m[2020-07-25:20:57:27:INFO] Determined delimiter of CSV input is ','\u001b[0m\n",
      "\u001b[35m[2020-07-25:20:57:27:INFO] Sniff delimiter as ','\u001b[0m\n",
      "\u001b[34m[2020-07-25:20:57:27:INFO] Determined delimiter of CSV input is ','\u001b[0m\n",
      "\u001b[34m[2020-07-25:20:57:27:INFO] Sniff delimiter as ','\u001b[0m\n",
      "\u001b[34m[2020-07-25:20:57:27:INFO] Determined delimiter of CSV input is ','\u001b[0m\n",
      "\u001b[35m[2020-07-25:20:57:27:INFO] Determined delimiter of CSV input is ','\u001b[0m\n",
      "\u001b[35m[2020-07-25:20:57:27:INFO] Sniff delimiter as ','\u001b[0m\n",
      "\u001b[35m[2020-07-25:20:57:27:INFO] Determined delimiter of CSV input is ','\u001b[0m\n",
      "\u001b[34m[2020-07-25:20:57:29:INFO] Sniff delimiter as ','\u001b[0m\n",
      "\u001b[34m[2020-07-25:20:57:29:INFO] Determined delimiter of CSV input is ','\u001b[0m\n",
      "\u001b[34m[2020-07-25:20:57:29:INFO] Sniff delimiter as ','\u001b[0m\n",
      "\u001b[35m[2020-07-25:20:57:29:INFO] Sniff delimiter as ','\u001b[0m\n",
      "\u001b[35m[2020-07-25:20:57:29:INFO] Determined delimiter of CSV input is ','\u001b[0m\n",
      "\u001b[35m[2020-07-25:20:57:29:INFO] Sniff delimiter as ','\u001b[0m\n",
      "\u001b[34m[2020-07-25:20:57:29:INFO] Determined delimiter of CSV input is ','\u001b[0m\n",
      "\u001b[34m[2020-07-25:20:57:29:INFO] Sniff delimiter as ','\u001b[0m\n",
      "\u001b[34m[2020-07-25:20:57:29:INFO] Determined delimiter of CSV input is ','\u001b[0m\n",
      "\u001b[35m[2020-07-25:20:57:29:INFO] Determined delimiter of CSV input is ','\u001b[0m\n",
      "\u001b[35m[2020-07-25:20:57:29:INFO] Sniff delimiter as ','\u001b[0m\n",
      "\u001b[35m[2020-07-25:20:57:29:INFO] Determined delimiter of CSV input is ','\u001b[0m\n",
      "\u001b[34m[2020-07-25:20:57:32:INFO] Determined delimiter of CSV input is ','\u001b[0m\n",
      "\u001b[34m[2020-07-25:20:57:32:INFO] Sniff delimiter as ','\u001b[0m\n",
      "\u001b[34m[2020-07-25:20:57:32:INFO] Determined delimiter of CSV input is ','\u001b[0m\n",
      "\u001b[35m[2020-07-25:20:57:32:INFO] Determined delimiter of CSV input is ','\u001b[0m\n",
      "\u001b[35m[2020-07-25:20:57:32:INFO] Sniff delimiter as ','\u001b[0m\n",
      "\u001b[35m[2020-07-25:20:57:32:INFO] Determined delimiter of CSV input is ','\u001b[0m\n",
      "\u001b[34m[2020-07-25:20:57:32:INFO] Sniff delimiter as ','\u001b[0m\n",
      "\u001b[34m[2020-07-25:20:57:32:INFO] Determined delimiter of CSV input is ','\u001b[0m\n",
      "\u001b[34m[2020-07-25:20:57:32:INFO] Sniff delimiter as ','\u001b[0m\n",
      "\u001b[34m[2020-07-25:20:57:32:INFO] Determined delimiter of CSV input is ','\u001b[0m\n",
      "\u001b[35m[2020-07-25:20:57:32:INFO] Sniff delimiter as ','\u001b[0m\n",
      "\u001b[35m[2020-07-25:20:57:32:INFO] Determined delimiter of CSV input is ','\u001b[0m\n",
      "\u001b[35m[2020-07-25:20:57:32:INFO] Sniff delimiter as ','\u001b[0m\n",
      "\u001b[35m[2020-07-25:20:57:32:INFO] Determined delimiter of CSV input is ','\u001b[0m\n",
      "\u001b[34m[2020-07-25:20:57:34:INFO] Sniff delimiter as ','\u001b[0m\n",
      "\u001b[34m[2020-07-25:20:57:34:INFO] Determined delimiter of CSV input is ','\u001b[0m\n",
      "\u001b[34m[2020-07-25:20:57:34:INFO] Sniff delimiter as ','\u001b[0m\n",
      "\u001b[34m[2020-07-25:20:57:34:INFO] Determined delimiter of CSV input is ','\u001b[0m\n",
      "\u001b[35m[2020-07-25:20:57:34:INFO] Sniff delimiter as ','\u001b[0m\n",
      "\u001b[35m[2020-07-25:20:57:34:INFO] Determined delimiter of CSV input is ','\u001b[0m\n",
      "\u001b[35m[2020-07-25:20:57:34:INFO] Sniff delimiter as ','\u001b[0m\n",
      "\u001b[35m[2020-07-25:20:57:34:INFO] Determined delimiter of CSV input is ','\u001b[0m\n",
      "\n"
     ]
    }
   ],
   "source": [
    "xgb_transformer.wait()"
   ]
  },
  {
   "cell_type": "markdown",
   "metadata": {},
   "source": [
    "Now the transform job has executed and the result, the estimated sentiment of each review, has been saved on S3. Since we would rather work on this file locally we can perform a bit of notebook magic to copy the file to the `data_dir`."
   ]
  },
  {
   "cell_type": "code",
   "execution_count": 27,
   "metadata": {},
   "outputs": [
    {
     "name": "stdout",
     "output_type": "stream",
     "text": [
      "download: s3://sagemaker-ap-south-1-319211350224/xgboost-2020-07-25-20-53-22-396/test.csv.out to ../data/sentiment_web_app/test.csv.out\r\n"
     ]
    }
   ],
   "source": [
    "!aws s3 cp --recursive $xgb_transformer.output_path $data_dir"
   ]
  },
  {
   "cell_type": "markdown",
   "metadata": {},
   "source": [
    "The last step is now to read in the output from our model, convert the output to something a little more usable, in this case we want the sentiment to be either `1` (positive) or `0` (negative), and then compare to the ground truth labels."
   ]
  },
  {
   "cell_type": "code",
   "execution_count": 28,
   "metadata": {},
   "outputs": [],
   "source": [
    "predictions = pd.read_csv(os.path.join(data_dir, 'test.csv.out'), header=None)\n",
    "predictions = [round(num) for num in predictions.squeeze().values]"
   ]
  },
  {
   "cell_type": "code",
   "execution_count": 29,
   "metadata": {},
   "outputs": [
    {
     "data": {
      "text/plain": [
       "0.85304"
      ]
     },
     "execution_count": 29,
     "metadata": {},
     "output_type": "execute_result"
    }
   ],
   "source": [
    "from sklearn.metrics import accuracy_score\n",
    "accuracy_score(test_y, predictions)"
   ]
  },
  {
   "cell_type": "markdown",
   "metadata": {},
   "source": [
    "## Step 6: Deploying the model\n",
    "\n",
    "Once we construct and fit our model, SageMaker stores the resulting model artifacts and we can use those to deploy an endpoint (inference code). To see this, look in the SageMaker console and you should see that a model has been created along with a link to the S3 location where the model artifacts have been stored.\n",
    "\n",
    "Deploying an endpoint is a lot like training the model with a few important differences. The first is that a deployed model doesn't change the model artifacts, so as you send it various testing instances the model won't change. Another difference is that since we aren't performing a fixed computation, as we were in the training step or while performing a batch transform, the compute instance that gets started stays running until we tell it to stop. This is important to note as if we forget and leave it running we will be charged the entire time.\n",
    "\n",
    "In other words **If you are no longer using a deployed endpoint, shut it down!**"
   ]
  },
  {
   "cell_type": "code",
   "execution_count": 30,
   "metadata": {},
   "outputs": [
    {
     "name": "stderr",
     "output_type": "stream",
     "text": [
      "WARNING:sagemaker:Parameter image will be renamed to image_uri in SageMaker Python SDK v2.\n",
      "WARNING:sagemaker:Using already existing model: xgboost-2020-07-25-20-47-08-545\n"
     ]
    },
    {
     "name": "stdout",
     "output_type": "stream",
     "text": [
      "-------------!"
     ]
    }
   ],
   "source": [
    "xgb_predictor = xgb.deploy(initial_instance_count = 1, instance_type = 'ml.m4.xlarge')"
   ]
  },
  {
   "cell_type": "markdown",
   "metadata": {},
   "source": [
    "### Testing the model (again)\n",
    "\n",
    "Now that we have deployed our endpoint, we can send the testing data to it and get back the inference results. We already did this earlier using the batch transform functionality of SageMaker, however, we will test our model again using the newly deployed endpoint so that we can make sure that it works properly and to get a bit of a feel for how the endpoint works.\n",
    "\n",
    "When using the created endpoint it is important to know that we are limited in the amount of information we can send in each call so we need to break the testing data up into chunks and then send each chunk. Also, we need to serialize our data before we send it to the endpoint to ensure that our data is transmitted properly. Fortunately, SageMaker can do the serialization part for us provided we tell it the format of our data."
   ]
  },
  {
   "cell_type": "code",
   "execution_count": 31,
   "metadata": {},
   "outputs": [],
   "source": [
    "from sagemaker.predictor import csv_serializer\n",
    "\n",
    "# We need to tell the endpoint what format the data we are sending is in so that SageMaker can perform the serialization.\n",
    "xgb_predictor.content_type = 'text/csv'\n",
    "xgb_predictor.serializer = csv_serializer"
   ]
  },
  {
   "cell_type": "code",
   "execution_count": 32,
   "metadata": {},
   "outputs": [],
   "source": [
    "# We split the data into chunks and send each chunk seperately, accumulating the results.\n",
    "\n",
    "def predict(data, rows=512):\n",
    "    split_array = np.array_split(data, int(data.shape[0] / float(rows) + 1))\n",
    "    predictions = ''\n",
    "    for array in split_array:\n",
    "        predictions = ','.join([predictions, xgb_predictor.predict(array).decode('utf-8')])\n",
    "    \n",
    "    return np.fromstring(predictions[1:], sep=',')"
   ]
  },
  {
   "cell_type": "code",
   "execution_count": 33,
   "metadata": {},
   "outputs": [],
   "source": [
    "test_X = pd.read_csv(os.path.join(data_dir, 'test.csv'), header=None).values\n",
    "\n",
    "predictions = predict(test_X)\n",
    "predictions = [round(num) for num in predictions]"
   ]
  },
  {
   "cell_type": "markdown",
   "metadata": {},
   "source": [
    "Lastly, we check to see what the accuracy of our model is."
   ]
  },
  {
   "cell_type": "code",
   "execution_count": 34,
   "metadata": {},
   "outputs": [
    {
     "data": {
      "text/plain": [
       "0.85304"
      ]
     },
     "execution_count": 34,
     "metadata": {},
     "output_type": "execute_result"
    }
   ],
   "source": [
    "from sklearn.metrics import accuracy_score\n",
    "accuracy_score(test_y, predictions)"
   ]
  },
  {
   "cell_type": "markdown",
   "metadata": {},
   "source": [
    "And the results here should agree with the model testing that we did earlier using the batch transform job.\n",
    "\n",
    "### Cleaning up\n",
    "\n",
    "Now that we've determined that deploying our model works as expected, we are going to shut it down. Remember that the longer the endpoint is left running, the greater the cost and since we have a bit more work to do before we are able to use our endpoint with our simple web app, we should shut everything down."
   ]
  },
  {
   "cell_type": "code",
   "execution_count": 35,
   "metadata": {},
   "outputs": [],
   "source": [
    "xgb_predictor.delete_endpoint()"
   ]
  },
  {
   "cell_type": "markdown",
   "metadata": {},
   "source": [
    "## Step 7: Putting our model to work\n",
    "\n",
    "As we've mentioned a few times now, our goal is to have our model deployed and then access it using a very simple web app. The intent is for this web app to take some user submitted data (a review), send it off to our endpoint (the model) and then display the result.\n",
    "\n",
    "However, there is a small catch. Currently the only way we can access the endpoint to send it data is using the SageMaker API. We can, if we wish, expose the actual URL that our model's endpoint is receiving data from, however, if we just send it data ourselves we will not get anything in return. This is because the endpoint created by SageMaker requires the entity accessing it have the correct permissions. So, we would need to somehow authenticate our web app with AWS.\n",
    "\n",
    "Having a website that authenticates to AWS seems a bit beyond the scope of this lesson so we will opt for an alternative approach. Namely, we will create a new endpoint which does not require authentication and which acts as a proxy for the SageMaker endpoint.\n",
    "\n",
    "As an additional constraint, we will try to avoid doing any data processing in the web app itself. Remember that when we constructed and tested our model we started with a movie review, then we simplified it by removing any html formatting and punctuation, then we constructed a bag of words embedding and the resulting vector is what we sent to our model. All of this needs to be done to our user input as well.\n",
    "\n",
    "Fortunately we can do all of this data processing in the backend, using Amazon's Lambda service.\n",
    "\n",
    "<img src=\"Web App Diagram.svg\">\n",
    "\n",
    "The diagram above gives an overview of how the various services will work together. On the far right is the model which we trained above and which will be deployed using SageMaker. On the far left is our web app that collects a user's movie review, sends it off and expects a positive or negative sentiment in return.\n",
    "\n",
    "In the middle is where some of the magic happens. We will construct a Lambda function, which you can think of as a straightforward Python function that can be executed whenever a specified event occurs. This Python function will do the data processing we need to perform on a user submitted review. In addition, we will give this function permission to send and recieve data from a SageMaker endpoint.\n",
    "\n",
    "Lastly, the method we will use to execute the Lambda function is a new endpoint that we will create using API Gateway. This endpoint will be a url that listens for data to be sent to it. Once it gets some data it will pass that data on to the Lambda function and then return whatever the Lambda function returns. Essentially it will act as an interface that lets our web app communicate with the Lambda function.\n",
    "\n",
    "### Processing a single review\n",
    "\n",
    "For now, suppose we are given a movie review by our user in the form of a string, like so:"
   ]
  },
  {
   "cell_type": "code",
   "execution_count": 36,
   "metadata": {},
   "outputs": [],
   "source": [
    "test_review = \"Nothing but a disgusting materialistic pageant of glistening abed remote control greed zombies, totally devoid of any heart or heat. A romantic comedy that has zero romantic chemestry and zero laughs!\""
   ]
  },
  {
   "cell_type": "markdown",
   "metadata": {},
   "source": [
    "How do we go from this string to the bag of words feature vector that is expected by our model?\n",
    "\n",
    "If we recall at the beginning of this notebook, the first step is to remove any unnecessary characters using the `review_to_words` method. Remember that we intentionally did this in a very simplistic way. This is because we are going to have to copy this method to our (eventual) Lambda function (we will go into more detail later) and this means it needs to be rather simplistic."
   ]
  },
  {
   "cell_type": "code",
   "execution_count": 37,
   "metadata": {},
   "outputs": [
    {
     "name": "stdout",
     "output_type": "stream",
     "text": [
      "nothing but a disgusting materialistic pageant of glistening abed remote control greed zombies totally devoid of any heart or heat a romantic comedy that has zero romantic chemestry and zero laughs\n"
     ]
    }
   ],
   "source": [
    "test_words = review_to_words(test_review)\n",
    "print(test_words)"
   ]
  },
  {
   "cell_type": "markdown",
   "metadata": {},
   "source": [
    "Next, we need to construct a bag of words embedding of the `test_words` string. To do this, remember that a bag of words embedding uses a `vocabulary` consisting of the most frequently appearing words in a set of documents. Then, for each word in the vocabulary we record the number of times that word appears in `test_words`. We constructed the `vocabulary` earlier using the training set for our problem so encoding `test_words` is relatively straightforward."
   ]
  },
  {
   "cell_type": "code",
   "execution_count": 38,
   "metadata": {},
   "outputs": [],
   "source": [
    "def bow_encoding(words, vocabulary):\n",
    "    bow = [0] * len(vocabulary) # Start by setting the count for each word in the vocabulary to zero.\n",
    "    for word in words.split():  # For each word in the string\n",
    "        if word in vocabulary:  # If the word is one that occurs in the vocabulary, increase its count.\n",
    "            bow[vocabulary[word]] += 1\n",
    "    return bow"
   ]
  },
  {
   "cell_type": "code",
   "execution_count": 39,
   "metadata": {},
   "outputs": [
    {
     "name": "stdout",
     "output_type": "stream",
     "text": [
      "[0, 0, 0, 0, 0, 0, 0, 0, 0, 0, 0, 0, 0, 0, 0, 0, 0, 0, 0, 0, 0, 0, 0, 0, 0, 0, 0, 0, 0, 0, 0, 0, 0, 0, 0, 0, 0, 0, 0, 0, 0, 0, 0, 0, 0, 0, 0, 0, 0, 0, 0, 0, 0, 0, 0, 0, 0, 0, 0, 0, 0, 0, 0, 0, 0, 0, 0, 0, 0, 0, 0, 0, 0, 0, 0, 0, 0, 0, 0, 0, 0, 0, 0, 0, 0, 0, 0, 0, 0, 0, 0, 0, 0, 0, 0, 0, 0, 0, 0, 0, 0, 0, 0, 0, 0, 0, 0, 0, 0, 0, 0, 0, 0, 0, 0, 0, 0, 0, 0, 0, 0, 0, 0, 0, 0, 0, 0, 0, 0, 0, 0, 0, 0, 0, 0, 0, 0, 0, 0, 0, 0, 0, 0, 0, 0, 0, 0, 0, 0, 0, 0, 0, 0, 0, 0, 0, 0, 0, 0, 0, 0, 0, 0, 0, 0, 0, 0, 0, 0, 0, 0, 0, 0, 0, 0, 0, 0, 0, 0, 0, 0, 0, 0, 0, 0, 0, 0, 0, 0, 0, 0, 0, 0, 0, 0, 0, 0, 0, 0, 0, 0, 0, 0, 0, 0, 0, 0, 0, 0, 0, 0, 0, 0, 0, 0, 0, 0, 0, 0, 0, 0, 0, 0, 0, 0, 0, 1, 0, 0, 0, 0, 0, 0, 0, 0, 0, 0, 0, 0, 0, 0, 0, 0, 0, 0, 0, 0, 0, 0, 0, 0, 0, 0, 0, 0, 0, 1, 0, 0, 0, 0, 0, 0, 0, 0, 0, 0, 0, 0, 0, 0, 0, 0, 0, 0, 0, 0, 0, 0, 0, 0, 0, 0, 0, 0, 0, 0, 0, 0, 0, 0, 0, 0, 0, 0, 0, 0, 0, 0, 0, 0, 0, 0, 0, 0, 0, 0, 0, 0, 0, 0, 0, 0, 0, 0, 0, 0, 0, 0, 0, 0, 0, 0, 0, 0, 0, 0, 0, 0, 0, 0, 0, 0, 0, 0, 0, 0, 0, 0, 0, 0, 0, 0, 0, 0, 0, 0, 0, 0, 0, 0, 0, 0, 0, 0, 0, 0, 0, 0, 0, 0, 0, 0, 0, 0, 0, 0, 0, 0, 0, 0, 0, 0, 0, 0, 0, 0, 0, 0, 0, 0, 0, 0, 0, 0, 0, 0, 0, 0, 0, 0, 0, 0, 0, 0, 0, 0, 0, 0, 0, 0, 0, 0, 0, 0, 0, 0, 0, 0, 0, 0, 0, 0, 0, 0, 0, 0, 0, 0, 0, 0, 0, 0, 0, 0, 0, 0, 0, 0, 0, 0, 0, 0, 0, 0, 0, 0, 0, 0, 0, 0, 0, 0, 0, 0, 0, 0, 0, 0, 0, 0, 0, 0, 0, 0, 0, 0, 0, 0, 0, 0, 0, 0, 0, 0, 0, 0, 0, 0, 0, 0, 0, 0, 0, 0, 0, 0, 0, 0, 0, 0, 0, 0, 0, 0, 0, 0, 0, 0, 0, 0, 0, 0, 0, 0, 0, 0, 0, 0, 0, 0, 0, 0, 0, 0, 0, 0, 0, 0, 0, 0, 0, 0, 0, 0, 0, 0, 0, 0, 0, 0, 0, 0, 0, 0, 0, 0, 0, 0, 0, 0, 0, 0, 0, 0, 0, 0, 0, 0, 0, 0, 0, 0, 0, 0, 0, 0, 0, 0, 0, 0, 0, 0, 0, 0, 0, 0, 0, 0, 0, 0, 0, 0, 0, 0, 0, 0, 0, 0, 0, 0, 0, 0, 0, 0, 0, 0, 0, 0, 0, 0, 0, 0, 0, 0, 0, 0, 0, 0, 0, 0, 0, 0, 0, 0, 0, 0, 0, 0, 0, 0, 0, 0, 0, 0, 0, 0, 0, 0, 0, 0, 0, 0, 0, 0, 0, 0, 0, 0, 0, 0, 0, 0, 0, 0, 0, 0, 0, 0, 0, 0, 0, 0, 0, 0, 0, 1, 0, 0, 0, 0, 0, 0, 0, 0, 0, 0, 0, 0, 0, 0, 0, 0, 0, 0, 0, 0, 0, 0, 0, 0, 0, 0, 0, 0, 0, 0, 0, 0, 0, 0, 0, 0, 0, 0, 0, 0, 0, 0, 0, 0, 0, 0, 0, 0, 0, 0, 0, 0, 0, 0, 0, 0, 0, 0, 0, 0, 0, 0, 0, 0, 0, 0, 0, 0, 0, 0, 0, 0, 0, 0, 0, 0, 0, 0, 0, 0, 0, 0, 0, 0, 0, 0, 0, 0, 0, 0, 0, 0, 0, 0, 0, 0, 0, 0, 0, 0, 0, 0, 0, 0, 0, 0, 0, 0, 0, 0, 0, 0, 0, 0, 0, 0, 0, 0, 0, 0, 0, 0, 0, 0, 0, 0, 0, 0, 0, 0, 0, 0, 0, 0, 0, 0, 0, 0, 0, 0, 0, 0, 0, 0, 0, 0, 0, 0, 0, 0, 0, 0, 0, 0, 0, 0, 0, 0, 0, 0, 0, 0, 0, 0, 0, 0, 0, 0, 0, 0, 0, 0, 0, 0, 0, 0, 0, 0, 0, 0, 0, 0, 0, 0, 0, 0, 0, 0, 0, 0, 0, 0, 0, 0, 0, 0, 0, 0, 0, 0, 0, 0, 0, 0, 0, 0, 0, 0, 0, 0, 0, 0, 0, 0, 0, 0, 0, 0, 0, 0, 0, 0, 0, 0, 0, 0, 0, 0, 0, 0, 0, 0, 0, 0, 0, 0, 0, 0, 0, 0, 0, 0, 0, 0, 0, 0, 0, 0, 0, 0, 0, 0, 0, 1, 0, 0, 0, 0, 0, 0, 0, 0, 0, 0, 0, 0, 0, 0, 0, 0, 0, 0, 0, 0, 0, 0, 0, 0, 0, 0, 0, 0, 0, 0, 0, 0, 0, 0, 0, 0, 0, 0, 0, 0, 0, 0, 0, 0, 0, 0, 0, 0, 0, 0, 0, 0, 0, 0, 0, 0, 0, 0, 0, 0, 0, 0, 0, 0, 0, 0, 0, 0, 0, 0, 0, 0, 0, 0, 0, 0, 0, 0, 0, 0, 0, 0, 0, 0, 0, 0, 1, 0, 0, 0, 0, 0, 0, 0, 0, 0, 0, 0, 0, 0, 0, 0, 0, 0, 0, 0, 0, 0, 0, 0, 0, 0, 0, 0, 0, 0, 0, 0, 0, 0, 0, 0, 0, 0, 0, 0, 0, 0, 0, 0, 0, 0, 0, 0, 0, 0, 0, 0, 0, 0, 0, 0, 0, 0, 0, 0, 0, 0, 0, 0, 0, 0, 0, 0, 0, 0, 0, 0, 0, 0, 0, 0, 0, 0, 0, 0, 0, 0, 0, 0, 0, 0, 0, 0, 0, 0, 0, 0, 0, 0, 0, 0, 0, 0, 0, 0, 0, 0, 0, 0, 0, 0, 0, 0, 0, 0, 0, 0, 0, 0, 0, 0, 0, 0, 0, 0, 0, 0, 0, 0, 0, 0, 0, 0, 0, 0, 0, 0, 0, 0, 0, 0, 0, 0, 0, 0, 0, 0, 0, 0, 0, 0, 0, 0, 0, 0, 0, 0, 0, 0, 0, 0, 0, 0, 0, 0, 0, 0, 0, 0, 0, 0, 0, 0, 0, 0, 0, 0, 0, 0, 0, 0, 0, 0, 0, 0, 0, 0, 0, 0, 0, 0, 0, 0, 0, 0, 0, 0, 0, 0, 0, 0, 0, 0, 0, 0, 0, 0, 0, 0, 0, 0, 0, 0, 0, 0, 0, 0, 0, 0, 0, 0, 0, 0, 0, 0, 0, 0, 0, 0, 0, 0, 0, 0, 0, 0, 0, 0, 0, 0, 0, 0, 0, 0, 0, 0, 0, 0, 0, 0, 0, 0, 0, 0, 0, 0, 0, 0, 0, 1, 0, 0, 0, 0, 0, 0, 0, 0, 0, 0, 0, 0, 0, 0, 0, 0, 0, 0, 0, 0, 0, 0, 0, 0, 0, 0, 0, 0, 0, 0, 0, 0, 0, 0, 0, 0, 0, 0, 0, 0, 0, 0, 0, 0, 0, 0, 0, 0, 0, 0, 0, 0, 0, 0, 0, 1, 0, 0, 0, 0, 0, 0, 0, 0, 0, 0, 0, 0, 0, 0, 0, 0, 0, 0, 0, 0, 0, 0, 0, 0, 0, 0, 0, 0, 0, 0, 0, 0, 0, 0, 0, 0, 0, 0, 0, 0, 0, 0, 0, 0, 0, 0, 0, 0, 0, 0, 0, 0, 0, 0, 0, 0, 0, 0, 0, 0, 0, 0, 0, 0, 0, 0, 0, 0, 0, 0, 0, 0, 0, 0, 0, 0, 0, 0, 0, 0, 0, 0, 0, 0, 0, 0, 0, 0, 0, 0, 0, 0, 0, 0, 0, 0, 0, 0, 0, 0, 0, 0, 0, 0, 0, 0, 0, 0, 0, 0, 0, 0, 0, 0, 0, 0, 0, 0, 0, 0, 0, 0, 0, 0, 0, 0, 0, 0, 0, 0, 0, 0, 0, 0, 0, 0, 0, 0, 0, 0, 0, 0, 0, 0, 0, 0, 0, 0, 0, 0, 0, 0, 0, 0, 0, 0, 0, 0, 0, 0, 0, 0, 0, 0, 0, 0, 0, 0, 0, 0, 0, 0, 0, 0, 0, 0, 0, 0, 0, 0, 0, 0, 0, 0, 0, 0, 0, 0, 0, 0, 0, 0, 0, 0, 0, 0, 0, 0, 0, 0, 0, 0, 0, 0, 0, 0, 0, 0, 0, 0, 0, 0, 0, 0, 0, 0, 0, 0, 0, 0, 0, 0, 0, 0, 0, 0, 0, 0, 0, 0, 0, 0, 0, 0, 0, 0, 0, 0, 0, 0, 0, 0, 0, 0, 0, 0, 0, 0, 0, 0, 0, 0, 0, 0, 0, 0, 0, 0, 0, 0, 0, 0, 0, 0, 0, 0, 0, 0, 0, 0, 0, 0, 0, 0, 0, 0, 0, 0, 0, 0, 0, 0, 0, 0, 0, 0, 0, 0, 0, 0, 0, 0, 0, 0, 0, 0, 0, 0, 0, 0, 0, 0, 0, 0, 0, 0, 0, 0, 0, 0, 0, 0, 0, 0, 0, 0, 0, 0, 0, 0, 0, 0, 0, 0, 0, 0, 0, 0, 0, 0, 0, 0, 0, 0, 0, 0, 0, 0, 0, 0, 0, 0, 0, 0, 0, 0, 0, 0, 0, 0, 0, 0, 0, 0, 0, 0, 0, 0, 0, 0, 0, 0, 0, 0, 0, 0, 0, 0, 0, 0, 0, 0, 0, 0, 0, 0, 0, 0, 0, 0, 0, 0, 0, 0, 0, 0, 0, 0, 0, 0, 0, 0, 0, 0, 0, 0, 0, 0, 0, 0, 0, 0, 0, 0, 0, 0, 0, 0, 0, 0, 0, 0, 0, 0, 0, 0, 0, 0, 0, 0, 0, 0, 0, 0, 0, 0, 0, 0, 0, 0, 0, 0, 0, 0, 0, 0, 0, 0, 0, 0, 0, 0, 0, 0, 0, 0, 0, 0, 0, 0, 0, 0, 0, 0, 0, 0, 0, 0, 0, 0, 0, 0, 0, 0, 0, 0, 0, 0, 0, 0, 0, 0, 0, 0, 0, 0, 0, 0, 0, 0, 0, 0, 0, 0, 0, 0, 0, 0, 0, 0, 0, 0, 0, 0, 0, 0, 0, 0, 0, 0, 0, 0, 0, 0, 0, 0, 0, 0, 0, 0, 0, 0, 0, 0, 0, 0, 0, 0, 0, 0, 0, 0, 0, 0, 0, 0, 0, 0, 0, 0, 0, 0, 0, 0, 0, 0, 0, 0, 0, 0, 0, 0, 0, 0, 0, 0, 0, 0, 0, 0, 0, 0, 0, 0, 0, 0, 0, 0, 0, 0, 0, 0, 0, 0, 0, 0, 0, 0, 0, 0, 0, 0, 0, 0, 0, 0, 0, 0, 0, 0, 0, 0, 0, 0, 0, 0, 0, 0, 0, 0, 0, 0, 0, 0, 0, 0, 0, 0, 0, 0, 0, 0, 0, 0, 0, 0, 0, 0, 0, 0, 0, 0, 0, 0, 0, 0, 0, 0, 0, 0, 0, 0, 0, 0, 0, 0, 0, 0, 0, 0, 0, 0, 0, 0, 0, 0, 0, 0, 0, 0, 0, 0, 0, 0, 0, 0, 0, 0, 0, 0, 0, 0, 0, 0, 0, 0, 0, 0, 0, 0, 0, 0, 0, 0, 0, 0, 0, 0, 0, 0, 0, 0, 0, 0, 0, 0, 0, 0, 0, 0, 0, 1, 0, 0, 0, 0, 0, 0, 0, 0, 0, 0, 0, 0, 0, 0, 0, 0, 0, 0, 0, 0, 0, 0, 0, 0, 0, 0, 0, 0, 0, 0, 0, 0, 0, 0, 0, 0, 0, 0, 0, 0, 0, 0, 0, 0, 0, 0, 0, 0, 0, 0, 0, 0, 0, 0, 0, 0, 0, 0, 0, 0, 0, 0, 0, 0, 0, 0, 0, 0, 0, 0, 0, 0, 0, 0, 1, 0, 0, 0, 0, 0, 0, 0, 0, 0, 0, 0, 0, 0, 0, 0, 0, 0, 0, 0, 0, 1, 0, 0, 1, 0, 0, 0, 0, 0, 0, 0, 0, 0, 0, 0, 0, 0, 0, 0, 0, 0, 0, 0, 0, 0, 0, 0, 0, 0, 0, 0, 0, 0, 0, 0, 0, 0, 0, 0, 0, 0, 0, 0, 0, 0, 0, 0, 0, 0, 0, 0, 0, 0, 0, 0, 0, 0, 0, 0, 0, 0, 0, 0, 0, 0, 0, 0, 0, 0, 0, 0, 0, 0, 0, 0, 0, 0, 0, 0, 0, 0, 0, 0, 0, 0, 0, 0, 0, 0, 0, 0, 0, 0, 0, 0, 0, 0, 0, 0, 0, 0, 0, 0, 0, 0, 0, 0, 0, 0, 0, 0, 0, 0, 0, 0, 0, 0, 0, 0, 0, 0, 0, 0, 0, 0, 0, 0, 0, 0, 0, 0, 0, 0, 0, 0, 0, 0, 0, 0, 0, 0, 0, 0, 0, 0, 0, 0, 0, 0, 0, 0, 0, 0, 0, 0, 0, 0, 0, 0, 0, 0, 0, 0, 0, 0, 0, 0, 0, 0, 0, 0, 0, 0, 0, 0, 0, 0, 0, 0, 0, 0, 0, 0, 0, 0, 0, 0, 0, 0, 0, 0, 0, 0, 0, 0, 0, 0, 0, 0, 0, 0, 0, 0, 0, 0, 0, 0, 0, 0, 0, 0, 0, 0, 0, 0, 0, 0, 0, 0, 0, 0, 0, 0, 0, 0, 0, 0, 0, 0, 0, 0, 0, 0, 0, 0, 0, 0, 0, 0, 0, 0, 0, 0, 0, 0, 0, 0, 0, 0, 0, 0, 0, 0, 0, 0, 0, 0, 0, 0, 0, 0, 0, 0, 0, 0, 0, 0, 0, 0, 0, 0, 0, 0, 0, 0, 0, 0, 0, 0, 0, 0, 0, 0, 0, 0, 0, 0, 0, 0, 0, 0, 0, 0, 0, 0, 0, 0, 0, 0, 0, 0, 0, 0, 0, 0, 0, 0, 0, 0, 0, 0, 0, 0, 0, 0, 0, 0, 0, 0, 0, 0, 0, 0, 0, 0, 0, 0, 0, 0, 0, 0, 0, 0, 0, 0, 0, 0, 0, 0, 0, 0, 0, 0, 0, 0, 0, 0, 0, 0, 0, 0, 0, 0, 0, 0, 0, 0, 0, 0, 0, 0, 0, 0, 0, 0, 0, 0, 0, 0, 0, 0, 0, 0, 0, 0, 0, 0, 0, 0, 0, 0, 0, 0, 0, 0, 0, 0, 0, 0, 0, 0, 0, 0, 0, 0, 0, 0, 0, 0, 0, 0, 0, 0, 0, 0, 0, 0, 0, 0, 0, 0, 0, 0, 0, 0, 0, 0, 0, 0, 0, 0, 0, 0, 0, 0, 0, 0, 0, 0, 0, 0, 0, 0, 0, 0, 0, 0, 0, 0, 0, 0, 0, 0, 0, 0, 0, 0, 0, 0, 0, 0, 0, 0, 0, 0, 0, 0, 0, 0, 0, 0, 0, 0, 0, 0, 0, 0, 0, 0, 0, 1, 0, 0, 0, 0, 0, 0, 0, 0, 0, 0, 0, 0, 0, 0, 0, 0, 0, 0, 0, 0, 0, 0, 0, 0, 0, 0, 0, 0, 0, 0, 0, 0, 0, 0, 0, 0, 0, 0, 0, 0, 0, 0, 0, 0, 0, 0, 0, 0, 0, 0, 0, 0, 0, 0, 0, 0, 0, 0, 0, 0, 0, 0, 0, 0, 0, 0, 0, 0, 0, 0, 0, 0, 0, 0, 0, 0, 0, 0, 0, 0, 0, 0, 0, 0, 0, 0, 0, 0, 0, 0, 0, 0, 0, 0, 0, 0, 0, 0, 0, 0, 0, 0, 0, 0, 0, 0, 0, 0, 0, 0, 0, 0, 0, 0, 0, 0, 0, 0, 0, 0, 0, 0, 0, 0, 0, 0, 0, 0, 0, 0, 0, 0, 0, 0, 0, 0, 0, 0, 0, 0, 0, 0, 0, 0, 0, 0, 0, 0, 0, 0, 0, 0, 0, 0, 0, 0, 0, 0, 0, 0, 0, 0, 0, 0, 0, 0, 0, 0, 0, 0, 0, 0, 0, 0, 0, 0, 0, 0, 0, 0, 0, 0, 0, 0, 0, 0, 0, 0, 0, 0, 0, 0, 0, 0, 0, 0, 0, 0, 0, 0, 0, 0, 0, 0, 0, 0, 0, 0, 0, 0, 0, 0, 0, 0, 0, 0, 0, 0, 0, 0, 0, 0, 0, 0, 0, 0, 0, 0, 0, 0, 0, 0, 0, 0, 0, 0, 0, 0, 0, 0, 0, 0, 0, 0, 0, 0, 0, 0, 0, 0, 0, 0, 0, 0, 0, 0, 0, 0, 0, 0, 0, 0, 0, 0, 0, 0, 0, 0, 0, 0, 0, 0, 0, 0, 0, 0, 0, 0, 0, 0, 0, 0, 0, 0, 0, 0, 0, 0, 0, 0, 0, 0, 0, 0, 0, 0, 0, 0, 0, 0, 0, 0, 0, 0, 0, 0, 0, 0, 0, 0, 0, 0, 0, 0, 0, 0, 0, 0, 0, 0, 0, 0, 0, 0, 0, 0, 0, 0, 0, 0, 0, 0, 0, 0, 0, 0, 0, 0, 0, 0, 0, 0, 0, 0, 0, 0, 0, 0, 0, 0, 0, 0, 0, 0, 0, 0, 0, 0, 0, 0, 0, 0, 0, 0, 0, 0, 0, 0, 0, 0, 0, 0, 0, 0, 0, 0, 0, 0, 0, 0, 0, 0, 0, 0, 0, 0, 0, 0, 0, 0, 0, 0, 0, 0, 0, 0, 0, 0, 0, 0, 0, 0, 0, 0, 0, 0, 0, 0, 0, 0, 0, 0, 0, 0, 0, 0, 0, 0, 0, 0, 0, 0, 0, 0, 0, 0, 0, 0, 0, 0, 0, 0, 0, 0, 0, 0, 0, 0, 0, 0, 0, 0, 0, 0, 0, 0, 0, 0, 0, 0, 0, 0, 0, 0, 0, 0, 0, 0, 0, 0, 0, 0, 0, 0, 0, 0, 0, 0, 0, 0, 0, 0, 0, 0, 0, 0, 0, 0, 0, 0, 0, 0, 0, 0, 0, 0, 0, 0, 0, 0, 0, 0, 0, 0, 0, 0, 0, 0, 0, 0, 0, 0, 0, 0, 0, 0, 0, 0, 0, 0, 0, 0, 1, 0, 0, 0, 0, 0, 0, 0, 0, 0, 0, 0, 0, 0, 0, 0, 0, 0, 0, 0, 0, 0, 0, 0, 0, 0, 0, 0, 0, 0, 0, 0, 0, 0, 0, 0, 2, 0, 0, 0, 0, 0, 0, 0, 0, 0, 0, 0, 0, 0, 0, 0, 0, 0, 0, 0, 0, 0, 0, 0, 0, 0, 0, 0, 0, 0, 0, 0, 0, 0, 0, 0, 0, 0, 0, 0, 0, 1, 0, 0, 0, 0, 0, 0, 0, 0, 0, 0, 0, 0, 0, 0, 0, 0, 0, 0, 0, 0, 0, 0, 0, 0, 0, 0, 0, 0, 0, 0, 0, 0, 0, 0, 0, 0, 0, 0, 0, 0, 0, 0, 0, 0, 0, 0, 0, 0, 0, 0, 0, 0, 0, 0, 0, 0, 0, 0, 0, 0, 0, 0, 0, 0, 0, 0, 0, 0, 0, 0, 0, 0, 0, 0, 0, 0, 0, 0, 0, 0, 0, 0, 0, 0, 0, 0, 0, 0, 0, 0, 0, 0, 0, 0, 0, 0, 0, 0, 0, 0, 0, 0, 0, 0, 0, 0, 0, 0, 0, 0, 0, 0, 0, 0, 0, 0, 0, 0, 0, 0, 0, 0, 0, 0, 0, 0, 0, 0, 0, 0, 0, 0, 0, 0, 0, 0, 0, 0, 0, 0, 0, 0, 0, 0, 0, 0, 0, 0, 0, 0, 0, 0, 0, 0, 0, 0, 0, 0, 0, 0, 0, 0, 0, 0, 0, 0, 0, 0, 0, 0, 0, 0, 0, 0, 0, 0, 0, 0, 0, 0, 0, 0, 0, 0, 0, 0, 0, 0, 0, 0, 0, 0, 0, 0, 0, 0, 0, 0, 0, 0, 0, 0, 0, 0, 0, 0, 0, 0, 0, 0, 0, 0, 0, 0, 0, 0, 0, 0, 0, 0, 0, 0, 0, 0, 0, 0, 0, 0, 0, 0, 0, 0, 0, 0, 0, 0, 0, 0, 0, 0, 0, 0, 0, 0, 0, 0, 0, 0, 0, 0, 0, 0, 0, 0, 0, 0, 0, 0, 0, 0, 0, 0, 0, 0, 0, 0, 0, 0, 0, 0, 0, 0, 0, 0, 0, 0, 0, 0, 0, 0, 0, 0, 0, 0, 0, 0, 0, 0, 0, 0, 0, 0, 0, 0, 0, 0, 0, 0, 0, 0, 0, 0, 0, 0, 0, 0, 0, 0, 0, 0, 0, 0, 0, 0, 0, 0, 0, 0, 0, 0, 0, 0, 0, 0, 0, 0, 0, 0, 0, 0, 0, 0, 0, 0, 0, 0, 0, 0, 0, 0, 0, 0, 0, 0, 0, 0, 0, 0, 0, 0, 0, 0, 0, 0, 0, 0, 0, 0, 0, 0, 0, 0, 0, 0, 0, 0, 0, 0, 0, 0, 0, 0, 0, 0, 0, 0, 0, 0, 0, 0, 0, 0, 0, 0, 0, 0, 0, 0, 0, 0, 0, 0, 0, 0, 0, 0, 0, 0, 0, 0, 0, 0, 0, 0, 0, 0, 0, 0, 0, 0, 0, 0, 0, 0, 0, 0, 0, 0, 0, 0, 0, 0, 0, 0, 0, 0, 0, 0, 0, 0, 0, 0, 0, 0, 0, 0, 0, 0, 0, 0, 0, 0, 0, 0, 0, 0, 0, 0, 0, 0, 0, 0, 0, 0, 0, 0, 0, 0, 0, 0, 0, 0, 0, 0, 0, 0, 0, 0, 0, 0, 0, 0, 0, 0, 0, 0, 0, 0, 0, 0, 0, 0, 0, 0, 0, 0, 0, 0, 0, 0, 0, 0, 0, 0, 0, 0, 0, 1, 0, 0, 0, 0, 0, 0, 0, 0, 0, 0, 0, 0, 0, 0, 0, 0, 0, 0, 0, 0, 0, 0, 0, 0, 0, 0, 0, 0, 0, 0, 0, 0, 0, 0, 0, 0, 0, 0, 0, 0, 0, 0, 0, 0, 0, 0, 0, 0, 0, 0, 0, 0, 0, 0, 0, 0, 0, 0, 0, 0, 0, 0, 0, 0, 0, 0, 0, 0, 0, 0, 0, 0, 0, 0, 0, 0, 0, 0, 0, 0, 0, 0, 0, 0, 0, 0, 0, 0, 0, 0, 0, 0, 0, 0, 0, 0, 0, 0, 0, 0, 0, 0, 0, 0, 0, 0, 0, 0, 0, 0, 2, 0, 0, 0, 0, 0, 0, 0, 0, 0, 0, 0, 0, 0, 0, 0, 0, 0, 0, 0, 0, 0, 0, 0, 0, 0, 0, 0, 0, 0, 0, 0, 0, 0, 0, 0, 0, 0, 0, 0, 0, 0, 0, 0, 0, 0, 0, 0, 0, 0, 0, 0, 0, 0, 0, 0, 0, 0, 0, 0, 0, 0, 0, 0, 0, 0, 0, 0, 0, 0, 0, 0, 0, 0, 0, 0, 0, 0, 0, 0, 0, 0, 0, 0, 0, 0, 0, 0, 0, 0, 0, 0, 0, 0, 0, 0, 0, 0, 0, 0, 0, 0, 0, 0, 0, 0, 0, 0, 0, 0, 0, 0, 0, 0, 0, 0, 0, 0, 0, 0, 0, 0, 0, 0, 0, 0, 0, 0, 0, 0, 0, 0, 0, 0, 0, 0, 0, 0, 0, 0, 0, 0, 0, 0, 0, 0, 0, 0, 0, 0, 0, 0, 0, 0, 0, 0, 0, 0, 0, 0, 0, 0, 0, 0, 0, 0, 0, 0, 0, 0, 0, 0, 0, 0, 0, 0, 0, 0, 0, 0, 0, 0, 0, 0, 0, 0, 0, 0, 0, 0, 0, 0, 0, 0, 0, 0, 0, 0, 0, 0, 0, 0, 0, 0, 0, 0, 0, 0, 0, 0, 0, 0, 0, 0, 0, 0, 0, 0, 0, 0, 0, 0, 0, 0, 0, 0, 0, 0, 0, 0, 0, 0, 0, 0, 0, 0, 0, 0, 0, 0, 0, 0, 0, 0, 0, 0, 0, 0, 0, 0, 0, 0, 0, 0, 0, 0, 0, 0, 0, 0, 0, 0, 0, 0, 0, 0, 0, 0, 0, 0, 0, 0, 0, 0, 0, 0, 0, 0, 0, 0, 0, 0, 0, 0, 0, 0, 0, 0, 0, 0, 0, 0, 0, 0, 0, 0, 0, 0, 0, 0, 0, 0, 0, 0, 0, 0, 0, 0, 0, 0, 0, 0, 0, 0, 0, 0, 0, 0, 0, 0, 0, 0, 0, 0, 0, 0, 0, 0, 0, 0, 0, 0, 0, 0, 0, 0, 0, 0, 0, 0, 0, 0, 0, 0, 0, 0, 0, 0, 0, 0, 0, 0, 0, 0, 0, 0, 0, 0, 0, 0, 0, 0, 0, 0, 0, 0, 0, 0, 0, 0, 0, 0, 0, 0, 0, 0, 0, 0, 0, 0, 0, 0, 0, 0, 0, 0, 0, 0, 0, 0, 0, 0, 0, 0, 0, 0, 0, 0, 0, 0, 0, 0, 0, 0, 0, 0, 0, 0, 0, 0, 0, 0, 0, 0, 0, 0, 0, 0, 0, 0, 0, 0, 0, 0, 0, 0, 0, 0, 0, 0, 0, 0, 0, 0, 0, 0, 0, 0, 0, 0, 0, 0, 0, 0, 0, 0, 0, 0, 0, 0, 0, 0, 0, 0, 0, 0, 0, 0, 0, 0, 0, 0, 0, 0, 0, 0, 0, 0, 0, 0, 0, 0, 0, 0, 0, 0, 0, 0, 0, 0, 0, 0, 0, 0, 0, 0, 0, 0, 0, 0, 0, 0, 0, 0, 0, 0, 0, 0, 0, 0, 0, 0, 0, 0, 0, 0, 0, 0, 0, 0, 0, 0, 0, 0, 0, 0, 0, 0, 0, 0, 0, 0, 0, 0, 0, 0, 0, 0, 0, 0, 0, 0, 0, 0, 0, 0, 0, 0, 0, 0, 0, 0, 0, 0, 0, 0, 0, 0, 0, 0, 0, 0, 0, 0, 0, 0, 0, 0, 0, 0, 0, 0, 0, 0, 0, 0, 0, 0, 0, 0, 0, 0, 0, 0, 0, 0, 0, 0, 0, 0, 0, 0, 0, 0, 0, 0, 0, 0, 0, 0, 0, 0, 0, 0, 0, 0, 0, 0, 0, 0, 0, 0, 0, 0, 0, 0, 0, 0, 0, 0, 0, 0, 0, 0, 0, 0, 0, 0, 0, 0, 0, 0, 0, 0, 0, 0, 0, 0, 0, 0, 0, 0, 0, 0, 0, 0, 0, 0, 0, 0, 0, 0, 0, 0, 0, 0, 0, 0, 0, 0, 0, 0, 0, 0, 0, 0, 0, 0, 0, 0, 0, 0, 0, 0, 0, 0, 0, 0, 0, 0, 0, 0, 0, 0, 0, 0, 0, 0, 0, 0, 0, 0, 0, 0, 0, 0, 0, 0, 0, 0, 0, 1, 0, 0, 0, 0, 0, 0, 0, 0, 0, 0, 0, 0, 0, 0, 0, 0, 0, 0, 0, 0, 0, 0, 0, 0, 0, 0, 0, 0, 0, 0, 0, 0, 0, 0, 0, 0, 0, 0, 0, 0, 0, 0, 0, 0, 0, 0, 0, 0, 0, 0, 0, 0, 0, 0, 0, 0, 0, 0, 0, 0, 0, 0, 0, 0, 0, 0, 0, 0, 0, 0, 0, 0, 0, 0, 0, 0, 0, 0, 0, 0, 0, 0, 0, 0, 0, 0, 0, 0, 0, 0, 0, 0, 0, 0, 0, 0, 0, 0, 0, 0, 0, 0, 0, 0, 0, 0, 0, 1, 0, 0, 0, 0, 0, 0, 0, 0, 0, 0, 0, 0, 0, 0, 0, 0, 0, 0, 0, 0, 0, 0, 0, 0, 0, 0, 0, 0, 0, 0, 0, 0, 0, 0, 0, 0, 0, 0, 0, 0, 0, 0, 0, 0, 0, 0, 0, 0, 0, 0, 0, 0, 0, 0, 0, 0, 0, 0, 0, 0, 0, 0, 0, 0, 0, 0, 0, 0, 0, 0, 0, 0, 0, 0, 0, 0, 0, 0, 0, 0, 0, 0, 0, 0, 0, 0, 0, 0, 0, 0, 0, 0, 0, 0, 0, 0, 0, 0, 0, 0, 0, 0, 0, 0, 0, 0, 0, 0, 0, 0, 0, 0, 0, 0, 0, 0, 0, 0, 0, 0, 0, 0, 0, 0, 0, 0, 0, 0, 0, 0, 0, 0, 0, 0, 0, 0, 0, 0, 0, 0, 0, 0, 0, 0, 0, 0, 0, 0, 0, 0, 0, 0, 0, 0, 0, 0, 0, 0, 0, 0, 0, 0, 0, 0, 0, 0, 0, 0, 0, 0, 0, 0, 0, 0, 0, 0, 0, 0, 0, 0, 0, 0, 0, 0, 0, 0, 0, 0, 0, 0, 0, 0, 0, 0, 0, 0, 0, 0, 0, 0, 0, 0, 0, 0, 0, 0, 0, 0, 0, 0, 0, 0, 0, 0, 0, 0, 0, 0, 0, 0, 0, 0, 0, 0, 0, 0, 0, 0, 0, 0, 0, 0, 0, 0, 0, 0, 0, 0, 0, 0, 0, 0, 0, 0, 0, 0, 0, 0, 0, 0, 0, 0, 0, 0, 0, 0, 0, 0, 0, 0, 0, 0, 0, 0, 0, 0, 0, 0, 0, 0, 0, 0, 0, 0, 0, 0, 0, 0, 0, 0, 0, 0, 0, 0, 0, 0, 0, 0, 0, 0, 0, 0, 0, 0, 0, 0, 0, 0, 0, 0, 0, 0, 0, 0, 0, 0, 0, 0, 0, 0, 0, 0, 0, 0, 0, 0, 0, 0, 0, 0, 0, 0, 0, 0, 0, 0, 0, 0, 0, 0, 0, 0, 0, 0, 0, 0, 0, 0, 0, 0, 0, 0, 0, 0, 0, 0, 0, 0, 0, 0, 0, 0, 0, 0, 0, 0, 0, 0, 0, 0, 0, 0, 0, 0, 0, 0, 0, 0, 0, 0, 0, 0, 0, 0, 0, 0, 0, 0, 0, 0, 0, 0, 0, 0, 0, 0, 0, 0, 0, 0, 0, 0, 0, 0, 0, 0, 0, 0, 0, 0, 0, 0, 0, 0, 0, 0, 0, 0, 0, 0, 0, 0, 0, 0, 0, 0, 0, 0, 0, 0, 0, 0, 0, 0, 0, 0, 0, 0, 0, 0, 0, 0, 0, 0, 0, 0, 0, 0, 0, 0, 0, 0, 0, 0, 0, 0, 0, 0, 0, 0, 0, 0, 0, 0, 0, 0, 0, 0, 0, 0, 0, 0, 0, 2, 0, 1, 0]\n"
     ]
    }
   ],
   "source": [
    "test_bow = bow_encoding(test_words, vocabulary)\n",
    "print(test_bow)"
   ]
  },
  {
   "cell_type": "code",
   "execution_count": 40,
   "metadata": {},
   "outputs": [
    {
     "data": {
      "text/plain": [
       "5000"
      ]
     },
     "execution_count": 40,
     "metadata": {},
     "output_type": "execute_result"
    }
   ],
   "source": [
    "len(test_bow)"
   ]
  },
  {
   "cell_type": "markdown",
   "metadata": {},
   "source": [
    "So now we know how to construct a bag of words encoding of a user provided review, how to we send it to our endpoint? First, we need to start the endpoint back up."
   ]
  },
  {
   "cell_type": "code",
   "execution_count": 41,
   "metadata": {},
   "outputs": [
    {
     "name": "stderr",
     "output_type": "stream",
     "text": [
      "WARNING:sagemaker:Parameter image will be renamed to image_uri in SageMaker Python SDK v2.\n",
      "WARNING:sagemaker:Using already existing model: xgboost-2020-07-25-20-47-08-545\n"
     ]
    },
    {
     "name": "stdout",
     "output_type": "stream",
     "text": [
      "-------------!"
     ]
    }
   ],
   "source": [
    "xgb_predictor = xgb.deploy(initial_instance_count = 1, instance_type = 'ml.m4.xlarge')"
   ]
  },
  {
   "cell_type": "markdown",
   "metadata": {},
   "source": [
    "At this point we could just do the same thing that we did earlier when we tested our deployed model and send `test_bow` to our endpoint using the `xgb_predictor` object. However, when we eventually construct our Lambda function we won't have access to this object, so how do we call a SageMaker endpoint?\n",
    "\n",
    "It turns out that Python functions that are used in Lambda have access to another Amazon library called `boto3`. This library provides an API for working with Amazon services, including SageMaker. To start with, we need to get a handle to the SageMaker runtime."
   ]
  },
  {
   "cell_type": "code",
   "execution_count": 42,
   "metadata": {},
   "outputs": [],
   "source": [
    "import boto3\n",
    "\n",
    "runtime = boto3.Session().client('sagemaker-runtime')"
   ]
  },
  {
   "cell_type": "markdown",
   "metadata": {},
   "source": [
    "And now that we have access to the SageMaker runtime, we can ask it to make use of (invoke) an endpoint that has already been created. However, we need to provide SageMaker with the name of the deployed endpoint. To find this out we can print it out using the `xgb_predictor` object."
   ]
  },
  {
   "cell_type": "code",
   "execution_count": 43,
   "metadata": {},
   "outputs": [
    {
     "data": {
      "text/plain": [
       "'xgboost-2020-07-25-20-47-08-545'"
      ]
     },
     "execution_count": 43,
     "metadata": {},
     "output_type": "execute_result"
    }
   ],
   "source": [
    "xgb_predictor.endpoint"
   ]
  },
  {
   "cell_type": "markdown",
   "metadata": {},
   "source": [
    "Using the SageMaker runtime and the name of our endpoint, we can invoke the endpoint and send it the `test_bow` data."
   ]
  },
  {
   "cell_type": "code",
   "execution_count": 44,
   "metadata": {},
   "outputs": [
    {
     "ename": "ParamValidationError",
     "evalue": "Parameter validation failed:\nInvalid type for parameter Body, value: [0, 0, 0, 0, 0, 0, 0, 0, 0, 0, 0, 0, 0, 0, 0, 0, 0, 0, 0, 0, 0, 0, 0, 0, 0, 0, 0, 0, 0, 0, 0, 0, 0, 0, 0, 0, 0, 0, 0, 0, 0, 0, 0, 0, 0, 0, 0, 0, 0, 0, 0, 0, 0, 0, 0, 0, 0, 0, 0, 0, 0, 0, 0, 0, 0, 0, 0, 0, 0, 0, 0, 0, 0, 0, 0, 0, 0, 0, 0, 0, 0, 0, 0, 0, 0, 0, 0, 0, 0, 0, 0, 0, 0, 0, 0, 0, 0, 0, 0, 0, 0, 0, 0, 0, 0, 0, 0, 0, 0, 0, 0, 0, 0, 0, 0, 0, 0, 0, 0, 0, 0, 0, 0, 0, 0, 0, 0, 0, 0, 0, 0, 0, 0, 0, 0, 0, 0, 0, 0, 0, 0, 0, 0, 0, 0, 0, 0, 0, 0, 0, 0, 0, 0, 0, 0, 0, 0, 0, 0, 0, 0, 0, 0, 0, 0, 0, 0, 0, 0, 0, 0, 0, 0, 0, 0, 0, 0, 0, 0, 0, 0, 0, 0, 0, 0, 0, 0, 0, 0, 0, 0, 0, 0, 0, 0, 0, 0, 0, 0, 0, 0, 0, 0, 0, 0, 0, 0, 0, 0, 0, 0, 0, 0, 0, 0, 0, 0, 0, 0, 0, 0, 0, 0, 0, 0, 0, 1, 0, 0, 0, 0, 0, 0, 0, 0, 0, 0, 0, 0, 0, 0, 0, 0, 0, 0, 0, 0, 0, 0, 0, 0, 0, 0, 0, 0, 0, 1, 0, 0, 0, 0, 0, 0, 0, 0, 0, 0, 0, 0, 0, 0, 0, 0, 0, 0, 0, 0, 0, 0, 0, 0, 0, 0, 0, 0, 0, 0, 0, 0, 0, 0, 0, 0, 0, 0, 0, 0, 0, 0, 0, 0, 0, 0, 0, 0, 0, 0, 0, 0, 0, 0, 0, 0, 0, 0, 0, 0, 0, 0, 0, 0, 0, 0, 0, 0, 0, 0, 0, 0, 0, 0, 0, 0, 0, 0, 0, 0, 0, 0, 0, 0, 0, 0, 0, 0, 0, 0, 0, 0, 0, 0, 0, 0, 0, 0, 0, 0, 0, 0, 0, 0, 0, 0, 0, 0, 0, 0, 0, 0, 0, 0, 0, 0, 0, 0, 0, 0, 0, 0, 0, 0, 0, 0, 0, 0, 0, 0, 0, 0, 0, 0, 0, 0, 0, 0, 0, 0, 0, 0, 0, 0, 0, 0, 0, 0, 0, 0, 0, 0, 0, 0, 0, 0, 0, 0, 0, 0, 0, 0, 0, 0, 0, 0, 0, 0, 0, 0, 0, 0, 0, 0, 0, 0, 0, 0, 0, 0, 0, 0, 0, 0, 0, 0, 0, 0, 0, 0, 0, 0, 0, 0, 0, 0, 0, 0, 0, 0, 0, 0, 0, 0, 0, 0, 0, 0, 0, 0, 0, 0, 0, 0, 0, 0, 0, 0, 0, 0, 0, 0, 0, 0, 0, 0, 0, 0, 0, 0, 0, 0, 0, 0, 0, 0, 0, 0, 0, 0, 0, 0, 0, 0, 0, 0, 0, 0, 0, 0, 0, 0, 0, 0, 0, 0, 0, 0, 0, 0, 0, 0, 0, 0, 0, 0, 0, 0, 0, 0, 0, 0, 0, 0, 0, 0, 0, 0, 0, 0, 0, 0, 0, 0, 0, 0, 0, 0, 0, 0, 0, 0, 0, 0, 0, 0, 0, 0, 0, 0, 0, 0, 0, 0, 0, 0, 0, 0, 0, 0, 0, 0, 0, 0, 0, 0, 0, 0, 0, 0, 0, 0, 0, 0, 0, 0, 0, 0, 0, 0, 0, 0, 0, 0, 0, 0, 0, 0, 0, 0, 0, 0, 0, 0, 0, 0, 0, 0, 0, 0, 0, 0, 0, 0, 0, 0, 0, 0, 0, 0, 0, 0, 0, 0, 0, 0, 0, 0, 0, 0, 0, 0, 0, 0, 0, 0, 0, 0, 0, 1, 0, 0, 0, 0, 0, 0, 0, 0, 0, 0, 0, 0, 0, 0, 0, 0, 0, 0, 0, 0, 0, 0, 0, 0, 0, 0, 0, 0, 0, 0, 0, 0, 0, 0, 0, 0, 0, 0, 0, 0, 0, 0, 0, 0, 0, 0, 0, 0, 0, 0, 0, 0, 0, 0, 0, 0, 0, 0, 0, 0, 0, 0, 0, 0, 0, 0, 0, 0, 0, 0, 0, 0, 0, 0, 0, 0, 0, 0, 0, 0, 0, 0, 0, 0, 0, 0, 0, 0, 0, 0, 0, 0, 0, 0, 0, 0, 0, 0, 0, 0, 0, 0, 0, 0, 0, 0, 0, 0, 0, 0, 0, 0, 0, 0, 0, 0, 0, 0, 0, 0, 0, 0, 0, 0, 0, 0, 0, 0, 0, 0, 0, 0, 0, 0, 0, 0, 0, 0, 0, 0, 0, 0, 0, 0, 0, 0, 0, 0, 0, 0, 0, 0, 0, 0, 0, 0, 0, 0, 0, 0, 0, 0, 0, 0, 0, 0, 0, 0, 0, 0, 0, 0, 0, 0, 0, 0, 0, 0, 0, 0, 0, 0, 0, 0, 0, 0, 0, 0, 0, 0, 0, 0, 0, 0, 0, 0, 0, 0, 0, 0, 0, 0, 0, 0, 0, 0, 0, 0, 0, 0, 0, 0, 0, 0, 0, 0, 0, 0, 0, 0, 0, 0, 0, 0, 0, 0, 0, 0, 0, 0, 0, 0, 0, 0, 0, 0, 0, 0, 0, 0, 0, 0, 0, 0, 0, 0, 0, 0, 0, 0, 0, 0, 0, 1, 0, 0, 0, 0, 0, 0, 0, 0, 0, 0, 0, 0, 0, 0, 0, 0, 0, 0, 0, 0, 0, 0, 0, 0, 0, 0, 0, 0, 0, 0, 0, 0, 0, 0, 0, 0, 0, 0, 0, 0, 0, 0, 0, 0, 0, 0, 0, 0, 0, 0, 0, 0, 0, 0, 0, 0, 0, 0, 0, 0, 0, 0, 0, 0, 0, 0, 0, 0, 0, 0, 0, 0, 0, 0, 0, 0, 0, 0, 0, 0, 0, 0, 0, 0, 0, 0, 1, 0, 0, 0, 0, 0, 0, 0, 0, 0, 0, 0, 0, 0, 0, 0, 0, 0, 0, 0, 0, 0, 0, 0, 0, 0, 0, 0, 0, 0, 0, 0, 0, 0, 0, 0, 0, 0, 0, 0, 0, 0, 0, 0, 0, 0, 0, 0, 0, 0, 0, 0, 0, 0, 0, 0, 0, 0, 0, 0, 0, 0, 0, 0, 0, 0, 0, 0, 0, 0, 0, 0, 0, 0, 0, 0, 0, 0, 0, 0, 0, 0, 0, 0, 0, 0, 0, 0, 0, 0, 0, 0, 0, 0, 0, 0, 0, 0, 0, 0, 0, 0, 0, 0, 0, 0, 0, 0, 0, 0, 0, 0, 0, 0, 0, 0, 0, 0, 0, 0, 0, 0, 0, 0, 0, 0, 0, 0, 0, 0, 0, 0, 0, 0, 0, 0, 0, 0, 0, 0, 0, 0, 0, 0, 0, 0, 0, 0, 0, 0, 0, 0, 0, 0, 0, 0, 0, 0, 0, 0, 0, 0, 0, 0, 0, 0, 0, 0, 0, 0, 0, 0, 0, 0, 0, 0, 0, 0, 0, 0, 0, 0, 0, 0, 0, 0, 0, 0, 0, 0, 0, 0, 0, 0, 0, 0, 0, 0, 0, 0, 0, 0, 0, 0, 0, 0, 0, 0, 0, 0, 0, 0, 0, 0, 0, 0, 0, 0, 0, 0, 0, 0, 0, 0, 0, 0, 0, 0, 0, 0, 0, 0, 0, 0, 0, 0, 0, 0, 0, 0, 0, 0, 0, 0, 0, 0, 0, 0, 0, 0, 0, 0, 0, 1, 0, 0, 0, 0, 0, 0, 0, 0, 0, 0, 0, 0, 0, 0, 0, 0, 0, 0, 0, 0, 0, 0, 0, 0, 0, 0, 0, 0, 0, 0, 0, 0, 0, 0, 0, 0, 0, 0, 0, 0, 0, 0, 0, 0, 0, 0, 0, 0, 0, 0, 0, 0, 0, 0, 0, 1, 0, 0, 0, 0, 0, 0, 0, 0, 0, 0, 0, 0, 0, 0, 0, 0, 0, 0, 0, 0, 0, 0, 0, 0, 0, 0, 0, 0, 0, 0, 0, 0, 0, 0, 0, 0, 0, 0, 0, 0, 0, 0, 0, 0, 0, 0, 0, 0, 0, 0, 0, 0, 0, 0, 0, 0, 0, 0, 0, 0, 0, 0, 0, 0, 0, 0, 0, 0, 0, 0, 0, 0, 0, 0, 0, 0, 0, 0, 0, 0, 0, 0, 0, 0, 0, 0, 0, 0, 0, 0, 0, 0, 0, 0, 0, 0, 0, 0, 0, 0, 0, 0, 0, 0, 0, 0, 0, 0, 0, 0, 0, 0, 0, 0, 0, 0, 0, 0, 0, 0, 0, 0, 0, 0, 0, 0, 0, 0, 0, 0, 0, 0, 0, 0, 0, 0, 0, 0, 0, 0, 0, 0, 0, 0, 0, 0, 0, 0, 0, 0, 0, 0, 0, 0, 0, 0, 0, 0, 0, 0, 0, 0, 0, 0, 0, 0, 0, 0, 0, 0, 0, 0, 0, 0, 0, 0, 0, 0, 0, 0, 0, 0, 0, 0, 0, 0, 0, 0, 0, 0, 0, 0, 0, 0, 0, 0, 0, 0, 0, 0, 0, 0, 0, 0, 0, 0, 0, 0, 0, 0, 0, 0, 0, 0, 0, 0, 0, 0, 0, 0, 0, 0, 0, 0, 0, 0, 0, 0, 0, 0, 0, 0, 0, 0, 0, 0, 0, 0, 0, 0, 0, 0, 0, 0, 0, 0, 0, 0, 0, 0, 0, 0, 0, 0, 0, 0, 0, 0, 0, 0, 0, 0, 0, 0, 0, 0, 0, 0, 0, 0, 0, 0, 0, 0, 0, 0, 0, 0, 0, 0, 0, 0, 0, 0, 0, 0, 0, 0, 0, 0, 0, 0, 0, 0, 0, 0, 0, 0, 0, 0, 0, 0, 0, 0, 0, 0, 0, 0, 0, 0, 0, 0, 0, 0, 0, 0, 0, 0, 0, 0, 0, 0, 0, 0, 0, 0, 0, 0, 0, 0, 0, 0, 0, 0, 0, 0, 0, 0, 0, 0, 0, 0, 0, 0, 0, 0, 0, 0, 0, 0, 0, 0, 0, 0, 0, 0, 0, 0, 0, 0, 0, 0, 0, 0, 0, 0, 0, 0, 0, 0, 0, 0, 0, 0, 0, 0, 0, 0, 0, 0, 0, 0, 0, 0, 0, 0, 0, 0, 0, 0, 0, 0, 0, 0, 0, 0, 0, 0, 0, 0, 0, 0, 0, 0, 0, 0, 0, 0, 0, 0, 0, 0, 0, 0, 0, 0, 0, 0, 0, 0, 0, 0, 0, 0, 0, 0, 0, 0, 0, 0, 0, 0, 0, 0, 0, 0, 0, 0, 0, 0, 0, 0, 0, 0, 0, 0, 0, 0, 0, 0, 0, 0, 0, 0, 0, 0, 0, 0, 0, 0, 0, 0, 0, 0, 0, 0, 0, 0, 0, 0, 0, 0, 0, 0, 0, 0, 0, 0, 0, 0, 0, 0, 0, 0, 0, 0, 0, 0, 0, 0, 0, 0, 0, 0, 0, 0, 0, 0, 0, 0, 0, 0, 0, 0, 0, 0, 0, 0, 0, 0, 0, 0, 0, 0, 0, 0, 0, 0, 0, 0, 0, 0, 0, 0, 0, 0, 0, 0, 0, 0, 0, 0, 0, 0, 0, 0, 0, 0, 0, 0, 0, 0, 0, 0, 0, 0, 0, 0, 0, 0, 0, 0, 0, 0, 0, 0, 0, 0, 0, 0, 0, 0, 0, 0, 0, 0, 0, 0, 0, 0, 0, 0, 0, 0, 0, 0, 0, 0, 0, 0, 0, 0, 0, 0, 0, 0, 0, 0, 0, 0, 0, 0, 0, 0, 0, 0, 0, 0, 0, 0, 0, 0, 0, 0, 0, 0, 0, 0, 0, 0, 0, 0, 0, 0, 0, 0, 0, 0, 0, 0, 0, 0, 0, 0, 0, 0, 0, 0, 0, 0, 0, 0, 0, 0, 0, 0, 0, 0, 0, 0, 0, 0, 0, 0, 0, 0, 0, 0, 0, 0, 0, 0, 0, 0, 0, 0, 0, 0, 0, 0, 0, 0, 0, 0, 0, 0, 0, 0, 0, 0, 0, 0, 0, 0, 0, 0, 0, 0, 0, 0, 0, 1, 0, 0, 0, 0, 0, 0, 0, 0, 0, 0, 0, 0, 0, 0, 0, 0, 0, 0, 0, 0, 0, 0, 0, 0, 0, 0, 0, 0, 0, 0, 0, 0, 0, 0, 0, 0, 0, 0, 0, 0, 0, 0, 0, 0, 0, 0, 0, 0, 0, 0, 0, 0, 0, 0, 0, 0, 0, 0, 0, 0, 0, 0, 0, 0, 0, 0, 0, 0, 0, 0, 0, 0, 0, 0, 1, 0, 0, 0, 0, 0, 0, 0, 0, 0, 0, 0, 0, 0, 0, 0, 0, 0, 0, 0, 0, 1, 0, 0, 1, 0, 0, 0, 0, 0, 0, 0, 0, 0, 0, 0, 0, 0, 0, 0, 0, 0, 0, 0, 0, 0, 0, 0, 0, 0, 0, 0, 0, 0, 0, 0, 0, 0, 0, 0, 0, 0, 0, 0, 0, 0, 0, 0, 0, 0, 0, 0, 0, 0, 0, 0, 0, 0, 0, 0, 0, 0, 0, 0, 0, 0, 0, 0, 0, 0, 0, 0, 0, 0, 0, 0, 0, 0, 0, 0, 0, 0, 0, 0, 0, 0, 0, 0, 0, 0, 0, 0, 0, 0, 0, 0, 0, 0, 0, 0, 0, 0, 0, 0, 0, 0, 0, 0, 0, 0, 0, 0, 0, 0, 0, 0, 0, 0, 0, 0, 0, 0, 0, 0, 0, 0, 0, 0, 0, 0, 0, 0, 0, 0, 0, 0, 0, 0, 0, 0, 0, 0, 0, 0, 0, 0, 0, 0, 0, 0, 0, 0, 0, 0, 0, 0, 0, 0, 0, 0, 0, 0, 0, 0, 0, 0, 0, 0, 0, 0, 0, 0, 0, 0, 0, 0, 0, 0, 0, 0, 0, 0, 0, 0, 0, 0, 0, 0, 0, 0, 0, 0, 0, 0, 0, 0, 0, 0, 0, 0, 0, 0, 0, 0, 0, 0, 0, 0, 0, 0, 0, 0, 0, 0, 0, 0, 0, 0, 0, 0, 0, 0, 0, 0, 0, 0, 0, 0, 0, 0, 0, 0, 0, 0, 0, 0, 0, 0, 0, 0, 0, 0, 0, 0, 0, 0, 0, 0, 0, 0, 0, 0, 0, 0, 0, 0, 0, 0, 0, 0, 0, 0, 0, 0, 0, 0, 0, 0, 0, 0, 0, 0, 0, 0, 0, 0, 0, 0, 0, 0, 0, 0, 0, 0, 0, 0, 0, 0, 0, 0, 0, 0, 0, 0, 0, 0, 0, 0, 0, 0, 0, 0, 0, 0, 0, 0, 0, 0, 0, 0, 0, 0, 0, 0, 0, 0, 0, 0, 0, 0, 0, 0, 0, 0, 0, 0, 0, 0, 0, 0, 0, 0, 0, 0, 0, 0, 0, 0, 0, 0, 0, 0, 0, 0, 0, 0, 0, 0, 0, 0, 0, 0, 0, 0, 0, 0, 0, 0, 0, 0, 0, 0, 0, 0, 0, 0, 0, 0, 0, 0, 0, 0, 0, 0, 0, 0, 0, 0, 0, 0, 0, 0, 0, 0, 0, 0, 0, 0, 0, 0, 0, 0, 0, 0, 0, 0, 0, 0, 0, 0, 0, 0, 0, 0, 0, 0, 0, 0, 0, 0, 0, 0, 0, 0, 0, 0, 0, 0, 0, 0, 0, 0, 0, 0, 0, 0, 0, 0, 0, 0, 0, 0, 0, 0, 0, 0, 0, 0, 0, 0, 0, 0, 0, 0, 0, 0, 0, 0, 0, 0, 0, 0, 0, 0, 0, 0, 0, 0, 0, 0, 0, 0, 0, 0, 0, 0, 0, 0, 0, 0, 0, 1, 0, 0, 0, 0, 0, 0, 0, 0, 0, 0, 0, 0, 0, 0, 0, 0, 0, 0, 0, 0, 0, 0, 0, 0, 0, 0, 0, 0, 0, 0, 0, 0, 0, 0, 0, 0, 0, 0, 0, 0, 0, 0, 0, 0, 0, 0, 0, 0, 0, 0, 0, 0, 0, 0, 0, 0, 0, 0, 0, 0, 0, 0, 0, 0, 0, 0, 0, 0, 0, 0, 0, 0, 0, 0, 0, 0, 0, 0, 0, 0, 0, 0, 0, 0, 0, 0, 0, 0, 0, 0, 0, 0, 0, 0, 0, 0, 0, 0, 0, 0, 0, 0, 0, 0, 0, 0, 0, 0, 0, 0, 0, 0, 0, 0, 0, 0, 0, 0, 0, 0, 0, 0, 0, 0, 0, 0, 0, 0, 0, 0, 0, 0, 0, 0, 0, 0, 0, 0, 0, 0, 0, 0, 0, 0, 0, 0, 0, 0, 0, 0, 0, 0, 0, 0, 0, 0, 0, 0, 0, 0, 0, 0, 0, 0, 0, 0, 0, 0, 0, 0, 0, 0, 0, 0, 0, 0, 0, 0, 0, 0, 0, 0, 0, 0, 0, 0, 0, 0, 0, 0, 0, 0, 0, 0, 0, 0, 0, 0, 0, 0, 0, 0, 0, 0, 0, 0, 0, 0, 0, 0, 0, 0, 0, 0, 0, 0, 0, 0, 0, 0, 0, 0, 0, 0, 0, 0, 0, 0, 0, 0, 0, 0, 0, 0, 0, 0, 0, 0, 0, 0, 0, 0, 0, 0, 0, 0, 0, 0, 0, 0, 0, 0, 0, 0, 0, 0, 0, 0, 0, 0, 0, 0, 0, 0, 0, 0, 0, 0, 0, 0, 0, 0, 0, 0, 0, 0, 0, 0, 0, 0, 0, 0, 0, 0, 0, 0, 0, 0, 0, 0, 0, 0, 0, 0, 0, 0, 0, 0, 0, 0, 0, 0, 0, 0, 0, 0, 0, 0, 0, 0, 0, 0, 0, 0, 0, 0, 0, 0, 0, 0, 0, 0, 0, 0, 0, 0, 0, 0, 0, 0, 0, 0, 0, 0, 0, 0, 0, 0, 0, 0, 0, 0, 0, 0, 0, 0, 0, 0, 0, 0, 0, 0, 0, 0, 0, 0, 0, 0, 0, 0, 0, 0, 0, 0, 0, 0, 0, 0, 0, 0, 0, 0, 0, 0, 0, 0, 0, 0, 0, 0, 0, 0, 0, 0, 0, 0, 0, 0, 0, 0, 0, 0, 0, 0, 0, 0, 0, 0, 0, 0, 0, 0, 0, 0, 0, 0, 0, 0, 0, 0, 0, 0, 0, 0, 0, 0, 0, 0, 0, 0, 0, 0, 0, 0, 0, 0, 0, 0, 0, 0, 0, 0, 0, 0, 0, 0, 0, 0, 0, 0, 0, 0, 0, 0, 0, 0, 0, 0, 0, 0, 0, 0, 0, 0, 0, 0, 0, 0, 0, 0, 0, 0, 0, 0, 0, 0, 0, 0, 0, 0, 0, 0, 0, 0, 0, 0, 0, 0, 0, 0, 0, 0, 0, 0, 0, 0, 0, 0, 0, 0, 0, 0, 0, 0, 0, 0, 0, 0, 0, 0, 0, 0, 0, 0, 0, 0, 0, 0, 0, 0, 0, 0, 1, 0, 0, 0, 0, 0, 0, 0, 0, 0, 0, 0, 0, 0, 0, 0, 0, 0, 0, 0, 0, 0, 0, 0, 0, 0, 0, 0, 0, 0, 0, 0, 0, 0, 0, 0, 2, 0, 0, 0, 0, 0, 0, 0, 0, 0, 0, 0, 0, 0, 0, 0, 0, 0, 0, 0, 0, 0, 0, 0, 0, 0, 0, 0, 0, 0, 0, 0, 0, 0, 0, 0, 0, 0, 0, 0, 0, 1, 0, 0, 0, 0, 0, 0, 0, 0, 0, 0, 0, 0, 0, 0, 0, 0, 0, 0, 0, 0, 0, 0, 0, 0, 0, 0, 0, 0, 0, 0, 0, 0, 0, 0, 0, 0, 0, 0, 0, 0, 0, 0, 0, 0, 0, 0, 0, 0, 0, 0, 0, 0, 0, 0, 0, 0, 0, 0, 0, 0, 0, 0, 0, 0, 0, 0, 0, 0, 0, 0, 0, 0, 0, 0, 0, 0, 0, 0, 0, 0, 0, 0, 0, 0, 0, 0, 0, 0, 0, 0, 0, 0, 0, 0, 0, 0, 0, 0, 0, 0, 0, 0, 0, 0, 0, 0, 0, 0, 0, 0, 0, 0, 0, 0, 0, 0, 0, 0, 0, 0, 0, 0, 0, 0, 0, 0, 0, 0, 0, 0, 0, 0, 0, 0, 0, 0, 0, 0, 0, 0, 0, 0, 0, 0, 0, 0, 0, 0, 0, 0, 0, 0, 0, 0, 0, 0, 0, 0, 0, 0, 0, 0, 0, 0, 0, 0, 0, 0, 0, 0, 0, 0, 0, 0, 0, 0, 0, 0, 0, 0, 0, 0, 0, 0, 0, 0, 0, 0, 0, 0, 0, 0, 0, 0, 0, 0, 0, 0, 0, 0, 0, 0, 0, 0, 0, 0, 0, 0, 0, 0, 0, 0, 0, 0, 0, 0, 0, 0, 0, 0, 0, 0, 0, 0, 0, 0, 0, 0, 0, 0, 0, 0, 0, 0, 0, 0, 0, 0, 0, 0, 0, 0, 0, 0, 0, 0, 0, 0, 0, 0, 0, 0, 0, 0, 0, 0, 0, 0, 0, 0, 0, 0, 0, 0, 0, 0, 0, 0, 0, 0, 0, 0, 0, 0, 0, 0, 0, 0, 0, 0, 0, 0, 0, 0, 0, 0, 0, 0, 0, 0, 0, 0, 0, 0, 0, 0, 0, 0, 0, 0, 0, 0, 0, 0, 0, 0, 0, 0, 0, 0, 0, 0, 0, 0, 0, 0, 0, 0, 0, 0, 0, 0, 0, 0, 0, 0, 0, 0, 0, 0, 0, 0, 0, 0, 0, 0, 0, 0, 0, 0, 0, 0, 0, 0, 0, 0, 0, 0, 0, 0, 0, 0, 0, 0, 0, 0, 0, 0, 0, 0, 0, 0, 0, 0, 0, 0, 0, 0, 0, 0, 0, 0, 0, 0, 0, 0, 0, 0, 0, 0, 0, 0, 0, 0, 0, 0, 0, 0, 0, 0, 0, 0, 0, 0, 0, 0, 0, 0, 0, 0, 0, 0, 0, 0, 0, 0, 0, 0, 0, 0, 0, 0, 0, 0, 0, 0, 0, 0, 0, 0, 0, 0, 0, 0, 0, 0, 0, 0, 0, 0, 0, 0, 0, 0, 0, 0, 0, 0, 0, 0, 0, 0, 0, 0, 0, 0, 0, 0, 0, 0, 0, 0, 0, 0, 0, 0, 0, 0, 0, 0, 0, 0, 0, 0, 0, 0, 0, 0, 0, 0, 0, 0, 0, 0, 0, 0, 0, 0, 0, 0, 0, 0, 0, 0, 0, 0, 0, 0, 0, 0, 0, 0, 0, 0, 0, 0, 0, 1, 0, 0, 0, 0, 0, 0, 0, 0, 0, 0, 0, 0, 0, 0, 0, 0, 0, 0, 0, 0, 0, 0, 0, 0, 0, 0, 0, 0, 0, 0, 0, 0, 0, 0, 0, 0, 0, 0, 0, 0, 0, 0, 0, 0, 0, 0, 0, 0, 0, 0, 0, 0, 0, 0, 0, 0, 0, 0, 0, 0, 0, 0, 0, 0, 0, 0, 0, 0, 0, 0, 0, 0, 0, 0, 0, 0, 0, 0, 0, 0, 0, 0, 0, 0, 0, 0, 0, 0, 0, 0, 0, 0, 0, 0, 0, 0, 0, 0, 0, 0, 0, 0, 0, 0, 0, 0, 0, 0, 0, 0, 2, 0, 0, 0, 0, 0, 0, 0, 0, 0, 0, 0, 0, 0, 0, 0, 0, 0, 0, 0, 0, 0, 0, 0, 0, 0, 0, 0, 0, 0, 0, 0, 0, 0, 0, 0, 0, 0, 0, 0, 0, 0, 0, 0, 0, 0, 0, 0, 0, 0, 0, 0, 0, 0, 0, 0, 0, 0, 0, 0, 0, 0, 0, 0, 0, 0, 0, 0, 0, 0, 0, 0, 0, 0, 0, 0, 0, 0, 0, 0, 0, 0, 0, 0, 0, 0, 0, 0, 0, 0, 0, 0, 0, 0, 0, 0, 0, 0, 0, 0, 0, 0, 0, 0, 0, 0, 0, 0, 0, 0, 0, 0, 0, 0, 0, 0, 0, 0, 0, 0, 0, 0, 0, 0, 0, 0, 0, 0, 0, 0, 0, 0, 0, 0, 0, 0, 0, 0, 0, 0, 0, 0, 0, 0, 0, 0, 0, 0, 0, 0, 0, 0, 0, 0, 0, 0, 0, 0, 0, 0, 0, 0, 0, 0, 0, 0, 0, 0, 0, 0, 0, 0, 0, 0, 0, 0, 0, 0, 0, 0, 0, 0, 0, 0, 0, 0, 0, 0, 0, 0, 0, 0, 0, 0, 0, 0, 0, 0, 0, 0, 0, 0, 0, 0, 0, 0, 0, 0, 0, 0, 0, 0, 0, 0, 0, 0, 0, 0, 0, 0, 0, 0, 0, 0, 0, 0, 0, 0, 0, 0, 0, 0, 0, 0, 0, 0, 0, 0, 0, 0, 0, 0, 0, 0, 0, 0, 0, 0, 0, 0, 0, 0, 0, 0, 0, 0, 0, 0, 0, 0, 0, 0, 0, 0, 0, 0, 0, 0, 0, 0, 0, 0, 0, 0, 0, 0, 0, 0, 0, 0, 0, 0, 0, 0, 0, 0, 0, 0, 0, 0, 0, 0, 0, 0, 0, 0, 0, 0, 0, 0, 0, 0, 0, 0, 0, 0, 0, 0, 0, 0, 0, 0, 0, 0, 0, 0, 0, 0, 0, 0, 0, 0, 0, 0, 0, 0, 0, 0, 0, 0, 0, 0, 0, 0, 0, 0, 0, 0, 0, 0, 0, 0, 0, 0, 0, 0, 0, 0, 0, 0, 0, 0, 0, 0, 0, 0, 0, 0, 0, 0, 0, 0, 0, 0, 0, 0, 0, 0, 0, 0, 0, 0, 0, 0, 0, 0, 0, 0, 0, 0, 0, 0, 0, 0, 0, 0, 0, 0, 0, 0, 0, 0, 0, 0, 0, 0, 0, 0, 0, 0, 0, 0, 0, 0, 0, 0, 0, 0, 0, 0, 0, 0, 0, 0, 0, 0, 0, 0, 0, 0, 0, 0, 0, 0, 0, 0, 0, 0, 0, 0, 0, 0, 0, 0, 0, 0, 0, 0, 0, 0, 0, 0, 0, 0, 0, 0, 0, 0, 0, 0, 0, 0, 0, 0, 0, 0, 0, 0, 0, 0, 0, 0, 0, 0, 0, 0, 0, 0, 0, 0, 0, 0, 0, 0, 0, 0, 0, 0, 0, 0, 0, 0, 0, 0, 0, 0, 0, 0, 0, 0, 0, 0, 0, 0, 0, 0, 0, 0, 0, 0, 0, 0, 0, 0, 0, 0, 0, 0, 0, 0, 0, 0, 0, 0, 0, 0, 0, 0, 0, 0, 0, 0, 0, 0, 0, 0, 0, 0, 0, 0, 0, 0, 0, 0, 0, 0, 0, 0, 0, 0, 0, 0, 0, 0, 0, 0, 0, 0, 0, 0, 0, 0, 0, 0, 0, 0, 0, 0, 0, 0, 0, 0, 0, 0, 0, 0, 0, 0, 0, 0, 0, 0, 0, 0, 0, 0, 0, 0, 0, 0, 0, 0, 0, 0, 0, 0, 0, 0, 0, 0, 0, 0, 0, 0, 0, 0, 0, 0, 0, 0, 0, 0, 0, 0, 0, 0, 0, 0, 0, 0, 0, 0, 0, 0, 0, 0, 0, 0, 0, 0, 0, 0, 0, 0, 0, 0, 0, 0, 0, 0, 0, 0, 0, 0, 0, 0, 0, 0, 0, 0, 0, 0, 0, 0, 0, 0, 0, 0, 0, 0, 0, 0, 0, 0, 0, 0, 0, 0, 0, 0, 0, 0, 0, 0, 0, 0, 0, 0, 0, 0, 0, 0, 0, 0, 0, 0, 0, 0, 0, 0, 0, 0, 0, 0, 0, 0, 0, 0, 0, 0, 0, 1, 0, 0, 0, 0, 0, 0, 0, 0, 0, 0, 0, 0, 0, 0, 0, 0, 0, 0, 0, 0, 0, 0, 0, 0, 0, 0, 0, 0, 0, 0, 0, 0, 0, 0, 0, 0, 0, 0, 0, 0, 0, 0, 0, 0, 0, 0, 0, 0, 0, 0, 0, 0, 0, 0, 0, 0, 0, 0, 0, 0, 0, 0, 0, 0, 0, 0, 0, 0, 0, 0, 0, 0, 0, 0, 0, 0, 0, 0, 0, 0, 0, 0, 0, 0, 0, 0, 0, 0, 0, 0, 0, 0, 0, 0, 0, 0, 0, 0, 0, 0, 0, 0, 0, 0, 0, 0, 0, 1, 0, 0, 0, 0, 0, 0, 0, 0, 0, 0, 0, 0, 0, 0, 0, 0, 0, 0, 0, 0, 0, 0, 0, 0, 0, 0, 0, 0, 0, 0, 0, 0, 0, 0, 0, 0, 0, 0, 0, 0, 0, 0, 0, 0, 0, 0, 0, 0, 0, 0, 0, 0, 0, 0, 0, 0, 0, 0, 0, 0, 0, 0, 0, 0, 0, 0, 0, 0, 0, 0, 0, 0, 0, 0, 0, 0, 0, 0, 0, 0, 0, 0, 0, 0, 0, 0, 0, 0, 0, 0, 0, 0, 0, 0, 0, 0, 0, 0, 0, 0, 0, 0, 0, 0, 0, 0, 0, 0, 0, 0, 0, 0, 0, 0, 0, 0, 0, 0, 0, 0, 0, 0, 0, 0, 0, 0, 0, 0, 0, 0, 0, 0, 0, 0, 0, 0, 0, 0, 0, 0, 0, 0, 0, 0, 0, 0, 0, 0, 0, 0, 0, 0, 0, 0, 0, 0, 0, 0, 0, 0, 0, 0, 0, 0, 0, 0, 0, 0, 0, 0, 0, 0, 0, 0, 0, 0, 0, 0, 0, 0, 0, 0, 0, 0, 0, 0, 0, 0, 0, 0, 0, 0, 0, 0, 0, 0, 0, 0, 0, 0, 0, 0, 0, 0, 0, 0, 0, 0, 0, 0, 0, 0, 0, 0, 0, 0, 0, 0, 0, 0, 0, 0, 0, 0, 0, 0, 0, 0, 0, 0, 0, 0, 0, 0, 0, 0, 0, 0, 0, 0, 0, 0, 0, 0, 0, 0, 0, 0, 0, 0, 0, 0, 0, 0, 0, 0, 0, 0, 0, 0, 0, 0, 0, 0, 0, 0, 0, 0, 0, 0, 0, 0, 0, 0, 0, 0, 0, 0, 0, 0, 0, 0, 0, 0, 0, 0, 0, 0, 0, 0, 0, 0, 0, 0, 0, 0, 0, 0, 0, 0, 0, 0, 0, 0, 0, 0, 0, 0, 0, 0, 0, 0, 0, 0, 0, 0, 0, 0, 0, 0, 0, 0, 0, 0, 0, 0, 0, 0, 0, 0, 0, 0, 0, 0, 0, 0, 0, 0, 0, 0, 0, 0, 0, 0, 0, 0, 0, 0, 0, 0, 0, 0, 0, 0, 0, 0, 0, 0, 0, 0, 0, 0, 0, 0, 0, 0, 0, 0, 0, 0, 0, 0, 0, 0, 0, 0, 0, 0, 0, 0, 0, 0, 0, 0, 0, 0, 0, 0, 0, 0, 0, 0, 0, 0, 0, 0, 0, 0, 0, 0, 0, 0, 0, 0, 0, 0, 0, 0, 0, 0, 0, 0, 0, 0, 0, 0, 0, 0, 0, 0, 0, 0, 0, 0, 0, 0, 0, 0, 0, 0, 0, 0, 0, 0, 0, 0, 0, 0, 0, 0, 0, 0, 0, 0, 0, 0, 0, 0, 0, 0, 0, 0, 0, 0, 0, 0, 0, 0, 0, 0, 0, 0, 0, 2, 0, 1, 0], type: <class 'list'>, valid types: <class 'bytes'>, <class 'bytearray'>, file-like object",
     "output_type": "error",
     "traceback": [
      "\u001b[0;31m---------------------------------------------------------------------------\u001b[0m",
      "\u001b[0;31mParamValidationError\u001b[0m                      Traceback (most recent call last)",
      "\u001b[0;32m<ipython-input-44-c9ab54ae3a48>\u001b[0m in \u001b[0;36m<module>\u001b[0;34m\u001b[0m\n\u001b[1;32m      1\u001b[0m response = runtime.invoke_endpoint(EndpointName = xgb_predictor.endpoint, # The name of the endpoint we created\n\u001b[1;32m      2\u001b[0m                                        \u001b[0mContentType\u001b[0m \u001b[0;34m=\u001b[0m \u001b[0;34m'text/csv'\u001b[0m\u001b[0;34m,\u001b[0m                     \u001b[0;31m# The data format that is expected\u001b[0m\u001b[0;34m\u001b[0m\u001b[0;34m\u001b[0m\u001b[0m\n\u001b[0;32m----> 3\u001b[0;31m                                        Body = test_bow)\n\u001b[0m",
      "\u001b[0;32m~/anaconda3/envs/python3/lib/python3.6/site-packages/botocore/client.py\u001b[0m in \u001b[0;36m_api_call\u001b[0;34m(self, *args, **kwargs)\u001b[0m\n\u001b[1;32m    314\u001b[0m                     \"%s() only accepts keyword arguments.\" % py_operation_name)\n\u001b[1;32m    315\u001b[0m             \u001b[0;31m# The \"self\" in this scope is referring to the BaseClient.\u001b[0m\u001b[0;34m\u001b[0m\u001b[0;34m\u001b[0m\u001b[0;34m\u001b[0m\u001b[0m\n\u001b[0;32m--> 316\u001b[0;31m             \u001b[0;32mreturn\u001b[0m \u001b[0mself\u001b[0m\u001b[0;34m.\u001b[0m\u001b[0m_make_api_call\u001b[0m\u001b[0;34m(\u001b[0m\u001b[0moperation_name\u001b[0m\u001b[0;34m,\u001b[0m \u001b[0mkwargs\u001b[0m\u001b[0;34m)\u001b[0m\u001b[0;34m\u001b[0m\u001b[0;34m\u001b[0m\u001b[0m\n\u001b[0m\u001b[1;32m    317\u001b[0m \u001b[0;34m\u001b[0m\u001b[0m\n\u001b[1;32m    318\u001b[0m         \u001b[0m_api_call\u001b[0m\u001b[0;34m.\u001b[0m\u001b[0m__name__\u001b[0m \u001b[0;34m=\u001b[0m \u001b[0mstr\u001b[0m\u001b[0;34m(\u001b[0m\u001b[0mpy_operation_name\u001b[0m\u001b[0;34m)\u001b[0m\u001b[0;34m\u001b[0m\u001b[0;34m\u001b[0m\u001b[0m\n",
      "\u001b[0;32m~/anaconda3/envs/python3/lib/python3.6/site-packages/botocore/client.py\u001b[0m in \u001b[0;36m_make_api_call\u001b[0;34m(self, operation_name, api_params)\u001b[0m\n\u001b[1;32m    606\u001b[0m         }\n\u001b[1;32m    607\u001b[0m         request_dict = self._convert_to_request_dict(\n\u001b[0;32m--> 608\u001b[0;31m             api_params, operation_model, context=request_context)\n\u001b[0m\u001b[1;32m    609\u001b[0m \u001b[0;34m\u001b[0m\u001b[0m\n\u001b[1;32m    610\u001b[0m         \u001b[0mservice_id\u001b[0m \u001b[0;34m=\u001b[0m \u001b[0mself\u001b[0m\u001b[0;34m.\u001b[0m\u001b[0m_service_model\u001b[0m\u001b[0;34m.\u001b[0m\u001b[0mservice_id\u001b[0m\u001b[0;34m.\u001b[0m\u001b[0mhyphenize\u001b[0m\u001b[0;34m(\u001b[0m\u001b[0;34m)\u001b[0m\u001b[0;34m\u001b[0m\u001b[0;34m\u001b[0m\u001b[0m\n",
      "\u001b[0;32m~/anaconda3/envs/python3/lib/python3.6/site-packages/botocore/client.py\u001b[0m in \u001b[0;36m_convert_to_request_dict\u001b[0;34m(self, api_params, operation_model, context)\u001b[0m\n\u001b[1;32m    654\u001b[0m             api_params, operation_model, context)\n\u001b[1;32m    655\u001b[0m         request_dict = self._serializer.serialize_to_request(\n\u001b[0;32m--> 656\u001b[0;31m             api_params, operation_model)\n\u001b[0m\u001b[1;32m    657\u001b[0m         \u001b[0;32mif\u001b[0m \u001b[0;32mnot\u001b[0m \u001b[0mself\u001b[0m\u001b[0;34m.\u001b[0m\u001b[0m_client_config\u001b[0m\u001b[0;34m.\u001b[0m\u001b[0minject_host_prefix\u001b[0m\u001b[0;34m:\u001b[0m\u001b[0;34m\u001b[0m\u001b[0;34m\u001b[0m\u001b[0m\n\u001b[1;32m    658\u001b[0m             \u001b[0mrequest_dict\u001b[0m\u001b[0;34m.\u001b[0m\u001b[0mpop\u001b[0m\u001b[0;34m(\u001b[0m\u001b[0;34m'host_prefix'\u001b[0m\u001b[0;34m,\u001b[0m \u001b[0;32mNone\u001b[0m\u001b[0;34m)\u001b[0m\u001b[0;34m\u001b[0m\u001b[0;34m\u001b[0m\u001b[0m\n",
      "\u001b[0;32m~/anaconda3/envs/python3/lib/python3.6/site-packages/botocore/validate.py\u001b[0m in \u001b[0;36mserialize_to_request\u001b[0;34m(self, parameters, operation_model)\u001b[0m\n\u001b[1;32m    295\u001b[0m                                                     operation_model.input_shape)\n\u001b[1;32m    296\u001b[0m             \u001b[0;32mif\u001b[0m \u001b[0mreport\u001b[0m\u001b[0;34m.\u001b[0m\u001b[0mhas_errors\u001b[0m\u001b[0;34m(\u001b[0m\u001b[0;34m)\u001b[0m\u001b[0;34m:\u001b[0m\u001b[0;34m\u001b[0m\u001b[0;34m\u001b[0m\u001b[0m\n\u001b[0;32m--> 297\u001b[0;31m                 \u001b[0;32mraise\u001b[0m \u001b[0mParamValidationError\u001b[0m\u001b[0;34m(\u001b[0m\u001b[0mreport\u001b[0m\u001b[0;34m=\u001b[0m\u001b[0mreport\u001b[0m\u001b[0;34m.\u001b[0m\u001b[0mgenerate_report\u001b[0m\u001b[0;34m(\u001b[0m\u001b[0;34m)\u001b[0m\u001b[0;34m)\u001b[0m\u001b[0;34m\u001b[0m\u001b[0;34m\u001b[0m\u001b[0m\n\u001b[0m\u001b[1;32m    298\u001b[0m         return self._serializer.serialize_to_request(parameters,\n\u001b[1;32m    299\u001b[0m                                                      operation_model)\n",
      "\u001b[0;31mParamValidationError\u001b[0m: Parameter validation failed:\nInvalid type for parameter Body, value: [0, 0, 0, 0, 0, 0, 0, 0, 0, 0, 0, 0, 0, 0, 0, 0, 0, 0, 0, 0, 0, 0, 0, 0, 0, 0, 0, 0, 0, 0, 0, 0, 0, 0, 0, 0, 0, 0, 0, 0, 0, 0, 0, 0, 0, 0, 0, 0, 0, 0, 0, 0, 0, 0, 0, 0, 0, 0, 0, 0, 0, 0, 0, 0, 0, 0, 0, 0, 0, 0, 0, 0, 0, 0, 0, 0, 0, 0, 0, 0, 0, 0, 0, 0, 0, 0, 0, 0, 0, 0, 0, 0, 0, 0, 0, 0, 0, 0, 0, 0, 0, 0, 0, 0, 0, 0, 0, 0, 0, 0, 0, 0, 0, 0, 0, 0, 0, 0, 0, 0, 0, 0, 0, 0, 0, 0, 0, 0, 0, 0, 0, 0, 0, 0, 0, 0, 0, 0, 0, 0, 0, 0, 0, 0, 0, 0, 0, 0, 0, 0, 0, 0, 0, 0, 0, 0, 0, 0, 0, 0, 0, 0, 0, 0, 0, 0, 0, 0, 0, 0, 0, 0, 0, 0, 0, 0, 0, 0, 0, 0, 0, 0, 0, 0, 0, 0, 0, 0, 0, 0, 0, 0, 0, 0, 0, 0, 0, 0, 0, 0, 0, 0, 0, 0, 0, 0, 0, 0, 0, 0, 0, 0, 0, 0, 0, 0, 0, 0, 0, 0, 0, 0, 0, 0, 0, 0, 1, 0, 0, 0, 0, 0, 0, 0, 0, 0, 0, 0, 0, 0, 0, 0, 0, 0, 0, 0, 0, 0, 0, 0, 0, 0, 0, 0, 0, 0, 1, 0, 0, 0, 0, 0, 0, 0, 0, 0, 0, 0, 0, 0, 0, 0, 0, 0, 0, 0, 0, 0, 0, 0, 0, 0, 0, 0, 0, 0, 0, 0, 0, 0, 0, 0, 0, 0, 0, 0, 0, 0, 0, 0, 0, 0, 0, 0, 0, 0, 0, 0, 0, 0, 0, 0, 0, 0, 0, 0, 0, 0, 0, 0, 0, 0, 0, 0, 0, 0, 0, 0, 0, 0, 0, 0, 0, 0, 0, 0, 0, 0, 0, 0, 0, 0, 0, 0, 0, 0, 0, 0, 0, 0, 0, 0, 0, 0, 0, 0, 0, 0, 0, 0, 0, 0, 0, 0, 0, 0, 0, 0, 0, 0, 0, 0, 0, 0, 0, 0, 0, 0, 0, 0, 0, 0, 0, 0, 0, 0, 0, 0, 0, 0, 0, 0, 0, 0, 0, 0, 0, 0, 0, 0, 0, 0, 0, 0, 0, 0, 0, 0, 0, 0, 0, 0, 0, 0, 0, 0, 0, 0, 0, 0, 0, 0, 0, 0, 0, 0, 0, 0, 0, 0, 0, 0, 0, 0, 0, 0, 0, 0, 0, 0, 0, 0, 0, 0, 0, 0, 0, 0, 0, 0, 0, 0, 0, 0, 0, 0, 0, 0, 0, 0, 0, 0, 0, 0, 0, 0, 0, 0, 0, 0, 0, 0, 0, 0, 0, 0, 0, 0, 0, 0, 0, 0, 0, 0, 0, 0, 0, 0, 0, 0, 0, 0, 0, 0, 0, 0, 0, 0, 0, 0, 0, 0, 0, 0, 0, 0, 0, 0, 0, 0, 0, 0, 0, 0, 0, 0, 0, 0, 0, 0, 0, 0, 0, 0, 0, 0, 0, 0, 0, 0, 0, 0, 0, 0, 0, 0, 0, 0, 0, 0, 0, 0, 0, 0, 0, 0, 0, 0, 0, 0, 0, 0, 0, 0, 0, 0, 0, 0, 0, 0, 0, 0, 0, 0, 0, 0, 0, 0, 0, 0, 0, 0, 0, 0, 0, 0, 0, 0, 0, 0, 0, 0, 0, 0, 0, 0, 0, 0, 0, 0, 0, 0, 0, 0, 0, 0, 0, 0, 0, 0, 0, 0, 0, 0, 0, 0, 0, 0, 0, 0, 0, 0, 0, 0, 0, 0, 0, 0, 0, 0, 0, 0, 0, 0, 0, 0, 0, 0, 0, 0, 0, 0, 0, 0, 0, 0, 1, 0, 0, 0, 0, 0, 0, 0, 0, 0, 0, 0, 0, 0, 0, 0, 0, 0, 0, 0, 0, 0, 0, 0, 0, 0, 0, 0, 0, 0, 0, 0, 0, 0, 0, 0, 0, 0, 0, 0, 0, 0, 0, 0, 0, 0, 0, 0, 0, 0, 0, 0, 0, 0, 0, 0, 0, 0, 0, 0, 0, 0, 0, 0, 0, 0, 0, 0, 0, 0, 0, 0, 0, 0, 0, 0, 0, 0, 0, 0, 0, 0, 0, 0, 0, 0, 0, 0, 0, 0, 0, 0, 0, 0, 0, 0, 0, 0, 0, 0, 0, 0, 0, 0, 0, 0, 0, 0, 0, 0, 0, 0, 0, 0, 0, 0, 0, 0, 0, 0, 0, 0, 0, 0, 0, 0, 0, 0, 0, 0, 0, 0, 0, 0, 0, 0, 0, 0, 0, 0, 0, 0, 0, 0, 0, 0, 0, 0, 0, 0, 0, 0, 0, 0, 0, 0, 0, 0, 0, 0, 0, 0, 0, 0, 0, 0, 0, 0, 0, 0, 0, 0, 0, 0, 0, 0, 0, 0, 0, 0, 0, 0, 0, 0, 0, 0, 0, 0, 0, 0, 0, 0, 0, 0, 0, 0, 0, 0, 0, 0, 0, 0, 0, 0, 0, 0, 0, 0, 0, 0, 0, 0, 0, 0, 0, 0, 0, 0, 0, 0, 0, 0, 0, 0, 0, 0, 0, 0, 0, 0, 0, 0, 0, 0, 0, 0, 0, 0, 0, 0, 0, 0, 0, 0, 0, 0, 0, 0, 0, 0, 0, 0, 0, 0, 1, 0, 0, 0, 0, 0, 0, 0, 0, 0, 0, 0, 0, 0, 0, 0, 0, 0, 0, 0, 0, 0, 0, 0, 0, 0, 0, 0, 0, 0, 0, 0, 0, 0, 0, 0, 0, 0, 0, 0, 0, 0, 0, 0, 0, 0, 0, 0, 0, 0, 0, 0, 0, 0, 0, 0, 0, 0, 0, 0, 0, 0, 0, 0, 0, 0, 0, 0, 0, 0, 0, 0, 0, 0, 0, 0, 0, 0, 0, 0, 0, 0, 0, 0, 0, 0, 0, 1, 0, 0, 0, 0, 0, 0, 0, 0, 0, 0, 0, 0, 0, 0, 0, 0, 0, 0, 0, 0, 0, 0, 0, 0, 0, 0, 0, 0, 0, 0, 0, 0, 0, 0, 0, 0, 0, 0, 0, 0, 0, 0, 0, 0, 0, 0, 0, 0, 0, 0, 0, 0, 0, 0, 0, 0, 0, 0, 0, 0, 0, 0, 0, 0, 0, 0, 0, 0, 0, 0, 0, 0, 0, 0, 0, 0, 0, 0, 0, 0, 0, 0, 0, 0, 0, 0, 0, 0, 0, 0, 0, 0, 0, 0, 0, 0, 0, 0, 0, 0, 0, 0, 0, 0, 0, 0, 0, 0, 0, 0, 0, 0, 0, 0, 0, 0, 0, 0, 0, 0, 0, 0, 0, 0, 0, 0, 0, 0, 0, 0, 0, 0, 0, 0, 0, 0, 0, 0, 0, 0, 0, 0, 0, 0, 0, 0, 0, 0, 0, 0, 0, 0, 0, 0, 0, 0, 0, 0, 0, 0, 0, 0, 0, 0, 0, 0, 0, 0, 0, 0, 0, 0, 0, 0, 0, 0, 0, 0, 0, 0, 0, 0, 0, 0, 0, 0, 0, 0, 0, 0, 0, 0, 0, 0, 0, 0, 0, 0, 0, 0, 0, 0, 0, 0, 0, 0, 0, 0, 0, 0, 0, 0, 0, 0, 0, 0, 0, 0, 0, 0, 0, 0, 0, 0, 0, 0, 0, 0, 0, 0, 0, 0, 0, 0, 0, 0, 0, 0, 0, 0, 0, 0, 0, 0, 0, 0, 0, 0, 0, 0, 0, 0, 1, 0, 0, 0, 0, 0, 0, 0, 0, 0, 0, 0, 0, 0, 0, 0, 0, 0, 0, 0, 0, 0, 0, 0, 0, 0, 0, 0, 0, 0, 0, 0, 0, 0, 0, 0, 0, 0, 0, 0, 0, 0, 0, 0, 0, 0, 0, 0, 0, 0, 0, 0, 0, 0, 0, 0, 1, 0, 0, 0, 0, 0, 0, 0, 0, 0, 0, 0, 0, 0, 0, 0, 0, 0, 0, 0, 0, 0, 0, 0, 0, 0, 0, 0, 0, 0, 0, 0, 0, 0, 0, 0, 0, 0, 0, 0, 0, 0, 0, 0, 0, 0, 0, 0, 0, 0, 0, 0, 0, 0, 0, 0, 0, 0, 0, 0, 0, 0, 0, 0, 0, 0, 0, 0, 0, 0, 0, 0, 0, 0, 0, 0, 0, 0, 0, 0, 0, 0, 0, 0, 0, 0, 0, 0, 0, 0, 0, 0, 0, 0, 0, 0, 0, 0, 0, 0, 0, 0, 0, 0, 0, 0, 0, 0, 0, 0, 0, 0, 0, 0, 0, 0, 0, 0, 0, 0, 0, 0, 0, 0, 0, 0, 0, 0, 0, 0, 0, 0, 0, 0, 0, 0, 0, 0, 0, 0, 0, 0, 0, 0, 0, 0, 0, 0, 0, 0, 0, 0, 0, 0, 0, 0, 0, 0, 0, 0, 0, 0, 0, 0, 0, 0, 0, 0, 0, 0, 0, 0, 0, 0, 0, 0, 0, 0, 0, 0, 0, 0, 0, 0, 0, 0, 0, 0, 0, 0, 0, 0, 0, 0, 0, 0, 0, 0, 0, 0, 0, 0, 0, 0, 0, 0, 0, 0, 0, 0, 0, 0, 0, 0, 0, 0, 0, 0, 0, 0, 0, 0, 0, 0, 0, 0, 0, 0, 0, 0, 0, 0, 0, 0, 0, 0, 0, 0, 0, 0, 0, 0, 0, 0, 0, 0, 0, 0, 0, 0, 0, 0, 0, 0, 0, 0, 0, 0, 0, 0, 0, 0, 0, 0, 0, 0, 0, 0, 0, 0, 0, 0, 0, 0, 0, 0, 0, 0, 0, 0, 0, 0, 0, 0, 0, 0, 0, 0, 0, 0, 0, 0, 0, 0, 0, 0, 0, 0, 0, 0, 0, 0, 0, 0, 0, 0, 0, 0, 0, 0, 0, 0, 0, 0, 0, 0, 0, 0, 0, 0, 0, 0, 0, 0, 0, 0, 0, 0, 0, 0, 0, 0, 0, 0, 0, 0, 0, 0, 0, 0, 0, 0, 0, 0, 0, 0, 0, 0, 0, 0, 0, 0, 0, 0, 0, 0, 0, 0, 0, 0, 0, 0, 0, 0, 0, 0, 0, 0, 0, 0, 0, 0, 0, 0, 0, 0, 0, 0, 0, 0, 0, 0, 0, 0, 0, 0, 0, 0, 0, 0, 0, 0, 0, 0, 0, 0, 0, 0, 0, 0, 0, 0, 0, 0, 0, 0, 0, 0, 0, 0, 0, 0, 0, 0, 0, 0, 0, 0, 0, 0, 0, 0, 0, 0, 0, 0, 0, 0, 0, 0, 0, 0, 0, 0, 0, 0, 0, 0, 0, 0, 0, 0, 0, 0, 0, 0, 0, 0, 0, 0, 0, 0, 0, 0, 0, 0, 0, 0, 0, 0, 0, 0, 0, 0, 0, 0, 0, 0, 0, 0, 0, 0, 0, 0, 0, 0, 0, 0, 0, 0, 0, 0, 0, 0, 0, 0, 0, 0, 0, 0, 0, 0, 0, 0, 0, 0, 0, 0, 0, 0, 0, 0, 0, 0, 0, 0, 0, 0, 0, 0, 0, 0, 0, 0, 0, 0, 0, 0, 0, 0, 0, 0, 0, 0, 0, 0, 0, 0, 0, 0, 0, 0, 0, 0, 0, 0, 0, 0, 0, 0, 0, 0, 0, 0, 0, 0, 0, 0, 0, 0, 0, 0, 0, 0, 0, 0, 0, 0, 0, 0, 0, 0, 0, 0, 0, 0, 0, 0, 0, 0, 0, 0, 0, 0, 0, 0, 0, 0, 0, 0, 0, 0, 0, 0, 0, 0, 0, 0, 0, 0, 0, 0, 0, 0, 0, 0, 0, 0, 0, 0, 0, 0, 0, 0, 0, 0, 0, 0, 0, 0, 0, 0, 0, 0, 0, 0, 0, 0, 0, 0, 0, 0, 0, 0, 0, 0, 0, 0, 0, 0, 0, 0, 0, 0, 0, 0, 0, 0, 0, 0, 0, 0, 0, 0, 0, 0, 0, 0, 0, 0, 0, 0, 0, 0, 0, 0, 0, 0, 0, 0, 0, 0, 0, 0, 0, 0, 0, 0, 0, 0, 0, 0, 0, 0, 0, 0, 0, 0, 0, 0, 0, 0, 1, 0, 0, 0, 0, 0, 0, 0, 0, 0, 0, 0, 0, 0, 0, 0, 0, 0, 0, 0, 0, 0, 0, 0, 0, 0, 0, 0, 0, 0, 0, 0, 0, 0, 0, 0, 0, 0, 0, 0, 0, 0, 0, 0, 0, 0, 0, 0, 0, 0, 0, 0, 0, 0, 0, 0, 0, 0, 0, 0, 0, 0, 0, 0, 0, 0, 0, 0, 0, 0, 0, 0, 0, 0, 0, 1, 0, 0, 0, 0, 0, 0, 0, 0, 0, 0, 0, 0, 0, 0, 0, 0, 0, 0, 0, 0, 1, 0, 0, 1, 0, 0, 0, 0, 0, 0, 0, 0, 0, 0, 0, 0, 0, 0, 0, 0, 0, 0, 0, 0, 0, 0, 0, 0, 0, 0, 0, 0, 0, 0, 0, 0, 0, 0, 0, 0, 0, 0, 0, 0, 0, 0, 0, 0, 0, 0, 0, 0, 0, 0, 0, 0, 0, 0, 0, 0, 0, 0, 0, 0, 0, 0, 0, 0, 0, 0, 0, 0, 0, 0, 0, 0, 0, 0, 0, 0, 0, 0, 0, 0, 0, 0, 0, 0, 0, 0, 0, 0, 0, 0, 0, 0, 0, 0, 0, 0, 0, 0, 0, 0, 0, 0, 0, 0, 0, 0, 0, 0, 0, 0, 0, 0, 0, 0, 0, 0, 0, 0, 0, 0, 0, 0, 0, 0, 0, 0, 0, 0, 0, 0, 0, 0, 0, 0, 0, 0, 0, 0, 0, 0, 0, 0, 0, 0, 0, 0, 0, 0, 0, 0, 0, 0, 0, 0, 0, 0, 0, 0, 0, 0, 0, 0, 0, 0, 0, 0, 0, 0, 0, 0, 0, 0, 0, 0, 0, 0, 0, 0, 0, 0, 0, 0, 0, 0, 0, 0, 0, 0, 0, 0, 0, 0, 0, 0, 0, 0, 0, 0, 0, 0, 0, 0, 0, 0, 0, 0, 0, 0, 0, 0, 0, 0, 0, 0, 0, 0, 0, 0, 0, 0, 0, 0, 0, 0, 0, 0, 0, 0, 0, 0, 0, 0, 0, 0, 0, 0, 0, 0, 0, 0, 0, 0, 0, 0, 0, 0, 0, 0, 0, 0, 0, 0, 0, 0, 0, 0, 0, 0, 0, 0, 0, 0, 0, 0, 0, 0, 0, 0, 0, 0, 0, 0, 0, 0, 0, 0, 0, 0, 0, 0, 0, 0, 0, 0, 0, 0, 0, 0, 0, 0, 0, 0, 0, 0, 0, 0, 0, 0, 0, 0, 0, 0, 0, 0, 0, 0, 0, 0, 0, 0, 0, 0, 0, 0, 0, 0, 0, 0, 0, 0, 0, 0, 0, 0, 0, 0, 0, 0, 0, 0, 0, 0, 0, 0, 0, 0, 0, 0, 0, 0, 0, 0, 0, 0, 0, 0, 0, 0, 0, 0, 0, 0, 0, 0, 0, 0, 0, 0, 0, 0, 0, 0, 0, 0, 0, 0, 0, 0, 0, 0, 0, 0, 0, 0, 0, 0, 0, 0, 0, 0, 0, 0, 0, 0, 0, 0, 0, 0, 0, 0, 0, 0, 0, 0, 0, 0, 0, 0, 0, 0, 0, 0, 0, 0, 0, 0, 0, 0, 0, 0, 0, 0, 0, 0, 0, 0, 0, 0, 0, 0, 0, 0, 0, 0, 0, 0, 0, 0, 0, 0, 0, 0, 0, 0, 0, 0, 0, 0, 0, 0, 0, 0, 0, 0, 0, 0, 0, 0, 0, 0, 0, 0, 0, 0, 0, 0, 0, 0, 0, 0, 0, 0, 0, 0, 0, 0, 1, 0, 0, 0, 0, 0, 0, 0, 0, 0, 0, 0, 0, 0, 0, 0, 0, 0, 0, 0, 0, 0, 0, 0, 0, 0, 0, 0, 0, 0, 0, 0, 0, 0, 0, 0, 0, 0, 0, 0, 0, 0, 0, 0, 0, 0, 0, 0, 0, 0, 0, 0, 0, 0, 0, 0, 0, 0, 0, 0, 0, 0, 0, 0, 0, 0, 0, 0, 0, 0, 0, 0, 0, 0, 0, 0, 0, 0, 0, 0, 0, 0, 0, 0, 0, 0, 0, 0, 0, 0, 0, 0, 0, 0, 0, 0, 0, 0, 0, 0, 0, 0, 0, 0, 0, 0, 0, 0, 0, 0, 0, 0, 0, 0, 0, 0, 0, 0, 0, 0, 0, 0, 0, 0, 0, 0, 0, 0, 0, 0, 0, 0, 0, 0, 0, 0, 0, 0, 0, 0, 0, 0, 0, 0, 0, 0, 0, 0, 0, 0, 0, 0, 0, 0, 0, 0, 0, 0, 0, 0, 0, 0, 0, 0, 0, 0, 0, 0, 0, 0, 0, 0, 0, 0, 0, 0, 0, 0, 0, 0, 0, 0, 0, 0, 0, 0, 0, 0, 0, 0, 0, 0, 0, 0, 0, 0, 0, 0, 0, 0, 0, 0, 0, 0, 0, 0, 0, 0, 0, 0, 0, 0, 0, 0, 0, 0, 0, 0, 0, 0, 0, 0, 0, 0, 0, 0, 0, 0, 0, 0, 0, 0, 0, 0, 0, 0, 0, 0, 0, 0, 0, 0, 0, 0, 0, 0, 0, 0, 0, 0, 0, 0, 0, 0, 0, 0, 0, 0, 0, 0, 0, 0, 0, 0, 0, 0, 0, 0, 0, 0, 0, 0, 0, 0, 0, 0, 0, 0, 0, 0, 0, 0, 0, 0, 0, 0, 0, 0, 0, 0, 0, 0, 0, 0, 0, 0, 0, 0, 0, 0, 0, 0, 0, 0, 0, 0, 0, 0, 0, 0, 0, 0, 0, 0, 0, 0, 0, 0, 0, 0, 0, 0, 0, 0, 0, 0, 0, 0, 0, 0, 0, 0, 0, 0, 0, 0, 0, 0, 0, 0, 0, 0, 0, 0, 0, 0, 0, 0, 0, 0, 0, 0, 0, 0, 0, 0, 0, 0, 0, 0, 0, 0, 0, 0, 0, 0, 0, 0, 0, 0, 0, 0, 0, 0, 0, 0, 0, 0, 0, 0, 0, 0, 0, 0, 0, 0, 0, 0, 0, 0, 0, 0, 0, 0, 0, 0, 0, 0, 0, 0, 0, 0, 0, 0, 0, 0, 0, 0, 0, 0, 0, 0, 0, 0, 0, 0, 0, 0, 0, 0, 0, 0, 0, 0, 0, 0, 0, 0, 0, 0, 0, 0, 0, 0, 0, 0, 0, 0, 0, 0, 0, 0, 0, 0, 0, 0, 0, 0, 0, 0, 0, 0, 0, 0, 0, 0, 0, 0, 0, 0, 0, 0, 0, 0, 0, 0, 0, 0, 0, 0, 0, 0, 0, 0, 0, 0, 0, 0, 0, 0, 0, 0, 0, 0, 0, 0, 0, 0, 0, 0, 0, 0, 0, 0, 0, 0, 0, 0, 0, 0, 0, 0, 0, 0, 0, 0, 0, 0, 0, 0, 0, 0, 0, 1, 0, 0, 0, 0, 0, 0, 0, 0, 0, 0, 0, 0, 0, 0, 0, 0, 0, 0, 0, 0, 0, 0, 0, 0, 0, 0, 0, 0, 0, 0, 0, 0, 0, 0, 0, 2, 0, 0, 0, 0, 0, 0, 0, 0, 0, 0, 0, 0, 0, 0, 0, 0, 0, 0, 0, 0, 0, 0, 0, 0, 0, 0, 0, 0, 0, 0, 0, 0, 0, 0, 0, 0, 0, 0, 0, 0, 1, 0, 0, 0, 0, 0, 0, 0, 0, 0, 0, 0, 0, 0, 0, 0, 0, 0, 0, 0, 0, 0, 0, 0, 0, 0, 0, 0, 0, 0, 0, 0, 0, 0, 0, 0, 0, 0, 0, 0, 0, 0, 0, 0, 0, 0, 0, 0, 0, 0, 0, 0, 0, 0, 0, 0, 0, 0, 0, 0, 0, 0, 0, 0, 0, 0, 0, 0, 0, 0, 0, 0, 0, 0, 0, 0, 0, 0, 0, 0, 0, 0, 0, 0, 0, 0, 0, 0, 0, 0, 0, 0, 0, 0, 0, 0, 0, 0, 0, 0, 0, 0, 0, 0, 0, 0, 0, 0, 0, 0, 0, 0, 0, 0, 0, 0, 0, 0, 0, 0, 0, 0, 0, 0, 0, 0, 0, 0, 0, 0, 0, 0, 0, 0, 0, 0, 0, 0, 0, 0, 0, 0, 0, 0, 0, 0, 0, 0, 0, 0, 0, 0, 0, 0, 0, 0, 0, 0, 0, 0, 0, 0, 0, 0, 0, 0, 0, 0, 0, 0, 0, 0, 0, 0, 0, 0, 0, 0, 0, 0, 0, 0, 0, 0, 0, 0, 0, 0, 0, 0, 0, 0, 0, 0, 0, 0, 0, 0, 0, 0, 0, 0, 0, 0, 0, 0, 0, 0, 0, 0, 0, 0, 0, 0, 0, 0, 0, 0, 0, 0, 0, 0, 0, 0, 0, 0, 0, 0, 0, 0, 0, 0, 0, 0, 0, 0, 0, 0, 0, 0, 0, 0, 0, 0, 0, 0, 0, 0, 0, 0, 0, 0, 0, 0, 0, 0, 0, 0, 0, 0, 0, 0, 0, 0, 0, 0, 0, 0, 0, 0, 0, 0, 0, 0, 0, 0, 0, 0, 0, 0, 0, 0, 0, 0, 0, 0, 0, 0, 0, 0, 0, 0, 0, 0, 0, 0, 0, 0, 0, 0, 0, 0, 0, 0, 0, 0, 0, 0, 0, 0, 0, 0, 0, 0, 0, 0, 0, 0, 0, 0, 0, 0, 0, 0, 0, 0, 0, 0, 0, 0, 0, 0, 0, 0, 0, 0, 0, 0, 0, 0, 0, 0, 0, 0, 0, 0, 0, 0, 0, 0, 0, 0, 0, 0, 0, 0, 0, 0, 0, 0, 0, 0, 0, 0, 0, 0, 0, 0, 0, 0, 0, 0, 0, 0, 0, 0, 0, 0, 0, 0, 0, 0, 0, 0, 0, 0, 0, 0, 0, 0, 0, 0, 0, 0, 0, 0, 0, 0, 0, 0, 0, 0, 0, 0, 0, 0, 0, 0, 0, 0, 0, 0, 0, 0, 0, 0, 0, 0, 0, 0, 0, 0, 0, 0, 0, 0, 0, 0, 0, 0, 0, 0, 0, 0, 0, 0, 0, 0, 0, 0, 0, 0, 0, 0, 0, 0, 0, 0, 0, 0, 0, 0, 0, 0, 0, 0, 0, 0, 0, 0, 0, 0, 0, 0, 0, 0, 0, 0, 0, 0, 0, 0, 0, 0, 0, 0, 0, 0, 0, 0, 0, 0, 0, 0, 0, 0, 0, 0, 0, 0, 0, 0, 0, 0, 0, 0, 0, 0, 1, 0, 0, 0, 0, 0, 0, 0, 0, 0, 0, 0, 0, 0, 0, 0, 0, 0, 0, 0, 0, 0, 0, 0, 0, 0, 0, 0, 0, 0, 0, 0, 0, 0, 0, 0, 0, 0, 0, 0, 0, 0, 0, 0, 0, 0, 0, 0, 0, 0, 0, 0, 0, 0, 0, 0, 0, 0, 0, 0, 0, 0, 0, 0, 0, 0, 0, 0, 0, 0, 0, 0, 0, 0, 0, 0, 0, 0, 0, 0, 0, 0, 0, 0, 0, 0, 0, 0, 0, 0, 0, 0, 0, 0, 0, 0, 0, 0, 0, 0, 0, 0, 0, 0, 0, 0, 0, 0, 0, 0, 0, 2, 0, 0, 0, 0, 0, 0, 0, 0, 0, 0, 0, 0, 0, 0, 0, 0, 0, 0, 0, 0, 0, 0, 0, 0, 0, 0, 0, 0, 0, 0, 0, 0, 0, 0, 0, 0, 0, 0, 0, 0, 0, 0, 0, 0, 0, 0, 0, 0, 0, 0, 0, 0, 0, 0, 0, 0, 0, 0, 0, 0, 0, 0, 0, 0, 0, 0, 0, 0, 0, 0, 0, 0, 0, 0, 0, 0, 0, 0, 0, 0, 0, 0, 0, 0, 0, 0, 0, 0, 0, 0, 0, 0, 0, 0, 0, 0, 0, 0, 0, 0, 0, 0, 0, 0, 0, 0, 0, 0, 0, 0, 0, 0, 0, 0, 0, 0, 0, 0, 0, 0, 0, 0, 0, 0, 0, 0, 0, 0, 0, 0, 0, 0, 0, 0, 0, 0, 0, 0, 0, 0, 0, 0, 0, 0, 0, 0, 0, 0, 0, 0, 0, 0, 0, 0, 0, 0, 0, 0, 0, 0, 0, 0, 0, 0, 0, 0, 0, 0, 0, 0, 0, 0, 0, 0, 0, 0, 0, 0, 0, 0, 0, 0, 0, 0, 0, 0, 0, 0, 0, 0, 0, 0, 0, 0, 0, 0, 0, 0, 0, 0, 0, 0, 0, 0, 0, 0, 0, 0, 0, 0, 0, 0, 0, 0, 0, 0, 0, 0, 0, 0, 0, 0, 0, 0, 0, 0, 0, 0, 0, 0, 0, 0, 0, 0, 0, 0, 0, 0, 0, 0, 0, 0, 0, 0, 0, 0, 0, 0, 0, 0, 0, 0, 0, 0, 0, 0, 0, 0, 0, 0, 0, 0, 0, 0, 0, 0, 0, 0, 0, 0, 0, 0, 0, 0, 0, 0, 0, 0, 0, 0, 0, 0, 0, 0, 0, 0, 0, 0, 0, 0, 0, 0, 0, 0, 0, 0, 0, 0, 0, 0, 0, 0, 0, 0, 0, 0, 0, 0, 0, 0, 0, 0, 0, 0, 0, 0, 0, 0, 0, 0, 0, 0, 0, 0, 0, 0, 0, 0, 0, 0, 0, 0, 0, 0, 0, 0, 0, 0, 0, 0, 0, 0, 0, 0, 0, 0, 0, 0, 0, 0, 0, 0, 0, 0, 0, 0, 0, 0, 0, 0, 0, 0, 0, 0, 0, 0, 0, 0, 0, 0, 0, 0, 0, 0, 0, 0, 0, 0, 0, 0, 0, 0, 0, 0, 0, 0, 0, 0, 0, 0, 0, 0, 0, 0, 0, 0, 0, 0, 0, 0, 0, 0, 0, 0, 0, 0, 0, 0, 0, 0, 0, 0, 0, 0, 0, 0, 0, 0, 0, 0, 0, 0, 0, 0, 0, 0, 0, 0, 0, 0, 0, 0, 0, 0, 0, 0, 0, 0, 0, 0, 0, 0, 0, 0, 0, 0, 0, 0, 0, 0, 0, 0, 0, 0, 0, 0, 0, 0, 0, 0, 0, 0, 0, 0, 0, 0, 0, 0, 0, 0, 0, 0, 0, 0, 0, 0, 0, 0, 0, 0, 0, 0, 0, 0, 0, 0, 0, 0, 0, 0, 0, 0, 0, 0, 0, 0, 0, 0, 0, 0, 0, 0, 0, 0, 0, 0, 0, 0, 0, 0, 0, 0, 0, 0, 0, 0, 0, 0, 0, 0, 0, 0, 0, 0, 0, 0, 0, 0, 0, 0, 0, 0, 0, 0, 0, 0, 0, 0, 0, 0, 0, 0, 0, 0, 0, 0, 0, 0, 0, 0, 0, 0, 0, 0, 0, 0, 0, 0, 0, 0, 0, 0, 0, 0, 0, 0, 0, 0, 0, 0, 0, 0, 0, 0, 0, 0, 0, 0, 0, 0, 0, 0, 0, 0, 0, 0, 0, 0, 0, 0, 0, 0, 0, 0, 0, 0, 0, 0, 0, 0, 0, 0, 0, 0, 0, 0, 0, 0, 0, 0, 0, 0, 0, 0, 0, 0, 0, 0, 0, 0, 0, 0, 0, 0, 0, 0, 0, 0, 0, 0, 0, 0, 0, 0, 0, 0, 0, 0, 0, 0, 0, 0, 0, 0, 0, 0, 0, 0, 0, 0, 0, 0, 0, 0, 0, 0, 0, 0, 0, 0, 0, 0, 0, 0, 0, 0, 0, 0, 0, 0, 0, 0, 0, 0, 0, 0, 0, 0, 0, 0, 0, 0, 0, 0, 0, 0, 0, 0, 0, 0, 1, 0, 0, 0, 0, 0, 0, 0, 0, 0, 0, 0, 0, 0, 0, 0, 0, 0, 0, 0, 0, 0, 0, 0, 0, 0, 0, 0, 0, 0, 0, 0, 0, 0, 0, 0, 0, 0, 0, 0, 0, 0, 0, 0, 0, 0, 0, 0, 0, 0, 0, 0, 0, 0, 0, 0, 0, 0, 0, 0, 0, 0, 0, 0, 0, 0, 0, 0, 0, 0, 0, 0, 0, 0, 0, 0, 0, 0, 0, 0, 0, 0, 0, 0, 0, 0, 0, 0, 0, 0, 0, 0, 0, 0, 0, 0, 0, 0, 0, 0, 0, 0, 0, 0, 0, 0, 0, 0, 1, 0, 0, 0, 0, 0, 0, 0, 0, 0, 0, 0, 0, 0, 0, 0, 0, 0, 0, 0, 0, 0, 0, 0, 0, 0, 0, 0, 0, 0, 0, 0, 0, 0, 0, 0, 0, 0, 0, 0, 0, 0, 0, 0, 0, 0, 0, 0, 0, 0, 0, 0, 0, 0, 0, 0, 0, 0, 0, 0, 0, 0, 0, 0, 0, 0, 0, 0, 0, 0, 0, 0, 0, 0, 0, 0, 0, 0, 0, 0, 0, 0, 0, 0, 0, 0, 0, 0, 0, 0, 0, 0, 0, 0, 0, 0, 0, 0, 0, 0, 0, 0, 0, 0, 0, 0, 0, 0, 0, 0, 0, 0, 0, 0, 0, 0, 0, 0, 0, 0, 0, 0, 0, 0, 0, 0, 0, 0, 0, 0, 0, 0, 0, 0, 0, 0, 0, 0, 0, 0, 0, 0, 0, 0, 0, 0, 0, 0, 0, 0, 0, 0, 0, 0, 0, 0, 0, 0, 0, 0, 0, 0, 0, 0, 0, 0, 0, 0, 0, 0, 0, 0, 0, 0, 0, 0, 0, 0, 0, 0, 0, 0, 0, 0, 0, 0, 0, 0, 0, 0, 0, 0, 0, 0, 0, 0, 0, 0, 0, 0, 0, 0, 0, 0, 0, 0, 0, 0, 0, 0, 0, 0, 0, 0, 0, 0, 0, 0, 0, 0, 0, 0, 0, 0, 0, 0, 0, 0, 0, 0, 0, 0, 0, 0, 0, 0, 0, 0, 0, 0, 0, 0, 0, 0, 0, 0, 0, 0, 0, 0, 0, 0, 0, 0, 0, 0, 0, 0, 0, 0, 0, 0, 0, 0, 0, 0, 0, 0, 0, 0, 0, 0, 0, 0, 0, 0, 0, 0, 0, 0, 0, 0, 0, 0, 0, 0, 0, 0, 0, 0, 0, 0, 0, 0, 0, 0, 0, 0, 0, 0, 0, 0, 0, 0, 0, 0, 0, 0, 0, 0, 0, 0, 0, 0, 0, 0, 0, 0, 0, 0, 0, 0, 0, 0, 0, 0, 0, 0, 0, 0, 0, 0, 0, 0, 0, 0, 0, 0, 0, 0, 0, 0, 0, 0, 0, 0, 0, 0, 0, 0, 0, 0, 0, 0, 0, 0, 0, 0, 0, 0, 0, 0, 0, 0, 0, 0, 0, 0, 0, 0, 0, 0, 0, 0, 0, 0, 0, 0, 0, 0, 0, 0, 0, 0, 0, 0, 0, 0, 0, 0, 0, 0, 0, 0, 0, 0, 0, 0, 0, 0, 0, 0, 0, 0, 0, 0, 0, 0, 0, 0, 0, 0, 0, 0, 0, 0, 0, 0, 0, 0, 0, 0, 0, 0, 0, 0, 0, 0, 0, 0, 0, 0, 0, 0, 0, 0, 0, 0, 0, 0, 0, 0, 0, 0, 0, 0, 0, 0, 0, 0, 0, 0, 0, 0, 0, 0, 0, 0, 0, 0, 0, 0, 0, 0, 2, 0, 1, 0], type: <class 'list'>, valid types: <class 'bytes'>, <class 'bytearray'>, file-like object"
     ]
    }
   ],
   "source": [
    "response = runtime.invoke_endpoint(EndpointName = xgb_predictor.endpoint, # The name of the endpoint we created\n",
    "                                       ContentType = 'text/csv',                     # The data format that is expected\n",
    "                                       Body = test_bow)"
   ]
  },
  {
   "cell_type": "markdown",
   "metadata": {},
   "source": [
    "So why did we get an error?\n",
    "\n",
    "Because we tried to send the endpoint a list of integers but it expected us to send data of type `text/csv`. So, we need to convert it."
   ]
  },
  {
   "cell_type": "code",
   "execution_count": 45,
   "metadata": {},
   "outputs": [],
   "source": [
    "response = runtime.invoke_endpoint(EndpointName = xgb_predictor.endpoint, # The name of the endpoint we created\n",
    "                                       ContentType = 'text/csv',                     # The data format that is expected\n",
    "                                       Body = ','.join([str(val) for val in test_bow]).encode('utf-8'))"
   ]
  },
  {
   "cell_type": "code",
   "execution_count": 46,
   "metadata": {},
   "outputs": [
    {
     "name": "stdout",
     "output_type": "stream",
     "text": [
      "{'ResponseMetadata': {'RequestId': '75ac11cd-1169-455a-9bba-5c94daf89cd9', 'HTTPStatusCode': 200, 'HTTPHeaders': {'x-amzn-requestid': '75ac11cd-1169-455a-9bba-5c94daf89cd9', 'x-amzn-invoked-production-variant': 'AllTraffic', 'date': 'Sat, 25 Jul 2020 21:27:48 GMT', 'content-type': 'text/csv; charset=utf-8', 'content-length': '14'}, 'RetryAttempts': 0}, 'ContentType': 'text/csv; charset=utf-8', 'InvokedProductionVariant': 'AllTraffic', 'Body': <botocore.response.StreamingBody object at 0x7fde22efabe0>}\n"
     ]
    }
   ],
   "source": [
    "print(response)"
   ]
  },
  {
   "cell_type": "markdown",
   "metadata": {},
   "source": [
    "As we can see, the response from our model is a somewhat complicated looking dict that contains a bunch of information. The bit that we are most interested in is `'Body'` object which is a streaming object that we need to `read` in order to make use of."
   ]
  },
  {
   "cell_type": "code",
   "execution_count": 47,
   "metadata": {},
   "outputs": [
    {
     "name": "stdout",
     "output_type": "stream",
     "text": [
      "0.506581187248\n"
     ]
    }
   ],
   "source": [
    "response = response['Body'].read().decode('utf-8')\n",
    "print(response)"
   ]
  },
  {
   "cell_type": "markdown",
   "metadata": {},
   "source": [
    "Now that we know how to process the incoming user data we can start setting up the infrastructure to make our simple web app work. To do this we will make use of two different services. Amazon's Lambda and API Gateway services.\n",
    "\n",
    "Lambda is a service which allows someone to write some relatively simple code and have it executed whenever a chosen trigger occurs. For example, you may want to update a database whenever new data is uploaded to a folder stored on S3.\n",
    "\n",
    "API Gateway is a service that allows you to create HTTP endpoints (url addresses) which are connected to other AWS services. One of the benefits to this is that you get to decide what credentials, if any, are required to access these endpoints.\n",
    "\n",
    "In our case we are going to set up an HTTP endpoint through API Gateway which is open to the public. Then, whenever anyone sends data to our public endpoint we will trigger a Lambda function which will send the input (in our case a review) to our model's endpoint and then return the result."
   ]
  },
  {
   "cell_type": "markdown",
   "metadata": {},
   "source": [
    "### Setting up a Lambda function\n",
    "\n",
    "The first thing we are going to do is set up a Lambda function. This Lambda function will be executed whenever our public API has data sent to it. When it is executed it will receive the data, perform any sort of processing that is required, send the data (the review) to the SageMaker endpoint we've created and then return the result.\n",
    "\n",
    "#### Part A: Create an IAM Role for the Lambda function\n",
    "\n",
    "Since we want the Lambda function to call a SageMaker endpoint, we need to make sure that it has permission to do so. To do this, we will construct a role that we can later give the Lambda function.\n",
    "\n",
    "Using the AWS Console, navigate to the **IAM** page and click on **Roles**. Then, click on **Create role**. Make sure that the **AWS service** is the type of trusted entity selected and choose **Lambda** as the service that will use this role, then click **Next: Permissions**.\n",
    "\n",
    "In the search box type `sagemaker` and select the check box next to the **AmazonSageMakerFullAccess** policy. Then, click on **Next: Review**.\n",
    "\n",
    "Lastly, give this role a name. Make sure you use a name that you will remember later on, for example `LambdaSageMakerRole`. Then, click on **Create role**."
   ]
  },
  {
   "cell_type": "markdown",
   "metadata": {},
   "source": [
    "#### Part B: Create a Lambda function\n",
    "\n",
    "Now it is time to actually create the Lambda function. Remember from earlier that in order to process the user provided input and send it to our endpoint we need to gather two pieces of information:\n",
    "\n",
    " - The name of the endpoint, and\n",
    " - the vocabulary object.\n",
    "\n",
    "We will copy these pieces of information to our Lambda function after we create it.\n",
    "\n",
    "To start, using the AWS Console, navigate to the AWS Lambda page and click on **Create a function**. When you get to the next page, make sure that **Author from scratch** is selected. Now, name your Lambda function, using a name that you will remember later on, for example `sentiment_analysis_xgboost_func`. Make sure that the **Python 3.6** runtime is selected and then choose the role that you created in the previous part. Then, click on **Create Function**.\n",
    "\n",
    "On the next page you will see some information about the Lambda function you've just created. If you scroll down you should see an editor in which you can write the code that will be executed when your Lambda function is triggered. Collecting the code we wrote above to process a single review and adding it to the provided example `lambda_handler` we arrive at the following.\n",
    "\n",
    "```python\n",
    "# We need to use the low-level library to interact with SageMaker since the SageMaker API\n",
    "# is not available natively through Lambda.\n",
    "import boto3\n",
    "\n",
    "# And we need the regular expression library to do some of the data processing\n",
    "import re\n",
    "\n",
    "REPLACE_NO_SPACE = re.compile(\"(\\.)|(\\;)|(\\:)|(\\!)|(\\')|(\\?)|(\\,)|(\\\")|(\\()|(\\))|(\\[)|(\\])\")\n",
    "REPLACE_WITH_SPACE = re.compile(\"(<br\\s*/><br\\s*/>)|(\\-)|(\\/)\")\n",
    "\n",
    "def review_to_words(review):\n",
    "    words = REPLACE_NO_SPACE.sub(\"\", review.lower())\n",
    "    words = REPLACE_WITH_SPACE.sub(\" \", words)\n",
    "    return words\n",
    "    \n",
    "def bow_encoding(words, vocabulary):\n",
    "    bow = [0] * len(vocabulary) # Start by setting the count for each word in the vocabulary to zero.\n",
    "    for word in words.split():  # For each word in the string\n",
    "        if word in vocabulary:  # If the word is one that occurs in the vocabulary, increase its count.\n",
    "            bow[vocabulary[word]] += 1\n",
    "    return bow\n",
    "\n",
    "\n",
    "def lambda_handler(event, context):\n",
    "    \n",
    "    vocab = \"*** ACTUAL VOCABULARY GOES HERE ***\"\n",
    "    \n",
    "    words = review_to_words(event['body'])\n",
    "    bow = bow_encoding(words, vocab)\n",
    "\n",
    "    # The SageMaker runtime is what allows us to invoke the endpoint that we've created.\n",
    "    runtime = boto3.Session().client('sagemaker-runtime')\n",
    "\n",
    "    # Now we use the SageMaker runtime to invoke our endpoint, sending the review we were given\n",
    "    response = runtime.invoke_endpoint(EndpointName = '***ENDPOINT NAME HERE***',# The name of the endpoint we created\n",
    "                                       ContentType = 'text/csv',                 # The data format that is expected\n",
    "                                       Body = ','.join([str(val) for val in bow]).encode('utf-8')) # The actual review\n",
    "\n",
    "    # The response is an HTTP response whose body contains the result of our inference\n",
    "    result = response['Body'].read().decode('utf-8')\n",
    "    \n",
    "    # Round the result so that our web app only gets '1' or '0' as a response.\n",
    "    result = round(float(result))\n",
    "\n",
    "    return {\n",
    "        'statusCode' : 200,\n",
    "        'headers' : { 'Content-Type' : 'text/plain', 'Access-Control-Allow-Origin' : '*' },\n",
    "        'body' : str(result)\n",
    "    }\n",
    "```"
   ]
  },
  {
   "cell_type": "markdown",
   "metadata": {},
   "source": [
    "Once you have copy and pasted the code above into the Lambda code editor, replace the `**ENDPOINT NAME HERE**` portion with the name of the endpoint that we deployed earlier. You can determine the name of the endpoint using the code cell below."
   ]
  },
  {
   "cell_type": "code",
   "execution_count": 48,
   "metadata": {},
   "outputs": [
    {
     "data": {
      "text/plain": [
       "'xgboost-2020-07-25-20-47-08-545'"
      ]
     },
     "execution_count": 48,
     "metadata": {},
     "output_type": "execute_result"
    }
   ],
   "source": [
    "xgb_predictor.endpoint"
   ]
  },
  {
   "cell_type": "markdown",
   "metadata": {},
   "source": [
    "In addition, you will need to copy the vocabulary dict to the appropriate place in the code at the beginning of the `lambda_handler` method. The cell below prints out the vocabulary dict in a way that is easy to copy and paste."
   ]
  },
  {
   "cell_type": "code",
   "execution_count": 49,
   "metadata": {},
   "outputs": [
    {
     "name": "stdout",
     "output_type": "stream",
     "text": [
      "{'too': 4522, 'was': 4805, 'quite': 3495, 'to': 4507, 'see': 3855, 'how': 2181, 'few': 1700, 'people': 3221, 'had': 2003, 'on': 3105, 'this': 4457, 'film': 1716, 'and': 226, 'just': 2437, 'write': 4967, 'something': 4066, 'about': 67, 'it': 2366, 'although': 201, 'my': 2951, 'comments': 901, 'are': 285, 'similar': 3978, 'those': 4460, 'written': 4972, 'already': 197, 'like': 2599, 'many': 2732, 'things': 4451, 'the': 4426, 'superb': 4296, 'acting': 99, 'between': 475, 'way': 4820, 'is': 2360, 'humanity': 2189, 'love': 2669, 'slowly': 4032, 'developing': 1224, 'these': 4441, 'two': 4620, 'pace': 3161, 'of': 3083, 'radio': 3504, 'who': 4871, 'happens': 2029, 'be': 418, 'going': 1931, 'coming': 896, 'from': 1840, 'show': 3953, 'me': 2778, 'very': 4723, 'fine': 1729, 'what': 4858, 'human': 2188, 'maybe': 2776, 'some': 4061, 'you': 4986, 'would': 4957, 'argue': 290, 'that': 4424, 'anti': 254, 'message': 2819, 'clearly': 840, 'delivered': 1170, 'but': 636, 'didnt': 1242, 'destroy': 1213, 'in': 2257, 'any': 256, 'vote': 4766, '10': 0, 'horrible': 2163, 'user': 4696, 'great': 1964, 'truly': 4597, 'wanna': 4786, 'friends': 1837, 'made': 2697, 'jokes': 2415, 'lame': 2510, 'plot': 3309, 'ridiculous': 3693, 'actors': 104, 'obviously': 3072, 'struggling': 4236, 'funny': 1852, 'probably': 3407, 'when': 4862, 'they': 4442, 'hit': 2122, 'awful': 372, 'if': 2222, 'can': 665, 'call': 651, 'them': 4432, 'other': 3135, 'have': 2052, 'commented': 900, 'another': 250, 'planet': 3289, 'or': 3124, 'at': 331, 'least': 2554, 'there': 4438, 'reasons': 3560, 'tv': 4610, 'none': 3028, 'then': 4436, 'shows': 3960, 'doing': 1312, 'well': 4843, 'make': 2713, 'sense': 3877, 'anyway': 261, 'clear': 839, 'even': 1533, 'absolutely': 72, 'nothing': 3047, 'else': 1448, 'stand': 4143, 'rain': 3506, 'instead': 2307, 'more': 2904, 'fun': 1848, 'miike': 2837, 'makes': 2716, 'childrens': 793, 'adventure': 130, 'not': 3040, 'unlike': 4670, 'story': 4207, 'its': 2370, 'actually': 109, 'one': 3107, 'favorite': 1671, 'directors': 1266, 'films': 1721, 'worst': 4952, 'better': 472, 'than': 4420, 'good': 1937, 'though': 4461, 'war': 4792, 'has': 2043, 'lot': 2661, 'thats': 4425, 'worth': 4953, 'as': 311, 'loud': 2664, 'obnoxious': 3067, 'most': 2909, 'american': 213, 'flicks': 1755, 'might': 2835, 'think': 4452, 'kids': 2467, 'themselves': 4435, 'find': 1726, 'dvd': 1391, 'includes': 2263, 'an': 223, 'english': 1483, 'dub': 1378, 'all': 187, 'tend': 4400, 'move': 2921, 'means': 2783, 'youve': 4995, 'got': 1944, 'kind': 2476, 'weird': 4841, 'where': 4864, 'sometimes': 4067, 'theres': 4440, 'action': 100, 'sequence': 3887, 'next': 3007, 'scene': 3809, 'will': 4886, 'drag': 1342, 'forever': 1792, 'characters': 760, 'itself': 2371, 'isnt': 2362, 'either': 1438, 'flaw': 1749, 'ugly': 4625, 'head': 2057, 'liked': 2600, 'came': 656, 'technical': 4381, 'side': 3965, 'expensive': 1579, 'movie': 2926, 'looks': 2649, 'fantastic': 1651, 'japanese': 2382, 'spirits': 4115, 'come': 886, 'different': 1248, 'forms': 1801, 'costume': 1005, 'special': 4097, 'effects': 1431, 'crew': 1053, 'everyone': 1542, 'involved': 2346, 'designs': 1204, 'did': 1241, 'outstanding': 3147, 'job': 2405, 'ive': 2372, 'seen': 3865, '1968': 16, 'supposedly': 4307, 'based': 404, 'monsters': 2893, 'cheesy': 781, 'rubber': 3747, 'suit': 4284, 'been': 438, 'into': 2332, 'believable': 453, 'using': 4698, 'state': 4160, 'art': 304, 'makeup': 2717, 'especially': 1520, 'look': 2646, 'bad': 382, 'guys': 2001, 'girls': 1911, 'case': 707, 'sports': 4130, 'dark': 1115, 'eye': 1611, 'shadow': 3912, 'tight': 4492, 'white': 4870, 'outfit': 3144, 'shes': 3930, 'played': 3297, 'by': 642, 'whom': 4875, 'remember': 3616, 'lucy': 2684, 'teenage': 4389, 'kill': 2468, 'bill': 481, 'hero': 2088, 'provided': 3449, 'voices': 4763, 'for': 1784, 'spirited': 4114, 'away': 369, 'moving': 2928, 'castle': 712, 'saw': 3798, 'festival': 1697, 'audience': 352, 'including': 2264, 'wife': 4884, 'enjoyed': 1486, 'comedy': 890, 'drama': 1346, 'stars': 4155, 'lucas': 2680, 'dog': 1310, 'molly': 2884, 'parker': 3191, 'five': 1743, 'adam': 111, 'scott': 3824, 'first': 1736, 'snow': 4045, 'school': 3813, 'director': 1264, 'matt': 2768, 'whos': 4876, 'married': 2744, 'three': 4469, 'do': 1302, 'marriage': 2743, 'involving': 2349, 'third': 4455, 'takes': 4351, 'place': 3282, 'lake': 2509, 'house': 2178, 'wonderful': 4928, 'wants': 4791, 'treat': 4572, 'subject': 4253, 'thought': 4462, 'needed': 2988, 'around': 297, 'once': 3106, 'again': 146, 'classic': 835, 'with': 4911, 'results': 3662, 'title': 4504, 'false': 1641, 'everything': 1544, 'period': 3236, 'leads': 2548, 'seem': 3861, 'young': 4989, 'criminals': 1058, 'arthur': 305, 'style': 4249, 'humor': 2192, 'point': 3316, 'view': 4736, 'talented': 4355, 'version': 4720, 'exist': 1569, 'still': 4188, 'unnecessary': 4672, 'facts': 1624, 'presented': 3376, 'exciting': 1563, 'innovative': 2295, 'performances': 3229, 'allowed': 190, 'care': 684, 'remake': 3612, 'seems': 3864, 'original': 3129, 'rather': 3528, 'truth': 4599, 'known': 2492, 'bit': 488, 'interesting': 2325, 'skip': 4016, 'hope': 2155, 'could': 1007, 'possibly': 3351, 'worse': 4951, 'only': 3110, 'thing': 4450, 'need': 2987, 'say': 3799, 'musical': 2947, 'number': 3060, 'francis': 1818, 'character': 758, 'wanting': 4790, 'never': 3001, 'terrible': 4407, 'id': 2212, 'free': 1827, 'equally': 1510, 'twice': 4613, 'before': 440, 'ever': 1538, 'seeing': 3857, 'alongside': 196, 'much': 2934, 'which': 4867, 'also': 199, 'his': 2118, 'directorial': 1265, 'contains': 964, 'no': 3020, 'specific': 4099, 'storyline': 4208, 'focuses': 1768, 'body': 527, 'showing': 3958, 'actresses': 106, 'silly': 3976, 'sequences': 3888, 'becoming': 435, 'repetitive': 3633, 'david': 1124, 'done': 1322, 'past': 3207, 'after': 143, 'giving': 1915, 'went': 4847, 'loose': 2650, 'their': 4431, 'him': 2110, 'script': 3834, 'try': 4600, 'us': 4690, 'vehicle': 4718, 'wondering': 4930, 'year': 4978, 'old': 3100, 'spirit': 4113, 'warrior': 4802, 'appeared': 276, 'kitchen': 2485, 'washington': 4806, 'claims': 830, 'she': 3923, 'channel': 753, 'go': 1924, 'speaks': 4096, 'hollywoods': 2138, 'voice': 4761, 'thousands': 4466, 'millions': 2848, 'dollars': 1315, 'performing': 3233, 'crack': 1027, 'her': 2085, 'books': 536, 'clark': 832, 'must': 2950, 'powers': 3361, 'searching': 3842, 'self': 3869, 'otherwise': 3137, 'normal': 3033, 'command': 897, 'spend': 4105, 'hours': 2177, 'cold': 872, 'john': 2409, 'americas': 215, 'finest': 1730, 'roll': 3728, 'eyes': 1613, 'he': 2056, 'recent': 3566, 'theory': 4437, 'does': 1308, 'same': 3778, 'review': 3676, 'recommend': 3571, 'anyone': 259, 'considering': 952, 'watching': 4815, 'read': 3543, '2005': 35, 'noticed': 3049, 'reviewer': 3677, 'here': 2086, 'imdb': 2240, 'take': 4349, 'enough': 1491, 'horse': 2170, 'through': 4477, 'garbage': 1870, 'thinking': 4453, 'may': 2775, '2004': 34, 'fairly': 1631, 'new': 3003, 'uk': 4626, 'brilliant': 583, 'brutal': 603, 'true': 4596, 'know': 2489, 'la': 2500, 'early': 1400, '80s': 59, 'appreciate': 279, 'captured': 677, 'use': 4692, 'elements': 1443, 'up': 4683, 'gritty': 1977, 'cinematic': 818, 'experience': 1580, 'bringing': 586, 'viewer': 4738, 'close': 853, 'being': 448, 'disjointed': 1287, 'pulp': 3465, 'fiction': 1702, 'time': 4495, 'line': 2610, 'allows': 192, 'exploration': 1593, 'concerning': 933, 'really': 3556, 'happened': 2027, 'while': 4868, 'direction': 1261, 'cast': 710, 'attention': 345, 'holmes': 2139, 'oscar': 3133, 'sure': 4308, 'were': 4848, 'out': 3141, 'watched': 4813, 'joy': 2422, 'best': 469, 'timeless': 4496, 'value': 4709, 'get': 1899, 'so': 4046, 'amazing': 209, 'parts': 3199, 'aspect': 321, 'spot': 4131, 'portrayal': 3341, 'perfect': 3224, 'every': 1539, 'detail': 1217, '100': 1, 'genuine': 1891, 'small': 4033, 'irish': 2353, 'covered': 1023, 'low': 2676, 'high': 2100, 'shots': 3950, 'gives': 1914, 'views': 4742, 'daniel': 1111, 'day': 1129, 'performance': 3228, 'incredible': 2269, 'actor': 103, 'watch': 4811, 'closest': 857, 'real': 3547, 'life': 2592, 'havent': 2053, 'should': 3951, 'dont': 1324, 'doubts': 1333, 'along': 195, 'movies': 2927, 'expectations': 1576, 'now': 3054, 'per': 3223, 'pay': 3216, 'tale': 4353, 'lies': 2591, 'sex': 3907, 'want': 4788, 'definitely': 1162, 'hollywood': 2137, 'blockbuster': 509, 'cheap': 774, 'thrills': 4475, 'late': 2523, 'night': 3013, 'local': 2634, 'television': 4394, 'station': 4164, 'sunday': 4293, 'afternoon': 144, 'trying': 4601, 'despite': 1211, 'cliché': 844, 'lines': 2612, 'sub': 4252, 'par': 3184, 'camera': 659, 'work': 4940, 'desire': 1205, 'turn': 4605, 'off': 3084, 'pretend': 3381, 'player': 3298, 'times': 4497, 'your': 4991, 'average': 362, 'horror': 2168, 'cheese': 780, 'face': 1616, 'days': 1130, 'writing': 4971, 'completely': 922, 'hollow': 2135, 'unbelievable': 4634, 'total': 4531, 'lack': 2502, 'count': 1010, 'wish': 4904, 'minutes': 2859, 'wasted': 4809, 'brothers': 599, 'named': 2961, 'whole': 4873, 'unrealistic': 4677, 'slasher': 4020, 'standards': 4145, 'mean': 2779, 'rush': 3759, 'seconds': 3848, 'creepy': 1052, 'guy': 2000, 'left': 2561, 'wake': 4774, 'stock': 4193, 'smoking': 4040, 'british': 589, 'industry': 2280, 'became': 431, 'gangster': 1868, '90s': 61, 'desperate': 1208, 'today': 4508, 'cases': 708, 'producers': 3416, 'quote': 3496, 'century': 736, 'over': 3148, 'rest': 3657, 'sentence': 3881, 'because': 432, 'released': 3603, '2000': 30, 'looking': 2648, 'hard': 2033, 'imagine': 2238, 'briefly': 580, 'considered': 951, 'cool': 989, 'nick': 3012, 'joseph': 2419, 'merely': 2815, 'guarantee': 1987, 'turkey': 4604, 'confused': 941, 'adaptation': 113, 'james': 2378, 'novel': 3052, 'explained': 1587, 'down': 1335, 'possibility': 3349, 'knows': 2493, 'perhaps': 3235, 'simply': 3986, 'matters': 2770, 'businessman': 634, 'set': 3898, 'steven': 4182, 'russian': 3762, 'crime': 1055, 'lord': 2652, 'money': 2888, 'scheme': 3812, 'asks': 319, 'failing': 1627, 'company': 910, 'increasingly': 2268, 'visits': 4756, 'sleeping': 4025, 'secretary': 3850, 'keeps': 2451, 'saying': 3800, 'decent': 1147, 'accent': 78, 'writer': 4968, 'shakespeare': 3915, 'doesnt': 1309, 'hes': 2093, 'judge': 2424, 'comes': 891, 'scripts': 3836, 'convincing': 985, 'allen': 188, 'deep': 1154, 'trouble': 4592, 'standing': 4146, 'filled': 1715, 'accents': 79, 'strange': 4211, 'score': 3822, 'barry': 401, 'music': 2946, 'western': 4853, 'budget': 610, 'fails': 1628, 'ends': 1474, 'curious': 1083, 'almost': 193, 'less': 2575, 'own': 3158, 'sitting': 4007, 'joke': 2414, 'shop': 3945, 'lots': 2662, 'blood': 512, 'gore': 1941, 'tons': 4520, 'jump': 2429, 'scare': 3803, 'moments': 2887, 'scenes': 3811, 'death': 1141, 'elsewhere': 1449, 'quiet': 3492, 'moody': 2899, 'thoughtful': 4463, 'aside': 315, 'favor': 1670, 'feeling': 1685, 'george': 1893, 'kim': 2475, 'son': 4070, 'miles': 2843, 'countryside': 1015, 'long': 2644, 'weekend': 4838, 'vacation': 4704, 'city': 825, 'hits': 2125, 'car': 680, 'hunters': 2200, 'ended': 1470, 'chase': 769, 'particular': 3194, 'hunter': 2199, 'personally': 3243, 'follows': 1775, 'family': 1645, 'home': 2142, 'making': 2718, 'arent': 288, 'letting': 2583, 'discover': 1279, 'holes': 2133, 'walls': 4783, 'return': 3665, 'town': 4541, 'attracted': 349, 'display': 1291, 'man': 2721, 'native': 2972, 'tells': 4397, 'woods': 4935, 'taste': 4369, 'flesh': 1753, 'always': 203, 'figure': 1711, 'haunted': 2050, 'father': 1666, 'shot': 3949, 'creature': 1045, 'barely': 399, 'shock': 3938, 'later': 2525, 'rushed': 3760, 'hospital': 2172, 'dreams': 1355, 'goes': 1930, 'vision': 4754, 'quest': 3486, 'returns': 3668, 'angry': 238, 'eating': 1413, 'god': 1926, 'part': 3193, 'tree': 4576, 'hunting': 2201, 'finally': 1724, 'gone': 1935, 'edge': 1418, 'beautifully': 429, 'totally': 4532, 'silent': 3975, 'wind': 4893, 'trees': 4577, 'okay': 3099, 'monster': 2892, 'tension': 4404, 'frame': 1815, 'eerie': 1427, 'backdrop': 379, 'particularly': 3195, 'jake': 2377, 'sweet': 4336, 'nonsense': 3030, 'happy': 2032, 'couple': 1016, 'share': 3920, 'common': 906, 'problems': 3409, 'strength': 4219, 'relationship': 3597, 'each': 1395, 'powerful': 3360, 'often': 3095, 'someones': 4065, 'videos': 4734, 'realistic': 3550, 'bored': 541, 'waiting': 4772, 'hideous': 2098, 'beast': 422, 'bloody': 513, 'revenge': 3675, 'we': 4823, 'exists': 1573, 'sensitive': 3879, 'child': 789, 'psychological': 3458, 'satisfy': 3790, 'fans': 1650, 'subtle': 4260, 'plays': 3301, 'save': 3794, '90': 60, 'change': 749, 'couples': 1017, 'trip': 4588, 'together': 4511, 'earl': 1398, 'billy': 482, 'bob': 524, 'having': 2054, 'richardson': 3688, 'opinion': 3118, 'herself': 2092, 'intimate': 2331, 'candy': 668, 'friend': 1835, 'roy': 3745, 'patrick': 3213, 'drive': 1363, 'four': 1812, 'stay': 4166, 'baby': 376, 'discovers': 1281, 'pregnant': 3369, 'doctor': 1304, 'finds': 1728, 'admit': 122, 'affair': 135, 'chaos': 755, 'directed': 1259, 'brady': 561, 'impressive': 2253, 'unfortunately': 4654, 'comedic': 888, 'cant': 671, 'lay': 2542, 'blame': 499, 'sitcom': 4004, 'level': 2584, 'theyre': 4445, 'south': 4087, 'naive': 2958, 'idiotic': 2219, 'dollar': 1314, 'called': 652, 'stupid': 4247, 'dumb': 1385, 'throughout': 4478, 'rare': 3523, 'pops': 3332, 'prostitute': 3440, 'worthless': 4954, 'pointless': 3318, 'cameo': 657, 'harvey': 2042, 'executive': 1567, 'person': 3238, 'become': 433, 'obvious': 3071, 'cliche': 843, 'complete': 921, 'waste': 4808, 'paid': 3169, 'viewers': 4739, 'getting': 1901, 'fan': 1648, 'batman': 413, 'cartoons': 705, 'theme': 4433, 'universal': 4665, 'alive': 186, 'ego': 1435, 'mystery': 2956, 'overall': 3150, 'im': 2232, 'disappointed': 1273, 'franchise': 1817, 'identity': 2217, 'easily': 1406, 'credits': 1050, 'website': 4834, 'sort': 4077, 'longer': 2645, '75': 57, 'short': 3946, 'secret': 3849, 'far': 1653, 'becomes': 434, 'win': 4892, 'disappear': 1270, 'animation': 242, 'used': 4693, 'awkward': 374, 'right': 3696, 'bright': 581, 'atmosphere': 333, 'loses': 2657, 'gothic': 1945, 'feel': 1684, 'similarly': 3980, 'gotten': 1947, 'personality': 3242, 'build': 614, 'bruce': 602, 'wayne': 4821, 'fight': 1707, 'typical': 4623, 'fashion': 1659, 'meets': 2795, 'falling': 1639, 'works': 4945, 'against': 147, 'wasnt': 4807, 'drop': 1369, 'bottom': 551, 'entertaining': 1499, 'flick': 1754, 'appeal': 271, 'top': 4525, 'introduce': 2336, 'kick': 2460, 'someone': 4064, 'solve': 4060, 'fill': 1714, 'details': 1219, 'animated': 241, 'forward': 1808, 'able': 66, 'believe': 454, 'fall': 1637, '20': 29, 'years': 4979, 'older': 3101, 'tim': 4494, 'leaves': 2556, 'sick': 3963, 'led': 2558, 'beyond': 476, 'repeated': 3631, 'formula': 1802, 'end': 1468, 'faster': 1662, 'decided': 1149, 'example': 1553, 'sequel': 3885, 'highly': 2105, 'start': 4156, 'weak': 4824, 'added': 116, 'exploitation': 1592, '1970s': 17, 'decade': 1144, 'group': 1980, 'sets': 3899, 'river': 3707, 'bunch': 623, 'pretty': 3384, 'ruin': 3750, 'lives': 2628, 'awesome': 371, 'treated': 4573, 'rape': 3521, 'vicious': 4728, 'killings': 2473, 'broken': 594, 'etc': 1527, 'texas': 4418, 'massacre': 2754, 'happen': 2026, 'ages': 152, '1972': 18, 'ride': 3692, 'packed': 3166, 'full': 1846, 'huge': 2185, 'pile': 3275, '70s': 56, 'arguably': 289, 'sits': 4006, 'cinematography': 820, 'excellent': 1555, 'heck': 2071, 'somebody': 4062, 'stephen': 4176, 'king': 2479, 'mixed': 2877, 'disturbing': 1300, 'cgi': 740, 'problem': 3408, 'feels': 1687, 'lazy': 2543, 'runs': 3757, 'sadly': 3769, 'attractive': 351, 'suppose': 4305, 'touches': 4535, 'feelings': 1686, 'fear': 1676, 'likable': 2598, 'final': 1722, 'conversation': 980, 'ill': 2228, 'mention': 2810, 'titanic': 4503, 'mind': 2849, 'ago': 154, 'moved': 2922, 'tears': 4380, 'embarrassed': 1453, 'expecting': 1578, 'enjoy': 1484, 'surprised': 4313, 'lost': 2660, 'power': 3359, 'cried': 1054, 'places': 3284, 'brought': 600, 'back': 378, 'break': 569, 'popular': 3333, 'public': 3460, 'recall': 3562, 'yes': 4982, 'star': 4150, 'wars': 4804, 'wont': 4932, 'folks': 1771, 'lets': 2580, 'straight': 4210, 'touch': 4533, 'faults': 1669, 'dialogue': 1234, 'falls': 1640, 'flat': 1748, 'surrounding': 4319, 'lovers': 2673, 'little': 2624, 'however': 2183, 'distracting': 1297, 'ruins': 3752, 'kate': 2446, 'leo': 2571, 'generation': 1883, 'wait': 4770, 'york': 4985, 'boy': 557, 'strong': 4229, 'held': 2074, 'cameron': 661, 'managed': 2723, 'believed': 455, 'impossible': 2249, 'horrific': 2166, 'utterly': 4702, 'memorable': 2802, 'leaving': 2557, 'rose': 3739, 'jack': 2373, 'flying': 1764, 'ahead': 159, 'hanging': 2023, 'unbelievably': 4635, 'ocean': 3079, 'screams': 3828, 'doomed': 1327, 'ending': 1471, 'theater': 4427, 'victim': 4729, 'success': 4265, 'key': 2458, 'beautiful': 428, 'tragic': 4552, 'pop': 3330, 'song': 4071, 'am': 204, 'buff': 611, 'such': 4268, 'opportunity': 3121, 'ship': 3934, 'beauty': 430, 'sink': 3999, 'affected': 137, 'interest': 2323, 'doubt': 1332, 'crying': 1074, 'buffs': 612, 'masses': 2755, 'tragedy': 4551, 'said': 3774, 'open': 3112, 'hearts': 2066, 'dragon': 1344, 'fighter': 1708, 'sci': 3815, 'fi': 1701, 'guess': 1989, 'others': 3136, 'since': 3990, 'tell': 4395, 'poorly': 3329, 'unexpected': 4650, 'put': 3480, 'spoiler': 4123, 'plus': 3311, 'tune': 4602, 'single': 3996, 'dangerous': 1110, 'heard': 2062, 'somewhere': 4069, 'avoid': 363, 'talking': 4360, 'imaginative': 2237, 'idea': 2213, 'paulie': 3215, 'turns': 4609, 'simple': 3983, 'delight': 1167, 'manages': 2725, 'bridge': 578, 'sentimental': 3882, 'trash': 4565, 'cruel': 1070, 'during': 1387, 'marie': 2737, 'events': 1536, 'lead': 2545, 'satisfying': 3791, 'emotional': 1459, 'conclusion': 936, 'animal': 239, 'training': 4558, 'flies': 1756, 'received': 3564, 'highlight': 2103, 'saving': 3797, 'private': 3404, 'ryan': 3765, 'hour': 2176, 'half': 2007, 'surely': 4309, 'enjoyable': 1485, 'sad': 3767, 'moment': 2886, 'united': 4664, 'owner': 3159, 'following': 1774, 'learning': 2552, 'friendship': 1838, 'grim': 1974, 'missed': 2867, 'heart': 2064, 'emotion': 1458, 'blows': 517, 'sorry': 4076, 'last': 2521, 'summer': 4291, 'scream': 3826, 'several': 3905, 'spring': 4134, 'fancy': 1649, 'tries': 4585, 'deaths': 1142, 'begin': 442, 'murdered': 2940, 'leading': 2547, 'trite': 4589, 'climax': 849, 'predictable': 3367, 'note': 3044, 'poor': 3328, 'mans': 2730, 'acts': 107, 'pass': 3201, 'police': 3322, 'fair': 1630, 'dialog': 1232, 'kurt': 2499, 'act': 97, 'without': 4913, 'speaking': 4095, 'speak': 4094, 'actions': 101, 'decides': 1150, 'settings': 3901, 'soldiers': 4054, 'corny': 997, 'che': 773, 'citizen': 824, 'cuba': 1075, 'live': 2625, 'assumed': 329, 'whilst': 4869, 'living': 2629, 'government': 1948, 'pacing': 3163, 'del': 1165, 'suffice': 4279, 'both': 547, 'window': 4894, 'screening': 3830, 'talk': 4358, 'rating': 3529, 'language': 2516, 'violence': 4747, 'hopes': 2159, 'thin': 4449, 'hold': 2129, 'realized': 3553, 'indeed': 2271, 'dream': 1354, 'felt': 1692, 'cheated': 775, 'device': 1227, 'bring': 585, 'deeper': 1155, 'meaningful': 2781, 'buy': 640, 'large': 2517, 'drink': 1361, 'youll': 4988, 'running': 3756, 'room': 3735, 'ah': 158, 'warning': 4800, 'reveal': 3670, 'annie': 247, 'hall': 2009, 'gets': 1900, 'hugh': 2186, 'naked': 2959, 'chest': 784, 'woody': 4936, 'women': 4923, 'ability': 65, 'promising': 3433, 'ghost': 1902, 'ian': 2209, 'directs': 1267, 'headed': 2058, 'student': 4238, 'investigate': 2342, 'whether': 4866, 'notorious': 3051, 'card': 681, 'killer': 2470, 'helps': 2082, 'girl': 1909, 'lacks': 2505, 'charm': 767, 'amazingly': 210, 'amateurish': 207, 'effort': 1432, 'previous': 3387, 'dozens': 1339, 'press': 3379, 'fact': 1621, 'younger': 4990, 'male': 2719, 'constructed': 959, 'reason': 3557, 'central': 735, 'drunk': 1375, 'gotta': 1946, 'bears': 421, 'relation': 3595, 'whatsoever': 4861, 'why': 4878, 'add': 115, 'female': 1693, 'cake': 648, 'eat': 1411, 'yet': 4984, 'actress': 105, 'screen': 3829, 'except': 1556, 'wearing': 4831, 'cut': 1089, 'help': 2079, 'scripted': 3835, 'doll': 1313, 'elderly': 1440, 'awe': 370, 'inspiring': 2302, 'telling': 4396, 'age': 148, 'across': 96, 'presence': 3373, 'members': 2801, 'obsessed': 3069, 'breasts': 572, 'deserve': 1199, 'deserves': 1201, 'heroine': 2091, 'intelligence': 2313, 'convey': 982, 'qualities': 3483, 'apparently': 270, 'shame': 3918, 'shown': 3959, 'productions': 3420, 'men': 2805, 'heres': 2087, 'big': 478, 'twist': 4617, 'charming': 768, 'says': 3801, 'nice': 3008, 'grasp': 1960, 'killing': 2472, 'alone': 194, 'member': 2800, 'laughed': 2532, 'sign': 3970, 'sam': 3777, 'glorious': 1921, 'peter': 3247, 'falk': 1636, 'paul': 3214, 'thrown': 4481, 'elizabeth': 1445, 'youd': 4987, 'hardly': 2036, 'under': 4639, 'impression': 2252, 'giant': 1905, 'needs': 2990, 'appropriate': 283, 'took': 4523, 'hire': 2116, 'background': 380, 'until': 4680, '15': 7, 'road': 3709, 'cute': 1090, 'precious': 3366, 'oh': 3096, 'insight': 2298, 'wrong': 4973, 'instance': 2304, 'restaurant': 3658, 'hoped': 2156, 'laughably': 2531, '25': 40, 'told': 4513, 'found': 1811, 'myself': 2953, 'holding': 2130, 'breath': 573, 'sound': 4081, 'available': 361, 'waters': 4817, 'struck': 4232, 'repeatedly': 3632, 'heavy': 2070, 'object': 3066, 'result': 3660, 'shed': 3924, 'mildly': 2840, 'constant': 957, 'screaming': 3827, 'susan': 4326, 'incredibly': 2270, 'annoying': 249, 'terry': 4415, 'west': 4852, 'elvis': 1451, 'whatever': 4859, 'front': 1841, 'forget': 1793, 'entire': 1502, 'absolute': 71, 'rubbish': 3748, 'reminded': 3619, 'spite': 4117, 'earlier': 1399, 'currently': 1085, 'weeks': 4839, 'grand': 1953, 'store': 4204, 'among': 217, 'plastic': 3294, 'bucks': 606, 'super': 4295, 'swedish': 4335, 'limited': 2606, 'edition': 1422, 'al': 170, 'pacino': 3164, 'play': 3296, 'discovered': 1280, 'reading': 3544, 'reviews': 3679, 'deeply': 1156, 'revolution': 3680, 'extremely': 1610, 'unpleasant': 4674, 'filmmakers': 1720, 'mentally': 2809, 'retarded': 3663, 'possible': 3350, 'explanation': 1590, 'sucks': 4271, 'compared': 912, 'deliberately': 1166, 'illogical': 2231, 'decision': 1151, 'suck': 4269, 'donald': 1321, 'sutherland': 4333, 'fat': 1663, 'normally': 3034, 'robert': 3713, 'de': 1131, 'hell': 2077, 'give': 1912, 'mr': 2929, 'ass': 323, 'stupidity': 4248, 'ned': 2986, 'six': 4010, 'months': 2897, 'appears': 278, 'course': 1019, 'playing': 3300, 'sudden': 4272, 'weve': 4856, 'idiots': 2220, 'kid': 2464, 'grow': 1982, 'grows': 1985, 'furthermore': 1854, 'matter': 2769, 'confusing': 942, 'die': 1243, 'filming': 1718, 'role': 3726, 're': 3535, 'shoot': 3942, 'finish': 1732, 'release': 3602, 'anybody': 257, 'succeed': 4262, 'shouldnt': 3952, 'badly': 383, 'rachel': 3500, 'lighting': 2596, 'non': 3027, 'existent': 1572, 'commit': 904, 'suicide': 4283, 'biggest': 480, 'regret': 3591, 'unfunny': 4655, 'picture': 3269, 'sellers': 3872, 'career': 686, 'pity': 3281, 'world': 4946, 'remembered': 3617, 'usual': 4699, 'suspects': 4328, 'trick': 4582, 'pulled': 3462, 'convince': 983, 'pieces': 3273, 'starts': 4159, 'smart': 4035, 'premise': 3370, 'alas': 172, 'destruction': 1216, 'blow': 514, 'cuts': 1091, 'explain': 1586, 'brain': 562, 'capable': 672, 'explaining': 1588, 'existence': 1571, 'plausible': 3295, 'degree': 1164, 'dozen': 1338, 'ways': 4822, 'chess': 783, 'himself': 2111, 'criminal': 1057, 'enemies': 1476, 'painful': 3171, 'terribly': 4408, 'apart': 264, 'blunt': 520, 'rip': 3700, 'club': 863, 'dealing': 1136, 'blatant': 502, 'robbery': 3711, 'ultimately': 4628, 'speed': 4103, 'attraction': 350, 'twists': 4619, 'drinking': 1362, 'anywhere': 263, 'paper': 3183, 'lynch': 2691, 'ones': 3108, 'seek': 3858, 'professional': 3421, 'gem': 1877, 'contrived': 976, 'piece': 3272, 'food': 1778, 'pseudo': 3454, 'spare': 4093, 'soul': 4079, 'stomach': 4196, 'cost': 1003, 'wide': 4880, 'variety': 4714, 'walked': 4776, 'prepared': 3371, 'happily': 2030, 'couldnt': 1008, 'granted': 1957, 'performer': 3231, 'form': 1798, 'credible': 1048, '70': 55, 'judging': 2425, 'laughter': 2535, 'liners': 2611, 'landscape': 2513, 'fare': 1655, 'source': 4086, 'inspiration': 2300, 'personal': 3240, 'path': 3209, 'lovely': 2671, 'legs': 2566, 'second': 3846, 'ellen': 1446, 'status': 4165, 'major': 2711, 'ms': 2931, 'chance': 747, 'opening': 3114, 'scottish': 3825, 'thru': 4483, 'dull': 1384, 'handed': 2016, 'sloppy': 4030, 'mistaken': 2872, 'exception': 1557, 'producer': 3415, 'bobby': 525, 'forgettable': 1794, 'choreography': 802, 'boring': 543, 'famous': 1647, 'sing': 3992, 'dancing': 1107, 'pictures': 3270, 'dance': 1103, 'shine': 3931, 'wonderfully': 4929, 'acted': 98, 'ring': 3698, 'consistent': 953, 'appreciated': 280, 'absence': 70, 'dr': 1340, 'let': 2579, 'reminiscent': 3621, 'effective': 1429, 'studios': 4241, 'name': 2960, 'clever': 841, 'jane': 2380, 'besides': 468, 'feature': 1678, 'length': 2569, 'achieved': 93, 'mini': 2854, 'series': 3890, 'paltrow': 3178, 'captures': 678, 'slightly': 4029, 'rich': 3685, 'jeremy': 2394, 'spoiled': 4122, 'included': 2262, 'werent': 4849, 'book': 535, 'von': 4765, 'given': 1913, 'element': 1442, 'breaking': 570, 'waves': 4819, 'dancer': 1104, 'calling': 653, 'working': 4944, 'agree': 155, 'cannot': 670, 'arrogant': 303, '50': 51, 'looked': 2647, 'upon': 4684, 'pre': 3365, 'artist': 307, 'europe': 1529, 'classes': 834, 'taught': 4370, 'bergman': 466, 'our': 3139, 'critics': 1064, 'intrigued': 2334, 'notice': 3048, 'narrative': 2966, 'meant': 2784, 'represent': 3637, 'nightmare': 3014, 'max': 2774, 'narration': 2965, 'towards': 4540, 'concerns': 934, 'anything': 260, 'proper': 3436, 'hopefully': 2157, 'theatrical': 4430, 'begins': 444, 'fisher': 1739, 'european': 1530, 'detective': 1220, 'root': 3737, 'mental': 2808, 'words': 4938, 'fantasy': 1652, 'keep': 2449, 'track': 4544, 'whenever': 4863, 'narrator': 2967, 'laughs': 2534, 'understand': 4643, 'difference': 1246, 'evil': 1548, 'sorts': 4078, 'within': 4912, 'ourselves': 3140, 'likely': 2601, 'train': 4556, 'consider': 949, 'discuss': 1283, 'masterpiece': 2759, 'logic': 2638, 'land': 2511, 'displays': 1293, 'visual': 4757, 'rocky': 3723, 'mountains': 2918, 'montana': 2895, 'thomas': 4458, 'albert': 174, 'word': 4937, 'text': 4419, 'author': 359, 'norman': 3035, 'stunning': 4244, 'kiss': 2483, 'tom': 4514, 'whose': 4877, 'methods': 2825, 'education': 1424, 'include': 2261, 'fly': 1763, 'bible': 477, 'brenda': 575, 'mother': 2911, 'sons': 4073, 'craig': 1030, 'brad': 560, 'pitt': 3280, 'create': 1036, 'reflect': 3584, 'encounter': 1466, 'growing': 1983, 'complex': 923, 'tie': 4488, 'relationships': 3598, 'outside': 3146, 'storytelling': 4209, 'missing': 2869, 'produced': 3414, 'spoken': 4126, 'hear': 2061, 'unforgettable': 4652, 'setting': 3900, 'equal': 1509, 'material': 2766, 'odd': 3080, 'center': 732, 'implausible': 2245, 'hands': 2020, 'caught': 722, 'test': 4416, 'julia': 2427, 'roberts': 3714, 'locations': 2636, 'mail': 2706, 'clean': 838, 'loved': 2670, 'definite': 1161, 'thrilling': 4474, 'created': 1037, 'basic': 406, 'instinct': 2308, 'stones': 4198, 'jail': 2376, 'date': 1118, 'alert': 178, 'progresses': 3426, 'crazy': 1035, 'risk': 3704, 'cop': 991, 'order': 3126, 'occurs': 3078, '2001': 31, 'space': 4090, 'cares': 690, 'blonde': 511, 'whats': 4860, 'important': 2247, 'complicated': 925, 'thinks': 4454, 'reality': 3551, 'ok': 3098, 'knew': 2486, 'below': 462, 'laugh': 2529, 'beings': 449, 'toy': 4542, 'random': 3514, 'lesbian': 2573, 'fighting': 1709, 'sheer': 3925, 'porn': 3336, 'abc': 63, 'main': 2707, 'names': 2963, 'huh': 2187, 'driving': 1368, 'mostly': 2910, 'driver': 1366, 'tired': 4501, 'stopped': 4202, 'pull': 3461, 'perform': 3227, 'section': 3853, 'video': 4733, 'unless': 4669, 'youre': 4992, 'mainstream': 2709, 'hate': 2046, 'rented': 3628, 'rent': 3626, 'bought': 552, 'burning': 627, 'comment': 898, 'tied': 4489, 'altogether': 202, 'cutting': 1092, 'floor': 1759, 'mouth': 2920, 'offended': 3085, 'leave': 2555, 'hatred': 2049, 'groups': 1981, 'mall': 2720, 'near': 2979, 'werewolf': 4850, 'paris': 3189, 'boyfriend': 558, 'mad': 2696, 'wouldnt': 4958, 'lived': 2626, 'moore': 2901, 'grew': 1972, 'stories': 4205, 'parents': 3188, 'beginning': 443, 'street': 4216, 'mine': 2853, 'excited': 1561, 'rock': 3720, 'image': 2233, 'frequently': 1832, 'area': 286, 'intelligent': 2314, 'listen': 2619, 'wounded': 4961, 'foot': 1781, 'learn': 2550, 'environment': 1505, 'embarrassment': 1455, 'unable': 4631, 'desperately': 1209, 'receive': 3563, 'further': 1853, 'attempting': 342, 'defense': 1159, 'tried': 4584, 'brother': 598, 'locked': 2637, 'killed': 2469, 'peace': 3219, 'cinderella': 815, 'adults': 126, 'romance': 3732, 'till': 4493, 'kapoor': 2443, 'majority': 2712, 'beat': 423, 'defined': 1160, 'understandable': 4644, 'motives': 2916, 'black': 493, 'photography': 3260, 'fitting': 1742, 'soundtrack': 4085, 'design': 1202, 'engaging': 1481, 'prime': 3395, 'quality': 3484, 'pride': 3391, 'mark': 2739, 'reach': 3536, 'barbara': 397, 'stanwyck': 4149, 'easy': 1410, 'melodramatic': 2798, 'hysterical': 2208, 'lady': 2507, 'bette': 471, 'davis': 1126, 'joan': 2404, 'tough': 4537, 'fits': 1741, 'everybody': 1540, 'dramatic': 1348, 'content': 966, 'youth': 4994, 'alfred': 181, 'creates': 1038, 'america': 212, 'certain': 737, 'zombie': 4997, 'blown': 516, 'epic': 1506, 'transfer': 4559, 'bay': 416, 'stands': 4147, 'sounded': 4082, 'adds': 119, 'enjoyment': 1488, 'zombies': 4998, 'womans': 4922, 'burned': 626, 'burn': 625, 'hardcore': 2034, 'italian': 2367, 'horrendous': 2162, 'entirely': 1503, 'realize': 3552, 'dubbing': 1380, 'genius': 1887, 'highest': 2102, 'terrific': 4409, 'cult': 1077, 'thumbs': 4485, 'nose': 3037, 'traditional': 4550, 'keaton': 2448, 'finding': 1727, 'hang': 2022, 'race': 3499, 'hilarious': 2106, 'shorts': 3948, 'sneak': 4043, 'preview': 3386, 'manager': 2724, 'record': 3573, 'fake': 1635, 'directing': 1260, 'documentary': 1307, 'junk': 2436, 'wwii': 4975, 'learned': 2551, 'interviews': 2330, 'individuals': 2278, 'relatively': 3600, 'fresh': 1833, 'minds': 2852, 'upper': 4685, 'happening': 2028, 'sir': 4000, 'oliver': 3102, 'complaint': 920, 'accurate': 90, 'information': 2288, 'soviet': 4089, 'union': 4661, 'exaggerated': 1552, 'plain': 3286, 'fascinating': 1658, 'serious': 3891, 'alike': 185, 'portrait': 3339, 'victor': 4731, 'winning': 4898, 'leader': 2546, 'fights': 1710, 'mob': 2879, 'focusing': 1769, 'desperation': 1210, 'future': 1856, 'fate': 1665, 'ford': 1789, 'superbly': 4297, 'tense': 4403, 'depiction': 1185, 'winner': 4897, 'screenplay': 3831, 'nominated': 3025, 'fast': 1661, 'inane': 2258, 'finished': 1733, 'artists': 309, 'interested': 2324, 'revolutionary': 3681, 'hated': 2047, 'french': 1830, 'teachers': 4376, 'eventually': 1537, 'juvenile': 2441, 'ought': 3138, 'conversations': 981, 'apparent': 269, 'situations': 4009, 'follow': 1772, 'structure': 4233, 'certainly': 738, 'drawn': 1351, 'amount': 219, 'significant': 3972, 'clip': 851, 'country': 1014, 'lasted': 2522, 'thirty': 4456, 'meaning': 2780, 'useful': 4694, 'sit': 4003, 'taking': 4352, 'teach': 4374, 'lesson': 2577, 'unique': 4662, 'decisions': 1152, 'rarely': 3524, 'witnessed': 4915, 'gratuitous': 1961, 'talent': 4354, 'hopeless': 2158, 'promise': 3430, 'initially': 2291, 'red': 3576, 'jr': 2423, 'roles': 3727, 'nowhere': 3056, 'occasional': 3074, 'filmed': 1717, 'coffee': 870, 'merit': 2816, 'commentary': 899, 'generally': 1881, 'disaster': 1276, 'produce': 3413, 'endless': 1473, 'prove': 3445, 'boxing': 556, 'impressed': 2251, 'negative': 2991, 'alright': 198, 'diana': 1237, 'dan': 1102, 'describe': 1194, 'satire': 3788, 'featuring': 1681, 'ben': 463, 'remarkable': 3613, 'cusack': 1088, 'entertained': 1498, 'political': 3324, 'painfully': 3172, 'military': 2844, 'business': 633, 'plots': 3310, 'somewhat': 4068, 'worthwhile': 4955, 'understood': 4647, 'lately': 2524, 'react': 3540, 'chain': 741, 'flow': 1762, 'minute': 2858, 'pure': 3471, 'magic': 2703, 'reminds': 3620, 'independent': 2272, 'bugs': 613, 'images': 2235, 'island': 2361, 'painting': 3175, 'chapter': 757, '18': 10, 'park': 3190, 'iran': 2350, 'banned': 395, 'june': 2433, 'national': 2970, 'soccer': 4048, 'team': 4378, 'game': 1864, 'cup': 1080, 'boys': 559, 'attempts': 343, 'enter': 1494, 'arrested': 298, 'beach': 419, 'greatest': 1966, 'therefore': 4439, 'passion': 3205, 'mirror': 2861, 'circle': 821, 'germany': 1898, 'delightful': 1168, 'nine': 3017, 'brazil': 568, 'reference': 3582, 'episodes': 1508, 'neither': 2996, 'nor': 3032, 'successfully': 4267, 'represents': 3639, 'humble': 2191, 'wonder': 4926, 'brief': 579, 'brian': 576, 'florida': 1761, 'girlfriend': 1910, 'resident': 3647, 'wood': 4933, 'harris': 2038, 'helped': 2080, 'creative': 1041, 'protect': 3443, 'possibilities': 3348, 'cross': 1066, 'dressing': 1359, 'heights': 2073, 'sharp': 3922, 'statement': 4162, 'pain': 3170, 'inevitably': 2283, 'ultimate': 4627, 'disappointment': 1275, 'stylish': 4251, 'daughter': 1121, 'terms': 4406, 'tongue': 4518, 'tedious': 4387, 'fully': 1847, 'engage': 1479, 'solid': 4057, 'expect': 1575, 'spanish': 4092, 'cinema': 816, 'murder': 2939, 'modern': 2882, 'gay': 1876, 'sounds': 4084, 'vague': 4705, 'shy': 3962, 'explicit': 1591, 'protagonist': 3441, 'moves': 2925, 'theatre': 4429, 'stayed': 4167, 'honestly': 2147, 'blacks': 494, 'devil': 1228, 'slow': 4031, 'development': 1225, 'civil': 826, 'turned': 4606, 'strangely': 4212, 'mood': 2898, 'history': 2121, 'greatly': 1967, 'occasionally': 3075, 'references': 3583, 'battles': 415, 'cry': 1073, 'trail': 4553, 'minor': 2857, 'occur': 3076, 'band': 391, 'actual': 108, 'attack': 337, 'battle': 414, 'executed': 1565, 'recently': 3567, 'lee': 2559, 'lawrence': 2539, 'army': 295, 'trio': 4587, 'stop': 4201, 'continues': 971, 'areas': 287, 'glory': 1922, 'basically': 407, 'context': 968, 'represented': 3638, 'larger': 2519, 'curiosity': 1082, 'african': 142, 'arms': 294, 'slave': 4022, 'suspect': 4327, 'rebel': 3561, 'americans': 214, 'raised': 3508, 'murderer': 2941, 'jim': 2402, 'lane': 2515, 'mass': 2753, 'fame': 1642, 'troops': 4591, 'critical': 1062, 'historical': 2119, 'errors': 1516, 'supposed': 4306, 'points': 3319, 'liking': 2604, 'spoilers': 4124, 'casting': 711, 'nicholson': 3011, 'picked': 3266, 'wendy': 4846, 'danny': 1112, 'changed': 750, 'handled': 2019, 'animals': 240, 'died': 1244, 'overlook': 3153, 'messed': 2821, 'horribly': 2164, 'wanted': 4789, 'angels': 234, 'scared': 3805, 'contract': 973, 'stanley': 4148, 'taken': 4350, 'rights': 3697, 'spoof': 4127, 'michael': 2829, 'ball': 388, 'talks': 4361, 'da': 1094, 'joe': 2407, 'alan': 171, 'ray': 3533, 'gangsters': 1869, 'funnier': 1850, 'mafia': 2700, 'underground': 4640, 'inept': 2281, 'melodrama': 2797, 'era': 1513, 'lousy': 2667, 'editing': 1421, 'forth': 1804, 'reaction': 3541, '50s': 52, 'started': 4157, 'accompanied': 86, 'romantic': 3733, 'randomly': 3515, 'strikes': 4225, 'match': 2762, 'sally': 3776, 'escape': 1517, 'committed': 905, 'literally': 2622, 'accidentally': 85, 'bath': 411, 'promised': 3431, 'tag': 4348, 'consists': 955, 'regarding': 3589, 'issues': 2365, 'cheating': 776, 'nudity': 3059, 'appear': 273, 'connection': 946, 'proves': 3447, 'centered': 733, 'fallen': 1638, 'hoping': 2160, 'technique': 4383, 'focused': 1767, 'planning': 3291, 'amateur': 206, 'claim': 828, 'standard': 4144, 'yourself': 4993, 'college': 875, 'realizing': 3555, 'damn': 1100, 'practically': 3362, 'fest': 1696, 'concerned': 932, 'expected': 1577, 'robin': 3715, 'viewed': 4737, 'shocked': 3939, 'nurse': 3063, 'photographed': 3258, 'guessed': 1990, 'million': 2847, 'pushing': 3479, 'aka': 168, 'spends': 4107, 'enormous': 1490, 'amounts': 220, 'doctors': 1305, 'basement': 405, 'neighborhood': 2993, 'general': 1880, 'uncle': 4636, 'nude': 3058, 'concept': 930, 'behind': 447, 'masters': 2761, 'direct': 1258, 'shooting': 3943, 'artistic': 308, 'financial': 1725, 'compare': 911, 'tales': 4357, 'comparison': 914, 'according': 88, 'episode': 1507, 'ideas': 2215, 'chances': 748, 'spent': 4108, 'whereas': 4865, 'unknown': 4668, 'cameras': 660, 'chosen': 805, 'fox': 1814, 'kirk': 2482, 'douglas': 1334, 'range': 3516, 'dean': 1139, 'writers': 4969, 'horrors': 2169, 'approach': 282, 'above': 68, 'serial': 3889, 'usually': 4700, 'angela': 232, 'base': 402, 'remains': 3611, 'starting': 4158, 'stan': 4142, 'dick': 1239, 'william': 4887, 'eric': 1514, 'gordon': 1940, 'russell': 3761, 'dead': 1132, 'garden': 1872, 'psychotic': 3459, 'various': 4715, 'term': 4405, 'loosely': 2651, 'university': 4667, 'closed': 854, 'dreadful': 1353, 'debut': 1143, 'corpse': 999, 'matthew': 2772, 'murders': 2943, 'baseball': 403, 'bat': 410, 'gruesome': 1986, 'surprise': 4312, 'christopher': 811, 'slight': 4027, 'incompetent': 2266, 'jeffrey': 2391, 'steve': 4181, 'carpenter': 694, 'abysmal': 76, 'deal': 1135, 'grade': 1951, 'france': 1816, 'situation': 4008, 'nations': 2971, 'un': 4630, 'forces': 1788, 'ten': 4399, 'gave': 1875, 'jungle': 2434, 'global': 1920, 'wit': 4908, 'guide': 1993, 'entry': 1504, 'nation': 2969, 'charge': 761, 'puts': 3481, 'corrupt': 1001, 'le': 2544, 'type': 4621, 'classics': 837, 'achievement': 94, 'indian': 2274, 'visually': 4758, 'overwhelming': 3157, 'emotionally': 1460, 'breathtaking': 574, 'songs': 4072, 'costumes': 1006, 'worthy': 4956, 'hand': 2015, 'walk': 4775, 'facing': 1620, 'victoria': 4732, 'struggles': 4235, 'needless': 2989, 'viewing': 4740, 'previously': 3388, 'emily': 1456, 'wears': 4832, 'transition': 4561, 'meet': 2793, 'queen': 3485, 'perfectly': 3226, 'sides': 3967, 'vulnerable': 4768, 'mistakes': 2873, 'control': 977, 'husband': 2204, 'prince': 3396, 'chemistry': 782, 'portrayed': 3342, 'charles': 764, 'impact': 2244, 'aspects': 322, 'middle': 2833, 'aged': 149, 'princess': 3397, 'exceptionally': 1559, 'run': 3755, 'lose': 2654, 'turning': 4608, 'crafted': 1029, 'appreciation': 281, 'woman': 4921, 'anime': 243, 'science': 3816, 'ratings': 3530, 'adult': 125, 'swim': 4337, 'cartoon': 704, 'network': 3000, 'frankly': 1823, 'dvds': 1392, 'internet': 2327, 'dubbed': 1379, 'children': 792, 'features': 1680, 'express': 1600, 'technology': 4385, 'robot': 3717, 'wishes': 4906, 'brutally': 604, 'humans': 2190, 'adventures': 131, 'workers': 4943, 'resembles': 3646, 'deceased': 1146, 'stops': 4203, 'captain': 674, 'starred': 4153, 'universe': 4666, 'jerry': 2396, 'lewis': 2586, 'sidney': 3968, 'size': 4012, 'kingdom': 2480, 'society': 4050, 'crisis': 1060, 'capital': 673, 'clothing': 861, 'kinds': 2478, 'foreign': 1790, 'chasing': 772, 'orson': 3132, 'welles': 4844, 'stranger': 4213, 'potentially': 3356, 'described': 1195, 'mentioned': 2811, 'saturday': 3792, 'fever': 1699, '1930s': 11, 'field': 1704, 'wall': 4781, '12': 3, 'president': 3378, 'newly': 3004, 'mexico': 2827, 'gold': 1932, 'san': 3780, 'steal': 4170, 'don': 1320, 'aid': 160, 'francisco': 1819, 'reed': 3580, 'arrives': 302, 'sister': 4001, 'soon': 4074, 'league': 2549, 'chief': 788, 'justice': 2438, 'hair': 2005, 'raising': 3509, 'escapes': 1519, 'present': 3374, 'safety': 3772, 'explosions': 1597, 'cliff': 847, 'stunt': 4245, 'legendary': 2565, 'performs': 3234, 'jumping': 2431, 'horses': 2171, 'beneath': 464, 'coach': 868, 'valley': 4707, 'riding': 3695, 'charlie': 765, 'hence': 2083, 'closely': 855, 'bits': 490, 'lone': 2642, 'tarzan': 4367, 'golden': 1934, 'creator': 1043, 'edgar': 1417, 'thoroughly': 4459, 'twin': 4615, 'laura': 2536, 'ashley': 313, 'twins': 4616, 'abusive': 75, 'directions': 1262, 'excuse': 1564, 'kept': 2456, 'resolution': 3649, 'location': 2635, 'hills': 2109, 'hurt': 2202, 'shining': 3933, 'social': 4049, 'class': 833, 'cause': 723, 'surprisingly': 4316, 'extra': 1606, 'pair': 3176, 'pants': 3182, 'table': 4346, 'nervous': 2999, 'catch': 714, 'brave': 567, 'jumped': 2430, 'compelling': 916, 'simplicity': 3984, 'button': 639, 'cabin': 643, 'darkness': 1117, 'surprising': 4315, 'multi': 2935, 'production': 3419, 'system': 4345, 'won': 4925, 'lights': 2597, 'position': 3345, 'heroes': 2089, 'villains': 4745, 'cover': 1022, 'sucked': 4270, 'scary': 3807, 'news': 3005, 'ask': 316, 'yeah': 4977, 'possessed': 3347, 'kills': 2474, 'losers': 2656, 'bus': 631, 'disagree': 1269, 'hong': 2149, 'kong': 2494, '1990s': 25, 'mask': 2752, 'week': 4837, 'copy': 994, 'raw': 3532, 'energy': 1478, 'stick': 4185, 'guns': 1998, 'bourne': 554, 'mission': 2870, 'achieve': 92, 'makers': 2715, 'edited': 1420, 'afraid': 140, 'lessons': 2578, 'notch': 3043, 'jessica': 2398, 'amazed': 208, 'rob': 3710, 'honor': 2150, 'versus': 4722, 'corruption': 1002, 'scenery': 3810, 'striking': 4226, 'repeat': 3630, 'obscure': 3068, 'worked': 4941, 'brooklyn': 595, 'relatives': 3601, 'grandmother': 1955, 'bizarre': 492, 'thankfully': 4422, 'suggest': 4280, 'thousand': 4465, 'touched': 4534, 'core': 995, 'purpose': 3474, 'tender': 4401, 'filmmaker': 1719, 'noir': 3023, 'supporting': 4304, 'convoluted': 987, 'latter': 2528, 'harry': 2039, 'co': 867, 'gorgeous': 1942, 'mike': 2838, 'worker': 4942, 'mrs': 2930, 'kane': 2442, 'glenn': 1918, 'agrees': 157, 'journey': 2421, 'unfolds': 4651, 'pleasant': 3302, 'dare': 1113, 'studio': 4240, 'creating': 1039, 'elegant': 1441, 'shadows': 3913, 'focus': 1766, 'angles': 237, 'checking': 778, 'viewings': 4741, 'underlying': 4641, 'summary': 4290, 'describes': 1196, 'essence': 1521, 'prison': 3401, '3rd': 47, 'familys': 1646, 'church': 813, 'listening': 2620, 'gods': 1928, 'building': 615, 'intrigue': 2333, 'surreal': 4317, 'clues': 865, 'christian': 808, 'catholic': 720, 'chair': 742, 'boredom': 542, 'christians': 809, 'square': 4136, 'jesus': 2399, 'christ': 807, 'challenging': 744, 'camp': 662, 'service': 3896, 'wealthy': 4827, 'cynical': 1093, 'laughing': 2533, 'calls': 654, 'violent': 4748, 'reactions': 3542, 'light': 2595, 'richard': 3686, 'rocks': 3722, 'covers': 1024, 'childhood': 790, 'wild': 4885, 'richards': 3687, 'throwing': 4480, 'praise': 3364, 'opened': 3113, 'outrageous': 3145, 'counter': 1011, 'cultural': 1078, 'behavior': 446, 'experienced': 1581, 'force': 1786, 'seemed': 3862, 'tame': 4363, 'strip': 4228, 'trust': 4598, 'nearly': 2981, 'concert': 935, 'appearance': 274, 'ii': 2226, 'iii': 2227, 'trilogy': 4586, 'prequel': 3372, 'overly': 3155, 'concern': 931, 'creatures': 1046, 'smile': 4036, 'master': 2757, 'luke': 2687, 'factor': 1622, 'push': 3477, 'somehow': 4063, 'wisdom': 4902, 'web': 4833, 'ancient': 225, 'japan': 2381, 'mainly': 2708, 'spiritual': 4116, 'albeit': 173, 'mighty': 2836, 'thriller': 4472, 'bone': 533, 'twisted': 4618, 'buying': 641, 'gang': 1867, 'thugs': 4484, 'chased': 770, 'abandoned': 62, 'rid': 3690, 'politically': 3325, 'correct': 1000, 'asian': 314, 'laughable': 2530, 'fault': 1668, 'shake': 3914, 'respect': 3652, 'warned': 4798, 'staying': 4168, 'showed': 3956, 'crush': 1072, 'friday': 1834, 'miss': 2866, 'sees': 3866, 'selling': 3873, 'season': 3843, 'please': 3304, 'category': 718, 'sinister': 3998, 'fail': 1625, 'disease': 1285, 'hints': 2113, 'darker': 1116, 'willing': 4889, 'reporter': 3636, 'plague': 3285, 'attempt': 340, 'question': 3487, 'motivations': 2915, 'depth': 1190, 'putting': 3482, 'knowing': 2490, 'recognize': 3569, 'thank': 4421, 'staff': 4138, 'nicholas': 3010, 'bell': 458, 'welcome': 4842, 'carradine': 695, 'project': 3427, 'scientists': 3819, 'tiger': 4491, 'scientific': 3817, 'deadly': 1133, 'security': 3854, 'attacked': 338, 'pack': 3165, 'bigger': 479, 'addition': 118, 'agent': 150, 'mate': 2765, 'victims': 4730, 'delivers': 1172, 'scares': 3806, 'mediocre': 2791, 'provides': 3450, 'entertainment': 1500, 'computer': 927, 'players': 3299, 'physical': 3262, 'angel': 231, 'davies': 1125, 'curtis': 1087, 'motion': 2913, 'miller': 2846, 'originality': 3130, 'australian': 357, 'wave': 4818, 'earth': 1403, 'gene': 1879, 'simmons': 3981, 'glass': 1917, 'singer': 3993, 'todays': 4509, 'search': 3841, 'expert': 1585, 'initial': 2290, 'downhill': 1336, 'effect': 1428, 'brilliantly': 584, 'changes': 751, 'lyrics': 2692, 'potential': 3355, 'warren': 4801, 'heads': 2059, 'intent': 2318, 'virginia': 4750, 'smith': 4038, 'ralph': 3510, 'warner': 4799, 'bonus': 534, 'load': 2631, 'subsequent': 4257, 'reasonable': 3558, 'suddenly': 4273, 'suspense': 4330, 'nicely': 3009, 'passes': 3203, 'manner': 2729, 'gentle': 1890, 'edward': 1426, 'gradually': 1952, 'reveals': 3673, 'southern': 4088, 'seemingly': 3863, 'cowboy': 1025, 'changing': 752, 'facial': 1619, 'exactly': 1551, 'uneven': 4649, 'due': 1382, 'protagonists': 3442, 'audiences': 353, 'remain': 3609, 'mess': 2818, 'fashioned': 1660, 'portion': 3338, 'tone': 4517, 'cable': 644, 'air': 164, 'foul': 1810, 'commercial': 902, 'instant': 2305, 'guts': 1999, 'graphics': 1959, 'developed': 1223, 'marvelous': 2750, 'lisa': 2616, 'guest': 1992, 'lovable': 2668, 'jewish': 2401, 'inside': 2297, 'complain': 919, 'stereotype': 4178, 'german': 1896, 'creators': 1044, 'witty': 4917, 'eddie': 1416, 'derek': 1192, 'accepted': 82, 'medical': 2790, 'carry': 700, 'tradition': 4549, 'dennis': 1179, 'accident': 84, 'wound': 4960, 'illness': 2230, 'frank': 1821, 'forty': 1807, 'soap': 4047, 'opera': 3116, 'spending': 4106, 'ex': 1549, 'hooked': 2153, 'step': 4175, 'mom': 2885, 'stiff': 4187, 'twenty': 4612, 'devoid': 1230, 'seriously': 3892, 'recommended': 3572, 'competent': 917, 'levels': 2585, 'neck': 2985, 'skin': 4015, 'department': 1182, 'lab': 2501, 'technically': 4382, 'reasonably': 3559, 'sequels': 3886, 'saved': 3795, 'wasting': 4810, 'stuff': 4243, 'fifteen': 1706, 'guessing': 1991, 'priest': 3392, 'faith': 1633, 'cared': 685, 'superior': 4300, 'genre': 1888, 'steps': 4177, 'individual': 2277, 'martin': 2748, 'jonathan': 2417, 'wes': 4851, 'anymore': 258, 'craven': 1034, 'skills': 4014, 'entertain': 1497, 'graphic': 1958, 'birth': 486, 'utter': 4701, 'hint': 2112, 'introduced': 2337, 'mistake': 2871, 'aliens': 184, 'exact': 1550, 'opposite': 3123, 'trained': 4557, 'amusing': 221, 'inferior': 2285, 'prior': 3400, 'designed': 1203, 'uninteresting': 4660, 'ruth': 3763, 'ice': 2210, 'disappointing': 1274, 'stood': 4199, 'strike': 4224, 'answer': 251, 'specifically': 4100, 'crappy': 1032, 'speech': 4102, 'drops': 1372, 'lowest': 2678, 'scores': 3823, 'uninspired': 4657, 'bother': 548, 'support': 4303, 'theaters': 4428, 'disneys': 1290, 'inspector': 2299, 'gadget': 1860, 'agents': 151, 'forgotten': 1797, 'voiced': 4762, 'wore': 4939, 'sat': 3786, 'hidden': 2096, 'cat': 713, 'crimes': 1056, 'expression': 1602, 'product': 3418, 'everywhere': 1545, 'quick': 3490, 'segments': 3868, 'carol': 693, 'segment': 3867, 'aware': 368, 'latin': 2527, 'bar': 396, 'divorce': 1301, 'tour': 4538, 'contact': 961, 'march': 2734, '2007': 37, 'wow': 4962, 'crap': 1031, 'appealing': 272, 'buddy': 609, 'wishing': 4907, 'miserable': 2863, 'refreshing': 3586, 'paint': 3173, 'conflict': 939, 'suffering': 4277, 'innocent': 2294, 'rate': 3526, 'funeral': 1849, 'blind': 506, 'unbearable': 4633, 'sight': 3969, 'thus': 4486, 'memories': 2803, 'believes': 456, 'solution': 4059, 'conventional': 979, 'pat': 3208, 'uses': 4697, 'effectively': 1430, 'accept': 80, 'teenager': 4390, 'stereotypical': 4180, 'hasnt': 2044, 'population': 3335, 'brains': 563, 'requires': 3642, 'fields': 1705, 'choices': 798, 'depicting': 1184, 'inspired': 2301, 'reaching': 3539, 'diane': 1238, 'foster': 1809, 'grace': 1950, 'provide': 3448, 'officer': 3092, 'savage': 3793, 'required': 3641, 'bland': 500, 'latest': 2526, 'installment': 2303, 'allow': 189, 'flawed': 1750, 'imagination': 2236, 'originally': 3131, 'aired': 165, 'hearted': 2065, 'themes': 4434, 'dramas': 1347, 'comedies': 889, 'commercials': 903, 'underrated': 4642, 'sake': 3775, 'justify': 2439, 'description': 1197, 'survival': 4320, 'anthony': 253, 'neo': 2998, 'dressed': 1358, 'bands': 392, 'burt': 629, 'equipment': 1511, 'couldve': 1009, 'wooden': 4934, 'dry': 1377, 'benefit': 465, 'cheek': 779, '1940s': 13, 'accused': 91, 'quickly': 3491, 'yesterday': 4983, 'madonna': 2699, 'bomb': 531, 'largely': 2518, 'seeking': 3859, 'convinced': 984, 'warm': 4794, 'displayed': 1292, 'credit': 1049, 'wonders': 4931, 'worlds': 4947, 'aint': 163, 'immensely': 2243, 'nomination': 3026, 'relative': 3599, 'nobody': 3022, 'hole': 2132, 'strictly': 4223, 'involves': 2348, 'succeeds': 4264, 'routine': 3743, 'christmas': 810, 'torn': 4528, 'replaced': 3634, 'apartment': 265, 'buildings': 616, 'difficult': 1249, 'murderous': 2942, 'psycho': 3457, 'wandering': 4785, 'listed': 2618, '1980s': 21, 'reputation': 3640, 'built': 618, 'nasty': 2968, 'hearing': 2063, 'sleazy': 4023, 'failed': 1626, 'unoriginal': 4673, 'lacking': 2504, 'throws': 4482, 'poster': 3353, 'positive': 3346, 'suffers': 4278, 'students': 4239, 'double': 1331, 'watchable': 4812, 'row': 3744, 'killers': 2471, 'wondered': 4927, 'execution': 1566, 'capture': 676, 'stereotypes': 4179, 'honest': 2146, 'theyd': 4443, 'fed': 1682, 'absurd': 73, 'april': 284, 'unhappy': 4656, 'happiness': 2031, 'italy': 2368, '16': 8, 'haunting': 2051, 'california': 650, 'boat': 523, 'mary': 2751, 'parallel': 3185, 'spell': 4104, 'simon': 3982, 'plenty': 3307, 'essentially': 1523, 'culture': 1079, 'clue': 864, 'brings': 587, 'enterprise': 1495, 'encounters': 1467, 'creation': 1040, 'trek': 4578, 'check': 777, 'unlikely': 4671, 'mile': 2842, 'chris': 806, 'surviving': 4323, 'titles': 4506, 'persons': 3244, 'struggle': 4234, 'hot': 2174, 'cage': 645, 'footage': 1782, 'farm': 1656, 'coherent': 871, 'format': 1799, 'touching': 4536, 'secondly': 3847, 'johnny': 2410, 'butt': 638, 'relevant': 3604, 'opinions': 3119, 'punk': 3468, 'icon': 2211, 'regular': 3592, 'documentaries': 1306, 'mtv': 2933, 'contrary': 974, 'authentic': 358, 'miserably': 2864, 'roger': 3724, 'draw': 1349, 'games': 1865, 'pushed': 3478, 'fathers': 1667, 'diamond': 1236, 'glover': 1923, 'believing': 457, 'tony': 4521, 'zero': 4996, 'pitch': 3279, 'demands': 1175, 'steals': 4172, 'improved': 2255, 'projects': 3428, 'stinker': 4191, 'senseless': 3878, 'blah': 496, 'charlotte': 766, 'england': 1482, 'eyre': 1614, 'study': 4242, '1983': 22, 'blew': 505, 'timothy': 4499, 'dalton': 1098, 'lover': 2672, 'rochester': 3719, 'versions': 4721, '2006': 36, 'portray': 3340, 'passionate': 3206, 'nature': 2975, 'holds': 2131, 'emotions': 1461, 'fire': 1734, 'devoted': 1231, 'fit': 1740, 'strongly': 4231, 'faithful': 1634, 'introduction': 2339, 'media': 2789, 'experiments': 1584, 'hitchcock': 2123, 'parody': 3192, 'letters': 2582, 'page': 3167, 'slick': 4026, 'offer': 3087, 'purposes': 3475, 'combination': 883, 'fish': 1738, 'swimming': 4338, 'enters': 1496, 'arrive': 300, 'cats': 721, 'jumps': 2432, 'walks': 4780, 'picks': 3268, 'irony': 2357, 'complexity': 924, '2003': 33, 'gundam': 1997, 'wing': 4896, 'politics': 3326, 'pilot': 3276, 'suits': 4287, 'oz': 3160, 'heat': 2067, 'conflicts': 940, 'goal': 1925, 'map': 2733, 'faces': 1618, 'forgive': 1795, 'bodies': 526, 'humorous': 2193, 'balance': 387, 'stage': 4139, 'paranoia': 3186, 'madness': 2698, 'isolated': 2363, 'usa': 4691, 'travel': 4567, 'nazis': 2978, 'choice': 797, 'midnight': 2834, 'urban': 4688, 'glimpse': 1919, 'rough': 3741, 'bud': 607, 'ships': 3935, 'passing': 3204, 'conceived': 929, 'mysteries': 2954, 'returned': 3666, 'thanks': 4423, 'tape': 4365, 'gift': 1906, 'nonetheless': 3029, 'loss': 2659, 'shirley': 3936, 'jackson': 2375, 'hill': 2108, 'atmospheric': 334, 'terror': 4412, 'supernatural': 4302, 'mansion': 2731, 'staged': 4140, 'stays': 4169, 'fortunately': 1805, '1999': 27, 'cinemas': 817, 'oddly': 3081, 'mysterious': 2955, 'assistant': 326, 'irritating': 2359, 'relief': 3605, 'dated': 1119, 'examples': 1554, 'hundreds': 2196, 'decide': 1148, 'channels': 754, 'mel': 2796, 'scale': 3802, 'eyed': 1612, 'ambitious': 211, 'corporate': 998, 'closet': 858, 'responsible': 3656, 'deliver': 1169, 'travels': 4569, 'worn': 4948, 'offers': 3090, 'surprises': 4314, 'task': 4368, 'naturally': 2974, 'rank': 3518, 'favourite': 1673, 'ethan': 1528, 'alexander': 180, 'pathetic': 3210, 'lonely': 2643, 'walter': 4784, 'olivier': 3103, 'maggie': 2702, '11': 2, 'van': 4713, '13': 4, '14': 6, 'fabulous': 1615, '17': 9, 'fortune': 1806, 'samurai': 3779, 'international': 2326, 'excitement': 1562, 'ninja': 3018, 'hype': 2207, 'waited': 4771, 'throw': 4479, 'jason': 2383, 'bed': 436, 'vampire': 4711, 'pursuit': 3476, 'minded': 2850, 'subplots': 4256, 'demon': 1177, 'bothered': 549, 'farce': 1654, 'jerk': 2395, 'sell': 3871, 'subtlety': 4261, 'finale': 1723, 'pig': 3274, 'wrap': 4963, 'revealed': 3671, 'remarks': 3615, 'thoughts': 4464, 'evidence': 1546, 'process': 3412, 'religious': 3608, 'ghosts': 1903, 'clichéd': 845, 'arm': 292, 'spread': 4133, 'water': 4816, 'portrays': 3344, 'higher': 2101, 'equivalent': 1512, 'imagery': 2234, 'sisters': 4002, 'phone': 3255, 'hal': 2006, 'tiny': 4500, 'breaks': 571, 'gags': 1862, 'decades': 1145, 'glad': 1916, 'stiller': 4189, 'neighbors': 2994, 'lifestyle': 2593, 'causes': 725, 'purely': 3472, 'box': 555, 'office': 3091, 'punch': 3466, 'itll': 2369, 'navy': 2976, 'wallace': 4782, 'tall': 4362, 'frequent': 1831, 'centers': 734, 'widow': 4883, 'pulls': 3464, 'flight': 1757, 'leg': 2562, 'join': 2412, 'cash': 709, 'visit': 4755, 'round': 3742, 'walking': 4779, 'ludicrous': 2685, 'stone': 4197, 'gory': 1943, 'unpredictable': 4675, 'highlights': 2104, 'horrid': 2165, 'ignore': 2224, 'connected': 945, 'threat': 4467, 'freedom': 1828, 'flaws': 1752, 'relies': 3606, 'ramones': 3512, 'principal': 3398, 'board': 522, 'nazi': 2977, 'joey': 2408, 'kicked': 2461, 'followed': 1773, 'asking': 318, 'advanced': 128, 'dies': 1245, 'adequate': 120, 'teen': 4388, 'freak': 1824, 'comedian': 887, 'mgm': 2828, 'solely': 4056, 'wrote': 4974, 'jimmy': 2403, 'contrast': 975, 'harder': 2035, 'professor': 3422, 'teaching': 4377, 'stuck': 4237, 'tricks': 4583, 'immediately': 2242, 'broadway': 592, 'opens': 3115, 'assume': 328, 'stinks': 4192, 'todd': 4510, 'broke': 593, 'stunts': 4246, 'burton': 630, 'shocking': 3940, 'misses': 2868, 'noise': 3024, 'fool': 1779, 'horrifying': 2167, 'target': 4366, 'portraying': 3343, 'beaten': 424, 'discussion': 1284, 'racism': 3502, 'endure': 1475, 'understanding': 4645, 'craft': 1028, 'hung': 2197, 'constantly': 958, 'holiday': 2134, 'began': 441, 'agreed': 156, 'theyve': 4446, 'list': 2617, 'swear': 4334, 'wouldve': 4959, 'claimed': 829, 'drugs': 1374, 'drug': 1373, 'related': 3594, 'shut': 3961, 'laid': 2508, 'giallo': 1904, 'clichés': 846, 'psychiatrist': 3455, 'eccentric': 1414, 'familiar': 1643, 'jazz': 2387, 'composed': 926, 'sea': 3838, 'regard': 3588, 'disappoint': 1272, 'idiot': 2218, 'inappropriate': 2259, 'flashbacks': 1747, 'heavily': 2069, 'treatment': 4574, 'bleak': 503, 'dickens': 1240, 'rick': 3689, 'mid': 2832, 'issue': 2364, 'ie': 2221, 'overdone': 3152, 'numerous': 3062, 'london': 2641, 'necessary': 2984, 'editor': 1423, 'losing': 2658, 'novels': 3053, 'essential': 1522, 'seven': 3903, 'georges': 1894, 'demand': 1174, 'marry': 2745, 'understated': 4646, 'involvement': 2347, 'importance': 2246, 'investigation': 2343, 'legal': 2563, 'despair': 1207, 'health': 2060, 'discovery': 1282, 'hadnt': 2004, 'andrew': 228, 'gripping': 1976, 'fourth': 1813, 'godfather': 1927, 'brilliance': 582, 'dimensional': 1253, 'model': 2880, 'vs': 4767, 'toward': 4539, 'continue': 969, 'collection': 874, 'personalities': 3241, 'amanda': 205, 'sexual': 3908, 'cousin': 1021, 'smoke': 4039, 'rated': 3527, 'photo': 3257, 'experiences': 1582, 'recognition': 3568, 'pleasure': 3306, 'combined': 885, 'dialogs': 1233, 'ordinary': 3128, 'extraordinary': 1607, 'captivating': 675, 'pool': 3327, 'placed': 3283, 'fatal': 1664, 'dying': 1393, 'survivors': 4325, 'noble': 3021, 'ideal': 2214, 'dad': 1095, 'popularity': 3334, 'hed': 2072, 'heaven': 2068, 'loyal': 2679, 'thick': 4447, 'passed': 3202, 'baker': 385, 'kung': 2498, 'fu': 1844, 'loads': 2633, 'symbolism': 4341, 'subtitles': 4259, 'north': 3036, 'africa': 141, 'handsome': 2021, 'monk': 2889, 'sympathetic': 4342, 'loves': 2674, 'desert': 1198, 'friendly': 1836, 'henry': 2084, 'comic': 893, 'magnificent': 2705, 'wise': 4903, 'helen': 2075, 'jones': 2418, 'hotel': 2175, 'color': 877, 'colorful': 878, 'daily': 1097, 'soldier': 4053, 'dolph': 1317, 'bold': 528, 'goldberg': 1933, 'martial': 2747, 'arts': 310, 'villain': 4744, 'timing': 4498, 'unintentional': 4658, 'values': 4710, 'elaborate': 1439, 'jean': 2389, 'aforementioned': 139, 'stronger': 4230, 'damage': 1099, 'primarily': 3393, 'block': 508, 'code': 869, 'prevent': 3385, 'revolves': 3682, 'subplot': 4255, 'loaded': 2632, 'kidding': 2465, 'gun': 1996, 'massive': 2756, 'presumably': 3380, 'knock': 2488, 'temple': 4398, 'titled': 4505, 'gray': 1963, 'nostalgic': 3039, 'courage': 1018, 'sacrifice': 3766, 'determined': 1221, '30': 42, 'denzel': 1181, 'souls': 4080, 'resemblance': 3645, 'party': 3200, 'dire': 1257, 'appalling': 268, 'continuity': 972, 'seasons': 3844, 'door': 1328, 'eight': 1436, 'suited': 4286, 'dutch': 1389, 'dear': 1140, 'charismatic': 763, 'bedroom': 437, 'influence': 2286, 'dragged': 1343, 'illegal': 2229, 'distant': 1295, 'presents': 3377, 'remote': 3622, 'intellectual': 2312, 'credibility': 1047, 'humour': 2194, 'aunt': 355, 'relate': 3593, 'arrived': 301, 'kings': 2481, 'successful': 4266, 'careers': 687, 'nuts': 3064, 'talked': 4359, 'remotely': 3623, 'goofy': 1939, 'lacked': 2503, 'frustrated': 1842, 'duo': 1386, 'closing': 859, 'intriguing': 2335, 'settle': 3902, 'argument': 291, 'differences': 1247, 'pretentious': 3383, 'adding': 117, 'adams': 112, 'sandler': 3781, 'bird': 484, '1996': 26, 'gary': 1873, 'psychic': 3456, 'bathroom': 412, 'con': 928, 'vampires': 4712, 'ireland': 2352, 'shines': 3932, 'translation': 4562, 'silver': 3977, 'rental': 3627, 'comics': 895, 'report': 3635, 'sarah': 3785, 'caliber': 649, 'medium': 2792, 'asked': 317, 'rolled': 3729, 'incoherent': 2265, 'miracle': 2860, 'generated': 1882, 'kubrick': 2496, 'library': 2589, 'overacting': 3149, 'frightening': 1839, 'buck': 605, 'annoyed': 248, 'wins': 4899, 'props': 3439, 'ties': 4490, 'contemporary': 965, 'emma': 1457, 'types': 4622, 'hood': 2151, 'bbc': 417, 'intense': 2316, 'monkeys': 2891, 'sword': 4340, 'peoples': 3222, 'official': 3094, 'truck': 4595, 'fred': 1825, 'lou': 2663, 'enjoying': 1487, 'screenwriter': 3833, 'bank': 394, 'boss': 546, 'ironic': 2355, 'advice': 133, 'ps': 3453, 'green': 1971, 'neat': 2982, 'disney': 1289, 'fay': 1674, 'infamous': 2284, 'jeff': 2390, 'intended': 2315, 'via': 4726, 'spoil': 4121, 'angle': 236, 'typically': 4624, 'tracks': 4545, 'depressed': 1187, 'vegas': 4717, 'destroying': 1215, 'beloved': 461, 'hamlet': 2013, 'branagh': 564, 'opposed': 3122, 'cameos': 658, 'minimal': 2855, 'rolling': 3730, 'schools': 3814, '2002': 32, 'research': 3644, 'williams': 4888, 'expressions': 1603, 'anyways': 262, 'smiling': 4037, 'mundane': 2938, 'patient': 3211, 'wholly': 4874, 'cary': 706, 'demented': 1176, 'grant': 1956, 'mummy': 2937, 'dust': 1388, 'asleep': 320, 'everyday': 1541, 'capturing': 679, 'picking': 3267, 'backgrounds': 381, 'sid': 3964, 'winter': 4900, 'cave': 727, 'holy': 2140, 'shelf': 3926, 'pick': 3265, 'butler': 637, 'robinson': 3716, 'andy': 230, 'print': 3399, '60s': 54, 'suffer': 4275, 'rambo': 3511, 'succeeded': 4263, 'criticism': 1063, 'hammer': 2014, 'depicts': 1186, 'harsh': 2040, 'fell': 1690, 'ready': 3546, 'boot': 538, 'figured': 1712, 'incident': 2260, 'colors': 879, 'drawing': 1350, 'multiple': 2936, 'homage': 2141, 'kidnapped': 2466, 'sin': 3988, 'inevitable': 2282, 'invisible': 2344, 'ruthless': 3764, 'cars': 702, 'doom': 1326, 'nevertheless': 3002, 'ward': 4793, 'combine': 884, 'plan': 3287, 'mix': 2876, 'depressing': 1188, 'quirky': 3493, 'unwatchable': 4682, 'respected': 3653, 'sympathy': 4343, 'recorded': 3574, 'renting': 3629, 'attempted': 341, 'avoided': 364, 'daring': 1114, 'involve': 2345, 'performed': 3230, 'niro': 3019, 'michelle': 2830, 'witch': 4909, 'claire': 831, 'danes': 1108, 'loving': 2675, 'neil': 2995, 'poem': 3312, 'exotic': 1574, 'bitter': 491, 'raped': 3522, 'magical': 2704, 'hates': 2048, 'extreme': 1609, 'bond': 532, 'birds': 485, 'ran': 3513, '1973': 19, 'clothes': 860, 'ladies': 2506, 'julie': 2428, 'carrying': 701, 'born': 544, 'murphy': 2944, 'stole': 4194, 'mildred': 2841, 'larry': 2520, 'spin': 4112, 'stretched': 4222, 'sold': 4052, 'starring': 4154, 'ritter': 3705, 'sexy': 3911, 'guilty': 1995, 'depression': 1189, 'caring': 691, 'liberal': 2588, 'cops': 993, 'nuclear': 3057, 'conspiracy': 956, 'escaped': 1518, 'distribution': 1298, 'hey': 2095, 'stooges': 4200, 'ed': 1415, 'thrillers': 4473, 'virtually': 4751, 'jealous': 2388, 'recognized': 3570, 'countless': 1012, 'abuse': 74, 'kelly': 2452, 'law': 2538, 'string': 4227, 'lifetime': 2594, '1950s': 14, 'musicals': 2948, 'prefer': 3368, '40s': 49, 'talents': 4356, 'astaire': 330, 'rogers': 3725, 'powell': 3358, 'ruby': 3749, 'cagney': 646, 'numbers': 3061, 'shoes': 3941, 'teacher': 4375, 'threatening': 4468, 'likes': 2602, 'similarities': 3979, 'andrews': 229, 'singers': 3994, 'rescue': 3643, 'anna': 245, 'cure': 1081, 'bite': 489, 'price': 3389, 'bore': 540, 'simpson': 3987, 'matrix': 2767, '45': 50, 'served': 3894, 'unseen': 4678, 'admittedly': 123, 'misery': 2865, 'arrival': 299, 'anderson': 227, 'kevin': 2457, 'splendid': 4119, 'hiding': 2099, 'surface': 4310, 'secretly': 3851, 'helping': 2081, 'funniest': 1851, 'enthusiasm': 1501, 'weakest': 4825, 'link': 2613, 'draws': 1352, 'surrounded': 4318, 'et': 1526, 'carrie': 697, 'hoffman': 2128, 'carefully': 689, 'bet': 470, 'chinese': 796, 'alex': 179, 'flop': 1760, 'charisma': 762, 'menacing': 2807, 'doc': 1303, 'crash': 1033, 'blade': 495, 'current': 1084, 'sean': 3840, 'pie': 3271, 'bo': 521, 'advantage': 129, 'duke': 1383, 'catherine': 719, 'ripped': 3701, 'paying': 3217, 'upset': 4687, 'imitation': 2241, 'considerable': 950, 'noted': 3045, 'transformation': 4560, 'machine': 2693, 'broad': 590, 'showcase': 3954, 'ground': 1979, 'emphasis': 1463, 'robbins': 3712, 'antics': 255, 'bumbling': 622, 'football': 1783, 'reel': 3581, 'redemption': 3578, 'compelled': 915, 'deserved': 1200, 'month': 2896, 'leslie': 2574, 'wreck': 4965, 'atrocious': 335, 'amongst': 218, 'serve': 3893, 'pleased': 3305, 'choreographed': 801, 'showdown': 3955, 'witness': 4914, 'laws': 2540, 'pot': 3354, 'hide': 2097, 'feed': 1683, 'ham': 2011, 'profound': 3423, 'chick': 786, 'corner': 996, 'forgot': 1796, 'lying': 2690, 'planned': 3290, 'pan': 3180, 'snl': 4044, 'awards': 367, 'practice': 3363, 'dude': 1381, 'guard': 1988, 'raymond': 3534, 'lips': 2615, 'domino': 1319, 'forced': 1787, 'dress': 1357, 'afterwards': 145, 'quit': 3494, 'rats': 3531, 'sleep': 4024, 'virus': 4752, 'proceeds': 3411, 'racist': 3503, 'smooth': 4041, 'lower': 2677, 'fellow': 1691, 'presentation': 3375, 'faced': 1617, '1960s': 15, 'likewise': 2603, 'downright': 1337, 'efforts': 1433, 'theyll': 4444, 'worry': 4950, 'feminist': 1695, 'perspective': 3245, 'proved': 3446, 'knowledge': 2491, 'movement': 2923, 'wealth': 4826, 'develop': 1222, 'rage': 3505, 'dignity': 1252, 'contain': 962, 'broadcast': 591, 'halloween': 2010, 'fooled': 1780, 'notion': 3050, 'treasure': 4571, 'bride': 577, 'ups': 4686, 'irrelevant': 2358, 'post': 3352, 'gas': 1874, 'seagal': 3839, 'hired': 2117, 'gonna': 1936, 'masterful': 2758, 'houses': 2180, 'program': 3424, 'mothers': 2912, 'hurts': 2203, 'states': 4163, 'oil': 3097, 'greater': 1965, 'recording': 3575, 'september': 3884, 'terrorist': 4413, 'attacks': 339, 'weapon': 4828, 'korean': 2495, 'china': 795, 'plight': 3308, 'wolf': 4920, 'proof': 3434, 'east': 1407, 'drunken': 1376, 'signs': 3973, 'berlin': 467, 'phony': 3256, 'streets': 4217, 'clown': 862, 'response': 3654, 'nightmares': 3015, 'twilight': 4614, 'zone': 4999, 'riveting': 3708, 'uncomfortable': 4637, 'appearing': 277, 'questions': 3489, 'answers': 252, 'serving': 3897, 'unit': 4663, 'cooper': 990, 'realizes': 3554, 'comfortable': 892, 'homosexual': 2145, 'condition': 937, 'dirty': 1268, 'account': 89, 'dealt': 1138, 'johnson': 2411, 'closer': 856, 'neighbor': 2992, 'basketball': 409, 'bound': 553, 'tortured': 4530, 'dogs': 1311, 'unusual': 4681, 'chilling': 794, 'excessive': 1560, 'elephant': 1444, 'event': 1535, 'troubled': 4593, 'anger': 235, 'creep': 1051, 'blair': 497, 'vast': 4716, 'offered': 3088, 'officers': 3093, 'destroyed': 1214, 'greed': 1968, 'hunt': 2198, 'taylor': 4372, 'characterization': 759, 'sadistic': 3768, 'joined': 2413, 'stewart': 4184, 'evident': 1547, 'indians': 2275, 'generous': 1886, 'lloyd': 2630, 'brooks': 596, 'slaughter': 4021, 'storm': 4206, 'properly': 3437, 'delivery': 1173, 'dentist': 1180, 'toilet': 4512, 'digital': 1251, 'painted': 3174, 'limits': 2607, 'mistress': 2874, 'philip': 3252, 'bear': 420, 'orders': 3127, 'cook': 988, 'airport': 167, 'plane': 3288, 'panic': 3181, 'cox': 1026, 'forest': 1791, 'hello': 2078, 'academy': 77, 'award': 366, 'masterpieces': 2760, 'fears': 1677, 'moral': 2902, 'omen': 3104, 'st': 4137, 'karen': 2444, 'suspicious': 4332, 'hilariously': 2107, 'singing': 3995, 'measure': 2786, 'keeping': 2450, 'satan': 3787, 'moronic': 2907, 'distance': 1294, 'sounding': 4083, 'frustration': 1843, 'choose': 799, 'onto': 3111, 'allowing': 191, 'beliefs': 452, 'ted': 4386, 'turner': 4607, 'los': 2653, 'angeles': 233, 'rangers': 3517, 'court': 1020, 'chicago': 785, 'rule': 3753, 'championship': 745, 'send': 3875, 'troubles': 4594, 'pleasantly': 3303, 'melting': 2799, 'gross': 1978, 'trashy': 4566, 'survivor': 4324, 'nelson': 2997, 'switch': 4339, 'campy': 664, 'natural': 2973, 'jay': 2386, 'performers': 3232, 'extent': 1605, 'garbo': 1871, 'rat': 3525, 'realism': 3549, 'empathy': 1462, 'persona': 3239, 'domestic': 1318, 'driven': 1365, 'purple': 3473, 'lees': 2560, 'dislike': 1288, 'lincoln': 2608, 'vice': 4727, 'lust': 2689, 'inner': 2292, 'colour': 880, 'copies': 992, 'disappeared': 1271, 'ensues': 1493, 'mere': 2814, 'laurel': 2537, 'shoots': 3944, 'solo': 4058, 'appearances': 275, 'sunshine': 4294, 'families': 1644, 'india': 2273, 'techniques': 4384, 'torture': 4529, 'demons': 1178, 'serves': 3895, 'spectacular': 4101, 'spots': 4132, '1st': 28, 'rendition': 3625, 'assigned': 325, 'consistently': 954, 'remind': 3618, 'paced': 3162, 'community': 908, 'sullivan': 4288, 'disturbed': 1299, 'meanwhile': 2785, 'shape': 3919, 'endings': 1472, 'marketing': 2741, 'poetic': 3313, 'descent': 1193, 'luck': 2681, 'innocence': 2293, 'interpretation': 2328, 'cards': 683, 'superman': 4301, 'wannabe': 4787, 'impress': 2250, 'hat': 2045, 'unconvincing': 4638, 'prize': 3405, 'journalist': 2420, 'realise': 3548, 'resources': 3651, 'threw': 4470, 'popcorn': 3331, 'slap': 4018, 'meat': 2787, 'improve': 2254, 'rules': 3754, 'buddies': 608, 'finger': 1731, 'stargate': 4151, 'colonel': 876, 'carter': 703, 'alien': 183, 'defeat': 1157, 'regardless': 3590, 'carried': 698, 'mitchell': 2875, 'former': 1800, 'host': 2173, 'hank': 2024, 'valuable': 4708, 'dropped': 1370, 'resulting': 3661, 'sky': 4017, 'britain': 588, 'countries': 1013, 'atlantis': 332, 'plans': 3292, 'gain': 1863, 'confidence': 938, 'caine': 647, 'trade': 4547, 'rex': 3683, 'helicopter': 2076, 'morality': 2903, 'progress': 3425, 'sole': 4055, 'safe': 3771, 'tribute': 4581, 'grave': 1962, 'survive': 4321, 'prom': 3429, 'useless': 4695, 'shell': 3927, 'crowd': 1067, 'eighties': 1437, 'clint': 850, 'eastwood': 1409, 'sincere': 3991, 'dinner': 1254, 'ruined': 3751, 'lol': 2640, 'figures': 1713, 'chose': 804, 'blank': 501, 'unfortunate': 4653, 'remarkably': 3614, 'blond': 510, 'manage': 2722, 'cardboard': 682, 'activities': 102, 'topless': 4527, 'kissing': 2484, 'refuses': 3587, 'method': 2824, 'alice': 182, 'fictional': 1703, 'genuinely': 1892, 'ann': 244, 'dawn': 1127, 'learns': 2553, 'revelation': 3674, 'museum': 2945, 'builds': 617, 'acceptable': 81, 'veteran': 4724, 'jon': 2416, 'pg': 3250, 'intention': 2319, 'interview': 2329, 'scope': 3821, 'blue': 518, 'overcome': 3151, 'vhs': 4725, 'bin': 483, 'sent': 3880, 'spain': 4091, 'weapons': 4829, 'odds': 3082, 'wear': 4830, 'insane': 2296, 'attend': 344, 'site': 4005, 'trailer': 4554, 'spooky': 4128, 'brand': 565, 'namely': 2962, 'elm': 1447, 'careful': 688, 'lesser': 2576, 'attorney': 348, 'goodness': 1938, 'alcohol': 176, 'skill': 4013, 'dynamic': 1394, 'evening': 1534, 'balls': 390, 'movements': 2924, 'wilson': 4891, 'endearing': 1469, 'carries': 699, 'flashback': 1746, 'lemmon': 2567, 'matthau': 2771, 'shelley': 3928, 'photos': 3261, 'grinch': 1975, 'chuck': 812, 'carrey': 696, 'satisfied': 3789, 'rabbit': 3498, 'directly': 1263, 'folk': 1770, 'selfish': 3870, 'crucial': 1068, 'santa': 3783, 'morning': 2906, 'crude': 1069, 'myers': 2952, 'ensemble': 1492, 'wedding': 4836, 'bacall': 377, 'providing': 3451, 'trap': 4563, 'alternate': 200, 'bollywood': 530, 'stilted': 4190, 'met': 2822, 'philosophical': 3253, 'village': 4743, 'visible': 4753, 'propaganda': 3435, 'favorites': 1672, 'sinatra': 3989, 'lit': 2621, 'moon': 2900, 'curse': 1086, 'notable': 3041, 'heroic': 2090, 'sidekick': 3966, 'unintentionally': 4659, 'kicks': 2463, 'extras': 1608, 'offensive': 3086, '3d': 46, 'em': 1452, 'detailed': 1218, 'enemy': 1477, 'doors': 1329, 'rooms': 3736, 'knife': 2487, 'instantly': 2306, 'shall': 3916, 'bush': 632, 'tear': 4379, 'yelling': 4980, 'trapped': 4564, 'warmth': 4796, 'vivid': 4760, 'handful': 2017, 'partly': 3197, 'carl': 692, 'provoking': 3452, 'cleverly': 842, 'separate': 3883, 'streisand': 4218, 'leonard': 2572, 'halfway': 2008, 'sings': 3997, 'blues': 519, 'delivering': 1171, 'pearl': 3220, 'poverty': 3357, 'sun': 4292, 'triumph': 4590, 'twelve': 4611, 'willis': 4890, 'cole': 873, '1990': 24, 'jackie': 2374, 'ranks': 3519, 'chan': 746, 'lawyer': 2541, 'defend': 1158, 'daughters': 1122, 'identify': 2216, 'wrapped': 4964, 'stale': 4141, 'erotic': 1515, 'lively': 2627, 'incomprehensible': 2267, 'seat': 3845, 'dances': 1106, 'mechanical': 2788, 'bull': 619, '1980': 20, 'split': 4120, 'shortly': 3947, 'roman': 3731, 'lie': 2590, 'bettie': 473, 'synopsis': 4344, 'resist': 3648, 'pages': 3168, 'sexually': 3910, '60': 53, 'rise': 3702, 'catches': 715, 'thief': 4448, 'mouse': 2919, '2nd': 41, 'engaged': 1480, 'mexican': 2826, 'superficial': 4298, 'disgusting': 1286, 'mindless': 2851, 'celebrity': 729, 'existed': 1570, 'suffered': 4276, 'terrifying': 4410, 'property': 3438, 'buried': 624, 'jenny': 2393, 'mickey': 2831, 'estate': 1525, 'airplane': 166, 'undoubtedly': 4648, 'rings': 3699, 'louis': 2665, 'sticks': 4186, 'mature': 2773, 'chorus': 803, 'adorable': 124, 'memory': 2804, 'tea': 4373, 'flawless': 1751, 'perfection': 3225, 'stellar': 4174, 'territory': 4411, 'integrity': 2311, 'hop': 2154, 'fetched': 1698, 'messages': 2820, 'ultra': 4629, 'reviewers': 3678, 'climactic': 848, 'caused': 724, 'lucky': 2683, 'develops': 1226, 'sandra': 3782, 'jennifer': 2392, 'assault': 324, 'trademark': 4548, 'jaw': 2384, 'dropping': 1371, 'virgin': 4749, 'eve': 1532, '3000': 43, 'cringe': 1059, 'piano': 3264, 'childish': 791, 'sends': 3876, 'duty': 1390, 'warn': 4797, 'teens': 4392, 'everyones': 1543, 'punishment': 3467, 'basis': 408, 'busy': 635, 'maker': 2714, 'nyc': 3065, 'slapstick': 4019, 'anne': 246, 'suggests': 4282, 'construction': 960, 'seventies': 3904, 'homer': 2144, 'legend': 2564, 'wells': 4845, 'physically': 3263, 'polanski': 3321, 'suitable': 4285, '1933': 12, 'drives': 1367, 'exceptional': 1558, 'interaction': 2322, 'meeting': 2794, 'catching': 716, 'definition': 1163, 'pro': 3406, 'attitude': 346, 'sexuality': 3909, 'dancers': 1105, 'primary': 3394, 'awfully': 373, 'pulling': 3463, 'depicted': 1183, 'modesty': 2883, 'aimed': 162, 'remaining': 3610, 'orange': 3125, 'cities': 823, 'judy': 2426, 'eva': 1531, 'maria': 2736, 'grey': 1973, 'winds': 4895, 'tooth': 4524, 'sadness': 3770, 'reached': 3537, 'devils': 1229, 'circumstances': 822, 'desired': 1206, 'grown': 1984, 'experiment': 1583, 'insulting': 2310, 'survived': 4322, 'generations': 1884, 'empire': 1464, 'grandfather': 1954, 'walken': 4777, 'tad': 4347, 'scenario': 3808, 'shirt': 3937, 'purchase': 3469, 'parent': 3187, 'advance': 127, 'voight': 4764, 'reynolds': 3684, 'beatty': 427, 'suspenseful': 4331, 'sheriff': 3929, 'mountain': 2917, 'thrill': 4471, 'danger': 1109, 'reunion': 3669, 'dave': 1123, 'explore': 1594, 'cube': 1076, 'insult': 2309, 'exercise': 1568, 'dinosaurs': 1256, 'kinda': 2477, 'scooby': 3820, 'doo': 1325, 'travesty': 4570, 'mill': 2845, 'hundred': 2195, 'dinosaur': 1255, 'terrorists': 4414, 'promises': 3432, 'eg': 1434, 'hip': 2114, 'drags': 1345, 'distinct': 1296, 'bag': 384, 'urge': 4689, 'intensity': 2317, 'literature': 2623, 'gag': 1861, 'dialogues': 1235, 'saves': 3796, 'hamilton': 2012, 'jaws': 2385, 'birthday': 487, 'newspaper': 3006, 'jamie': 2379, 'donna': 1323, 'maintain': 2710, 'simplistic': 3985, 'teeth': 4393, 'mild': 2839, 'outcome': 3142, 'advise': 134, 'nowadays': 3055, 'chaplin': 756, 'pointed': 3317, 'hart': 2041, 'widely': 4881, 'chases': 771, 'hbo': 2055, 'blowing': 515, 'occasion': 3073, 'edie': 1419, 'matches': 2764, 'nancy': 2964, 'bullets': 621, 'authority': 360, 'religion': 3607, 'empty': 1465, 'indie': 2276, 'rural': 3758, 'convincingly': 986, 'warming': 4795, 'meaningless': 2782, 'pays': 3218, 'eaten': 1412, 'advertising': 132, 'explored': 1595, 'mayor': 2777, 'unsettling': 4679, 'ho': 2127, 'wicked': 4879, 'sixties': 4011, 'chooses': 800, 'creativity': 1042, 'raise': 3507, 'ear': 1397, 'hippie': 2115, 'feet': 1688, 'hanks': 2025, 'witches': 4910, 'strangers': 4214, 'ya': 4976, 'daddy': 1096, 'unreal': 4676, 'boom': 537, 'magazine': 2701, 'drivel': 1364, 'mst3k': 2932, 'producing': 3417, 'scientist': 3818, 'lion': 2614, 'elvira': 1450, 'classical': 836, 'wives': 4918, 'overlooked': 3154, 'belongs': 460, 'reads': 3545, 'audio': 354, 'spoke': 4125, 'whoever': 4872, 'taxi': 4371, 'extended': 1604, 'stealing': 4171, 'fired': 1735, 'jobs': 2406, 'flash': 1745, 'established': 1524, 'intentionally': 2320, 'husbands': 2205, 'miscast': 2862, 'topic': 4526, 'streep': 4215, 'challenge': 743, 'tends': 4402, 'combat': 882, 'ridiculously': 3694, 'luckily': 2682, 'nearby': 2980, 'historically': 2120, 'greek': 1970, 'ease': 1404, 'adapted': 114, 'contained': 963, 'akshay': 169, 'abraham': 69, 'consequences': 947, 'genres': 1889, 'stolen': 4195, 'wed': 4835, 'parties': 3196, 'controversial': 978, 'nail': 2957, 'models': 2881, 'necessarily': 2983, 'confusion': 943, 'embarrassing': 1454, 'prisoners': 3403, 'cell': 730, 'prisoner': 3402, 'tiresome': 4502, 'abilities': 64, 'futuristic': 1857, 'vincent': 4746, 'junior': 2435, 'mars': 2746, 'shallow': 3917, 'blake': 498, 'fbi': 1675, 'attached': 336, 'sue': 4274, 'quotes': 3497, 'splatter': 4118, 'whale': 4857, 'females': 1694, 'fond': 1776, 'analysis': 224, 'wet': 4855, 'phantom': 3251, 'handle': 2018, 'burns': 628, 'mentioning': 2812, 'oscars': 3134, 'causing': 726, 'revealing': 3672, 'opportunities': 3120, 'plant': 3293, 'styles': 4250, 'tunes': 4603, 'critic': 1061, 'gandhi': 1866, 'redeeming': 3577, 'kenneth': 2455, 'proud': 3444, 'costs': 1004, '40': 48, 'rising': 3703, 'morris': 2908, '20th': 38, 'guilt': 1994, 'westerns': 4854, 'competition': 918, 'accomplished': 87, 'hyde': 2206, '30s': 44, 'watches': 4814, '35': 45, 'fascinated': 1657, 'soft': 4051, 'border': 539, 'access': 83, 'rotten': 3740, 'warriors': 4803, 'traveling': 4568, 'companion': 909, 'lena': 2568, 'macy': 2695, 'kudos': 2497, 'spy': 4135, 'linda': 2609, 'aging': 153, 'ingredients': 2289, 'enjoys': 1489, 'honesty': 2148, 'disbelief': 1277, 'poetry': 3314, 'eager': 1396, 'beating': 425, 'iraq': 2351, 'metal': 2823, 'ticket': 4487, 'scarecrow': 3804, 'tonight': 4519, 'floating': 1758, 'sappy': 3784, 'dig': 1250, 'importantly': 2248, 'subjects': 4254, 'montage': 2894, 'intentions': 2321, 'testament': 4417, 'afford': 138, 'partner': 3198, 'fonda': 1777, 'explains': 1589, 'babe': 375, 'substance': 4258, 'educational': 1425, 'influenced': 2287, 'bullet': 620, 'formulaic': 1803, 'hitler': 2124, 'civilization': 827, 'winters': 4901, 'waitress': 4773, 'loser': 2655, 'kicking': 2462, 'resort': 3650, 'dolls': 1316, 'comical': 894, 'mentions': 2813, 'comparing': 913, 'machines': 2694, 'trial': 4580, 'overrated': 3156, 'brown': 601, 'celluloid': 731, 'porno': 3337, 'grab': 1949, 'minimum': 2856, 'throat': 4476, 'failure': 1629, 'associated': 327, 'witnesses': 4916, 'muslim': 2949, 'poignant': 3315, 'belief': 451, 'introduces': 2338, 'affect': 136, 'royal': 3746, 'dating': 1120, 'nights': 3016, 'landing': 2512, 'photographer': 3259, 'writes': 4970, 'landscapes': 2514, 'ha': 2002, 'tap': 4364, 'blob': 507, 'restored': 3659, 'philosophy': 3254, 'explosion': 1596, 'returning': 3667, 'stress': 4220, 'louise': 2666, 'gifted': 1907, 'teenagers': 4391, 'jet': 2400, 'awake': 365, 'inducing': 2279, 'homeless': 2143, 'lumet': 2688, 'fulci': 1845, 'shark': 3921, 'ashamed': 312, 'snake': 4042, 'ballet': 389, 'removed': 3624, 'market': 2740, 'proceedings': 3410, 'apes': 267, 'visuals': 4759, 'racial': 3501, 'alcoholic': 177, 'nonsensical': 3031, 'seed': 3856, 'calm': 655, 'exposed': 1598, 'widmark': 4882, 'vengeance': 4719, 'menace': 2806, 'ironically': 2356, 'logical': 2639, 'communist': 907, 'firstly': 1737, 'conservative': 948, 'obsession': 3070, 'spike': 4111, 'occurred': 3077, 'gerard': 1895, 'secrets': 3852, 'spider': 4109, 'petty': 3249, 'shower': 3957, 'polished': 3323, 'fairy': 1632, 'deals': 1137, 'canada': 666, 'canadian': 667, 'outer': 3143, 'connect': 944, 'walker': 4778, 'lily': 2605, 'manipulative': 2727, 'admire': 121, 'operation': 3117, 'jesse': 2397, 'peters': 3248, '80': 58, 'reduced': 3579, 'saga': 3773, 'pit': 3278, 'tremendous': 4579, 'beats': 426, 'expressed': 1601, 'hopper': 2161, 'marty': 2749, 'behave': 445, 'cannibal': 669, 'letter': 2581, 'karloff': 2445, 'pink': 3277, 'mann': 2728, 'cd': 728, 'featured': 1679, 'margaret': 2735, 'sum': 4289, 'flynn': 1765, 'howard': 2182, 'reflection': 3585, 'motivation': 2914, 'rap': 3520, 'severe': 3906, 'li': 2587, 'factory': 1623, 'continued': 970, 'reaches': 3538, 'responsibility': 3655, 'pretending': 3382, 'chicks': 787, 'weight': 4840, 'greedy': 1969, 'kay': 2447, 'treats': 4575, 'receives': 3565, 'worried': 4949, 'franco': 1820, 'wrestling': 4966, '13th': 5, 'imagined': 2239, 'merits': 2817, 'freddy': 1826, 'mario': 2738, 'matched': 2763, 'australia': 356, 'godzilla': 1929, 'pet': 3246, 'purchased': 3470, 'online': 3109, 'wizard': 4919, 'offering': 3089, 'inventive': 2341, 'bare': 398, 'brando': 566, 'silence': 3974, 'bela': 450, 'lugosi': 2686, 'dracula': 1341, 'womens': 4924, 'borrowed': 545, 'ginger': 1908, 'ron': 3734, 'pamela': 3179, 'ken': 2453, '1984': 23, 'ridden': 3691, 'tomatoes': 4515, 'semi': 3874, 'generic': 1885, 'marks': 2742, 'scrooge': 3837, 'stevens': 4183, 'hudson': 2184, 'dorothy': 1330, 'bargain': 400, 'staring': 4152, 'robots': 3718, 'cg': 739, 'vaguely': 4706, 'household': 2179, 'morgan': 2905, 'freeman': 1829, 'columbo': 881, 'hook': 2152, 'drew': 1360, 'attitudes': 347, 'rival': 3706, 'lengthy': 2570, 'beer': 439, 'mixture': 2878, 'germans': 1897, 'der': 1191, 'relations': 3596, 'invasion': 2340, 'cinematographer': 819, 'stated': 4161, 'acid': 95, 'destiny': 1212, 'hitting': 2126, 'arnold': 296, 'notes': 3046, 'exposure': 1599, 'wished': 4905, 'earned': 1401, 'cruise': 1071, 'tracy': 4546, 'retired': 3664, '24': 39, 'priceless': 3390, 'fury': 1855, 'ignored': 2225, 'vietnam': 4735, 'damon': 1101, 'clips': 852, 'blend': 504, 'crocodile': 1065, 'aids': 161, 'perry': 3237, 'nostalgia': 3038, 'dedicated': 1153, 'ignorant': 2223, 'deaf': 1134, 'toys': 4543, 'catchy': 717, 'species': 4098, 'ears': 1402, 'monkey': 2890, 'questionable': 3488, 'bang': 393, 'improvement': 2256, 'sport': 4129, 'belong': 459, 'campbell': 663, 'ape': 266, 'cia': 814, 'slightest': 4028, 'stretch': 4221, 'spielberg': 4110, 'fx': 1858, 'manhattan': 2726, 'wacky': 4769, 'armed': 293, 'easier': 1405, 'frankenstein': 1822, 'signed': 3971, 'smaller': 4034, 'dawson': 1128, 'gender': 1878, 'boll': 529, 'uwe': 4703, 'yellow': 4981, 'artificial': 306, 'eastern': 1408, 'betty': 474, 'clumsy': 866, 'patients': 3212, 'sophisticated': 4075, 'heston': 2094, 'notably': 3042, 'album': 175, 'ad': 110, 'roots': 3738, 'iron': 2354, 'steel': 4173, 'pal': 3177, 'seeks': 3860, 'tommy': 4516, 'amy': 222, 'kennedy': 2454, 'disc': 1278, 'unaware': 4632, 'rocket': 3721, 'holly': 2136, 'suspend': 4329, 'bottle': 550, 'dreary': 1356, 'khan': 2459, 'brosnan': 597, 'suggested': 4281, 'hardy': 2037, 'surfing': 4311, 'forbidden': 1785, 'screens': 3832, 'superhero': 4299, 'fix': 1744, 'bakshi': 386, 'amitabh': 216, 'pokemon': 3320, 'gabriel': 1859, 'justin': 2440, 'contest': 967, 'felix': 1689, 'trailers': 4555}\n"
     ]
    }
   ],
   "source": [
    "print(str(vocabulary))"
   ]
  },
  {
   "cell_type": "markdown",
   "metadata": {},
   "source": [
    "Once you have added the endpoint name to the Lambda function, click on **Save**. Your Lambda function is now up and running. Next we need to create a way for our web app to execute the Lambda function."
   ]
  },
  {
   "cell_type": "markdown",
   "metadata": {},
   "source": [
    "### Setting up API Gateway\n",
    "\n",
    "Now that our Lambda function is set up, it is time to create a new API using API Gateway that will trigger the Lambda function we have just created.\n",
    "\n",
    "Using AWS Console, navigate to **Amazon API Gateway** and then click on **Get started**.\n",
    "\n",
    "On the next page, make sure that **New API** is selected and give the new api a name, for example, `sentiment_analysis_web_app`. Then, click on **Create API**.\n",
    "\n",
    "Now we have created an API, however it doesn't currently do anything. What we want it to do is to trigger the Lambda function that we created earlier.\n",
    "\n",
    "Select the **Actions** dropdown menu and click **Create Method**. A new blank method will be created, select its dropdown menu and select **POST**, then click on the check mark beside it.\n",
    "\n",
    "For the integration point, make sure that **Lambda Function** is selected and click on the **Use Lambda Proxy integration**. This option makes sure that the data that is sent to the API is then sent directly to the Lambda function with no processing. It also means that the return value must be a proper response object as it will also not be processed by API Gateway.\n",
    "\n",
    "Type the name of the Lambda function you created earlier into the **Lambda Function** text entry box and then click on **Save**. Click on **OK** in the pop-up box that then appears, giving permission to API Gateway to invoke the Lambda function you created.\n",
    "\n",
    "The last step in creating the API Gateway is to select the **Actions** dropdown and click on **Deploy API**. You will need to create a new Deployment stage and name it anything you like, for example `prod`.\n",
    "\n",
    "You have now successfully set up a public API to access your SageMaker model. Make sure to copy or write down the URL provided to invoke your newly created public API as this will be needed in the next step. This URL can be found at the top of the page, highlighted in blue next to the text **Invoke URL**."
   ]
  },
  {
   "cell_type": "markdown",
   "metadata": {},
   "source": [
    "## Step 7: Deploying our web app\n",
    "\n",
    "Now that we have a publicly available API, we can start using it in a web app. For our purposes, we have provided a simple static html file which can make use of the public api you created earlier.\n",
    "\n",
    "In the `website` folder there should be a file called `index.html`. Download the file to your computer and open that file up in a text editor of your choice. There should be a line which contains **\\*\\*REPLACE WITH PUBLIC API URL\\*\\***. Replace this string with the url that you wrote down in the last step and then save the file.\n",
    "\n",
    "Now, if you open `index.html` on your local computer, your browser will behave as a local web server and you can use the provided site to interact with your SageMaker model.\n",
    "\n",
    "If you'd like to go further, you can host this html file anywhere you'd like, for example using github or hosting a static site on Amazon's S3. Once you have done this you can share the link with anyone you'd like and have them play with it too!\n",
    "\n",
    "> **Important Note** In order for the web app to communicate with the SageMaker endpoint, the endpoint has to actually be deployed and running. This means that you are paying for it. Make sure that the endpoint is running when you want to use the web app but that you shut it down when you don't need it, otherwise you will end up with a surprisingly large AWS bill."
   ]
  },
  {
   "cell_type": "markdown",
   "metadata": {},
   "source": [
    "### Delete the endpoint\n",
    "\n",
    "Remember to always shut down your endpoint if you are no longer using it. You are charged for the length of time that the endpoint is running so if you forget and leave it on you could end up with an unexpectedly large bill."
   ]
  },
  {
   "cell_type": "code",
   "execution_count": 50,
   "metadata": {},
   "outputs": [],
   "source": [
    "xgb_predictor.delete_endpoint()"
   ]
  },
  {
   "cell_type": "markdown",
   "metadata": {},
   "source": [
    "## Optional: Clean up\n",
    "\n",
    "The default notebook instance on SageMaker doesn't have a lot of excess disk space available. As you continue to complete and execute notebooks you will eventually fill up this disk space, leading to errors which can be difficult to diagnose. Once you are completely finished using a notebook it is a good idea to remove the files that you created along the way. Of course, you can do this from the terminal or from the notebook hub if you would like. The cell below contains some commands to clean up the created files from within the notebook."
   ]
  },
  {
   "cell_type": "code",
   "execution_count": null,
   "metadata": {},
   "outputs": [],
   "source": [
    "# First we will remove all of the files contained in the data_dir directory\n",
    "!rm $data_dir/*\n",
    "\n",
    "# And then we delete the directory itself\n",
    "!rmdir $data_dir\n",
    "\n",
    "# Similarly we remove the files in the cache_dir directory and the directory itself\n",
    "!rm $cache_dir/*\n",
    "!rmdir $cache_dir"
   ]
  },
  {
   "cell_type": "code",
   "execution_count": null,
   "metadata": {},
   "outputs": [],
   "source": []
  }
 ],
 "metadata": {
  "kernelspec": {
   "display_name": "Python 3",
   "language": "python",
   "name": "python3"
  },
  "language_info": {
   "codemirror_mode": {
    "name": "ipython",
    "version": 3
   },
   "file_extension": ".py",
   "mimetype": "text/x-python",
   "name": "python",
   "nbconvert_exporter": "python",
   "pygments_lexer": "ipython3",
   "version": "3.8.2"
  }
 },
 "nbformat": 4,
 "nbformat_minor": 2
}
